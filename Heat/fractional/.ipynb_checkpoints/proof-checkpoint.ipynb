{
 "cells": [
  {
   "cell_type": "markdown",
   "id": "3ef0ba9f-2e89-4a26-aefa-843fa09bb7ec",
   "metadata": {},
   "source": [
    "# Set up"
   ]
  },
  {
   "cell_type": "code",
   "execution_count": null,
   "id": "d0341331",
   "metadata": {},
   "outputs": [],
   "source": [
    "using IntervalArithmetic, Combinatorics, Polynomials, Serialization, LinearAlgebra, Plots, LaTeXStrings"
   ]
  },
  {
   "cell_type": "code",
   "execution_count": null,
   "id": "5d509d5e-80bd-4621-9029-61bcfd7e8979",
   "metadata": {},
   "outputs": [],
   "source": [
    "# start here with precomputed vandermonde matrices\n",
    "n = 1200\n",
    "\n",
    "# approximate solution\n",
    "Ū = interval.(deserialize(\"Ubar\"));\n",
    "\n",
    "# regularised Vandermonde matrices for calculating u\\bar\n",
    "V̄1 = deserialize(\"V1r\")\n",
    "V̄3 = deserialize(\"V3r\")\n",
    "# regularised Vandermonde matrices for 2p and p+1 products\n",
    "V̄8 = deserialize(\"V8r\")\n",
    "V̄10 = deserialize(\"V10r\")\n",
    "p = interval(5//3)\n",
    "d = 2\n",
    "α = d//2\n",
    "Z = interval(4)*interval(BigFloat, π)\n",
    "\n",
    "# m = n+1, (n+1)ᵗʰ eigenvalue\n",
    "λₘ = interval(d//2+n+1)\n",
    "λ₀ = interval(d//2);"
   ]
  },
  {
   "cell_type": "code",
   "execution_count": null,
   "id": "08b95160-ffa2-4a20-b44a-9823a346ff29",
   "metadata": {},
   "outputs": [],
   "source": [
    "# Define ū\n",
    "ū = V̄1'*((V̄3*interval(Ū)).^3);"
   ]
  },
  {
   "cell_type": "code",
   "execution_count": null,
   "id": "b6d2202a",
   "metadata": {},
   "outputs": [],
   "source": [
    "𝔏 = Diagonal(interval.(BigFloat,collect(0:n)).+λ₀);"
   ]
  },
  {
   "cell_type": "code",
   "execution_count": null,
   "id": "ecd1e51d-efd0-44be-8687-f1f06b87268f",
   "metadata": {},
   "outputs": [],
   "source": [
    "function interval64(x::Interval)\n",
    "    isguaranteed(x) || error(\"interval is not guaranteed\")\n",
    "    return interval(Float64(inf(x), RoundDown), Float64(sup(x), RoundUp))\n",
    "end\n",
    "LinearAlgebra.norm(v::Vector) = sqrt(sum(v.^2))\n",
    "\n",
    "# computes Lᵖ/H¹ norms before taking fractional exponent\n",
    "function L2(u)\n",
    "    return sum(u.^2)\n",
    "end\n",
    "\n",
    "function H2(u)\n",
    "    return sum((𝔏*u).^2)\n",
    "end\n",
    "\n",
    "function L103(u)\n",
    "    return sum(cbrt.(V̄10*u).^10)\n",
    "end\n",
    "\n",
    "# rigorous upper bound of the 2-norm of a matrix\n",
    "function op_norm(A)\n",
    "    if size(A) == (2,2)\n",
    "        Z = sqrt(sum(A.^2) + sqrt(((A[1,2]+A[2,1])^2+(A[1,1]-A[2,2])^2)*((A[1,2]-A[2,1])^2+(A[1,1]+A[2,2])^2)))/sqrt(interval(2))\n",
    "        if isguaranteed(Z)\n",
    "            return interval(sup(Z))\n",
    "        else\n",
    "            return Z\n",
    "        end\n",
    "    else\n",
    "        all(isguaranteed.(A)) || error(\"matrix not guaranteed\")\n",
    "        return sqrt(interval(maximum(sup.(sum(abs.(A), dims = 1))))*interval(maximum(sup.(sum(abs.(A), dims = 2)))))\n",
    "    end\n",
    "end"
   ]
  },
  {
   "cell_type": "markdown",
   "id": "861e9374-fdc8-4404-b0be-0410cb7e042e",
   "metadata": {},
   "source": [
    "# Proof"
   ]
  },
  {
   "cell_type": "code",
   "execution_count": null,
   "id": "c74f6f22-767c-4962-a28f-620c7aad200e",
   "metadata": {},
   "outputs": [],
   "source": [
    "# rigorous L²-norms of ūᵖ⁻¹ψ̂ⱼ\n",
    "int = sum((V̄10.*(cbrt.(V̄10*ū).^2)).^2, dims = 1);"
   ]
  },
  {
   "cell_type": "code",
   "execution_count": null,
   "id": "64c27b8d-41bf-4acf-bb5f-ec8818df2e9d",
   "metadata": {},
   "outputs": [],
   "source": [
    "# Gram matrix induced by ūᵖ⁻¹\n",
    "G = interval64.(V̄8)'*(interval64.(cbrt.(V̄8*ū).^2).*interval64.(V̄8));"
   ]
  },
  {
   "cell_type": "code",
   "execution_count": null,
   "id": "ef4e0e37",
   "metadata": {},
   "outputs": [],
   "source": [
    "# PₙDF(ū)Pₙ\n",
    "DFū = interval64.(interval(I(n+1)) - inv(𝔏)+ p*𝔏\\G);"
   ]
  },
  {
   "cell_type": "code",
   "execution_count": null,
   "id": "52b22341",
   "metadata": {},
   "outputs": [],
   "source": [
    "# approximate numerical inverse of PₙDF(ū)Pₙ\n",
    "Aₙ = interval.(BigFloat,inv(mid.(DFū)));"
   ]
  },
  {
   "cell_type": "code",
   "execution_count": null,
   "id": "d8437554",
   "metadata": {},
   "outputs": [],
   "source": [
    "# PₙF(ū)\n",
    "PFū = ū -inv(𝔏)*(ū/(p-interval(BigFloat,1))-V̄8'*(cbrt.(V̄8*ū).^5));"
   ]
  },
  {
   "cell_type": "code",
   "execution_count": null,
   "id": "26285977",
   "metadata": {},
   "outputs": [],
   "source": [
    "# Y = interval(sqrt(H1(Aₙ*PFū)+abs(L4(ū)-L2((V3'*(W.*(V3*ū).^2))*interval(big(2))^(-3//2)))/λₘ).hi)\n",
    "Y = interval(sup(sqrt(H2(Aₙ*PFū)+abs(L103(ū)-L2(V̄8'*(cbrt.(V̄8*ū).^5))))))"
   ]
  },
  {
   "cell_type": "code",
   "execution_count": null,
   "id": "fccd30de",
   "metadata": {},
   "outputs": [],
   "source": [
    "supū = sum(abs.(ū));"
   ]
  },
  {
   "cell_type": "code",
   "execution_count": null,
   "id": "8fa24e9a",
   "metadata": {},
   "outputs": [],
   "source": [
    "w = sqrt.(abs.([int[i] - L2(G[i,:]) for i=1:n+1]));"
   ]
  },
  {
   "cell_type": "code",
   "execution_count": null,
   "id": "a5b07936-f28f-467a-a891-c96987a9ef52",
   "metadata": {},
   "outputs": [],
   "source": [
    "Z¹¹ = op_norm(𝔏*(interval(I(n+1)) - interval64.(Aₙ)*interval64.(DFū))*inv(𝔏));"
   ]
  },
  {
   "cell_type": "code",
   "execution_count": null,
   "id": "238299d5-7f7c-4661-bfc8-68901b02b325",
   "metadata": {},
   "outputs": [],
   "source": [
    "Z¹² = p*norm(abs.(𝔏*Aₙ*inv(𝔏))*w)/λₘ;\n",
    "Z²¹ = p*norm(𝔏\\w)\n",
    "Z²² = interval(sup((interval(1)/(p-interval(1))+p*supū)/λₘ));"
   ]
  },
  {
   "cell_type": "code",
   "execution_count": null,
   "id": "edc02295",
   "metadata": {},
   "outputs": [],
   "source": [
    "Z₁ = op_norm([Z¹¹ Z¹² ; Z²¹ Z²²])"
   ]
  },
  {
   "cell_type": "code",
   "execution_count": null,
   "id": "fb9fc554",
   "metadata": {},
   "outputs": [],
   "source": [
    "[Z¹¹ Z¹² ; Z²¹ Z²²]"
   ]
  },
  {
   "cell_type": "code",
   "execution_count": null,
   "id": "4d448b73-800d-4e06-b5a6-237dabc8880b",
   "metadata": {},
   "outputs": [],
   "source": [
    "C₀ = I\"0.56419\"\n",
    "C₁ = I\"0.79789\"\n",
    "C₂ = I\"0.23033\"\n",
    "# C(2)\n",
    "C2 = sqrt(Z)*(interval(2//d)*C₀ + sqrt(interval(2//d))*C₁ + C₂)"
   ]
  },
  {
   "cell_type": "code",
   "execution_count": null,
   "id": "119aa096-c384-444e-a1e2-2716aa98ae9f",
   "metadata": {},
   "outputs": [],
   "source": [
    "Z₅₃ = C2^interval(2//3)*interval(max(sup(op_norm(𝔏*Aₙ*inv(𝔏))), 1))*interval(5//3)"
   ]
  },
  {
   "cell_type": "code",
   "execution_count": null,
   "id": "2901c64a-4339-4653-9ece-7a555c016b4c",
   "metadata": {},
   "outputs": [],
   "source": [
    "Q(δ) = Z₁ + Z₅₃*δ^interval(2//3)\n",
    "P(δ) = Y + Z₁*δ + interval(3//5)*Z₅₃*δ^interval(5//3)-δ"
   ]
  },
  {
   "cell_type": "code",
   "execution_count": null,
   "id": "c53eed32-4d9b-47d0-9371-286505ba8cb0",
   "metadata": {},
   "outputs": [],
   "source": [
    "δ̲ = Y/(interval(1)-Z₁)*(interval(1)+interval(BigFloat,2)^(-46))"
   ]
  },
  {
   "cell_type": "code",
   "execution_count": null,
   "id": "1f66d1a7-4a29-4411-af2b-197d1cf64cb2",
   "metadata": {},
   "outputs": [],
   "source": [
    "if sup(P(δ̲))<0 && sup(Q(δ̲))<1\n",
    "    println(\"δ̲ validated\")\n",
    "end"
   ]
  },
  {
   "cell_type": "code",
   "execution_count": null,
   "id": "9d3cf77e-0f43-4b66-b4a5-152218981b0f",
   "metadata": {},
   "outputs": [],
   "source": [
    "δ̄ = ((interval(1)-Z₁)/Z₅₃)^interval(3//2)*(interval(1)-interval(BigFloat,2)^(-50))"
   ]
  },
  {
   "cell_type": "code",
   "execution_count": null,
   "id": "30b081e6-1ff1-40de-84c9-9b9841e038a2",
   "metadata": {},
   "outputs": [],
   "source": [
    "if sup(P(δ̄))<0 && sup(Q(δ̄))<1\n",
    "    println(\"δ̄ validated\")\n",
    "end"
   ]
  },
  {
   "cell_type": "markdown",
   "id": "baef5840-3070-46bf-b3f1-9235ea0dfcb6",
   "metadata": {},
   "source": [
    "# Checking positivity"
   ]
  },
  {
   "cell_type": "code",
   "execution_count": null,
   "id": "cdae36f2-fcbb-4f07-a661-c132c1b17269",
   "metadata": {},
   "outputs": [],
   "source": [
    "# infinity norm error\n",
    "inf_err = C2*δ̲"
   ]
  },
  {
   "cell_type": "code",
   "execution_count": null,
   "id": "951db4ae-a28a-436a-8d4d-dd997214b8f8",
   "metadata": {},
   "outputs": [],
   "source": [
    "m = 10\n",
    "supm = inf_err+sum(abs.(ū[m+2:end]))\n",
    "Pₘ = zeros(Interval{BigFloat},m+1)\n",
    "for j = 0:m\n",
    "#     println(j)\n",
    "    Lⱼ =  [interval((-1)^i)*interval(BigFloat, binomial(j,i)//factorial(i)) for i=0:j]\n",
    "    Pₘ[1:j+1] += ū[Int64(j+1)]*Lⱼ\n",
    "end"
   ]
  },
  {
   "cell_type": "code",
   "execution_count": null,
   "id": "acf76b20-b7a1-434b-a6b1-2238c48c7dd8",
   "metadata": {},
   "outputs": [],
   "source": [
    "r₀ = interval(BigFloat,5.0)\n",
    "z = mince(interval(0,r₀.^2/interval(4)), 2000)\n",
    "\n",
    "if all(inf.(evalpoly.(z,tuple(Pₘ)).*exp.(-z).-supm.*exp.(-z/interval(2))).>0) && inf(interval(d//4)-interval(1)/(p-interval(1))+r₀^2/interval(16)-((supū+inf_err)*exp(-r₀^2/interval(8)))^(p-interval(1)))>0\n",
    "    println(\"positivity checked\")\n",
    "else\n",
    "    println(\"positivity not checked\")\n",
    "end"
   ]
  },
  {
   "cell_type": "markdown",
   "id": "81c8f707-6199-4df2-8ba5-26af33928598",
   "metadata": {},
   "source": [
    "# Plotting"
   ]
  },
  {
   "cell_type": "code",
   "execution_count": null,
   "id": "3533f07e",
   "metadata": {},
   "outputs": [],
   "source": [
    "rloc = collect(0:600)/100\n",
    "zloc = interval.(big.(rloc.^2/4))\n",
    "sol = zeros(Interval{BigFloat},size(zloc));"
   ]
  },
  {
   "cell_type": "code",
   "execution_count": null,
   "id": "2495cbcf",
   "metadata": {},
   "outputs": [],
   "source": [
    "setprecision(4096)\n",
    "Lprev = ones(Interval{BigFloat}, length(zloc)) \n",
    "L = Lprev .- zloc\n",
    "sol += ū[Int64(1)]*Lprev\n",
    "for m=1:big(n)\n",
    "    sol += ū[Int64(m+1)]*L\n",
    "    Lhold = copy(L)\n",
    "    L[:] = ((interval(BigFloat,2*m+1) .-zloc).*L .- interval(BigFloat,m)*Lprev)/interval(BigFloat, m+1)\n",
    "    Lprev[:] = Lhold\n",
    "end"
   ]
  },
  {
   "cell_type": "code",
   "execution_count": null,
   "id": "07f581a6",
   "metadata": {},
   "outputs": [],
   "source": [
    "plot(rloc, Float64.(mid.(sol.*exp.(-zloc))), xlabel = L\"r\", ylabel = L\"\\bar{u}\", legend = false, dpi =1000)"
   ]
  },
  {
   "cell_type": "code",
   "execution_count": null,
   "id": "475b0ac3",
   "metadata": {},
   "outputs": [],
   "source": [
    "png(\"fractional_sol\")"
   ]
  }
 ],
 "metadata": {
  "kernelspec": {
   "display_name": "Julia 1.10.2",
   "language": "julia",
   "name": "julia-1.10"
  },
  "language_info": {
   "file_extension": ".jl",
   "mimetype": "application/julia",
   "name": "julia",
   "version": "1.10.2"
  }
 },
 "nbformat": 4,
 "nbformat_minor": 5
}
