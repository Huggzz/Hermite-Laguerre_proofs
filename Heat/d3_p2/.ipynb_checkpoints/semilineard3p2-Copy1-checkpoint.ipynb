{
 "cells": [
  {
   "cell_type": "code",
   "execution_count": 1,
   "id": "d0341331",
   "metadata": {},
   "outputs": [],
   "source": [
    "using IntervalArithmetic, Combinatorics, Polynomials, PolynomialRoots, Serialization, LinearAlgebra, Plots, LaTeXStrings, IntervalLinearAlgebra"
   ]
  },
  {
   "cell_type": "code",
   "execution_count": null,
   "id": "68fff816",
   "metadata": {},
   "outputs": [],
   "source": [
    "# all computations are bounded rigorously via Interval Arithmetic\n",
    "setprecision(Interval , 8192)\n",
    "\n",
    "# computes enclosure for rationals\n",
    "intervalR(x::Rational) = @interval(x)\n",
    "N = big(500)"
   ]
  },
  {
   "cell_type": "code",
   "execution_count": null,
   "id": "276f0264",
   "metadata": {},
   "outputs": [],
   "source": [
    "# Gaussian-Laguerre quadrature exact for polynomials of degree 2n-1\n",
    "n = big(1002)\n",
    "coeffs = [(-1)^k*intervalR(doublefactorial(2*n+1)//doublefactorial(2*k+1)//factorial(k)//factorial(n-k)//2^(n-k)) for k=0:n]\n",
    "# Laguerre polynomial of order n and index 0\n",
    "Lₙ = Polynomial(coeffs);\n",
    "# fast computation in arbitrary precisions of the roots of Lₙ\n",
    "X = real.(PolynomialRoots.roots(mid.(coeffs)));"
   ]
  },
  {
   "cell_type": "code",
   "execution_count": null,
   "id": "96112613",
   "metadata": {},
   "outputs": [],
   "source": [
    "# rigorous enclosure of the roots of Lₙ via ϵ-inflation\n",
    "ϵ = @interval(2^(-4096-2048))\n",
    "Xl = X .- ϵ\n",
    "Xu = X .+ ϵ\n",
    "diff = Lₙ.(Xl) -Lₙ.(Xu)\n",
    "# # check enclosure via intermediate value Thm and fundamental Thm of Algebra (if true)\n",
    "println(!any(0 .∈ diff))\n",
    "Xrig = [interval(Xl[i].lo, Xu[i].hi) for i=1:n];"
   ]
  },
  {
   "cell_type": "code",
   "execution_count": null,
   "id": "3f9ea874",
   "metadata": {},
   "outputs": [],
   "source": [
    "# computation of Lₘ where m = n+1\n",
    "m = n+1\n",
    "Lₘ = Polynomial([(-1)^k*intervalR(doublefactorial(2*m+1)//doublefactorial(2*k+1)//factorial(k)//factorial(m-k)//2^(m-k)) for k=0:m]);\n",
    "# weights for the Gaussian-Legendre quadrature\n",
    "W = sqrt(@interval(pi))*intervalR(doublefactorial(2*n+1)//factorial(n)//2^(n+1)).*Xrig ./((Lₘ.(Xrig)).^2)./((n+1)^2);"
   ]
  },
  {
   "cell_type": "code",
   "execution_count": null,
   "id": "181ff69c",
   "metadata": {},
   "outputs": [],
   "source": [
    "# quadrature is exact for quadruple product of polynomials of degree n÷2-1\n",
    "\n",
    "# Vandermonde matrix is with respect to normalised Laguerre polynomials\n",
    "V4 = zeros(Interval{BigFloat}, (n, n ÷ 2))\n",
    "Yrig = Xrig ./3\n",
    "for j = 0:(n÷2)-1\n",
    "    println(j)\n",
    "    Lⱼ =  Polynomial([(-1)^k*intervalR(doublefactorial(2*j+1)//doublefactorial(2*k+1)//factorial(k)//factorial(j-k)//2^(j-k)) for k=0:j]);\n",
    "    V4[:,j+1] = Lⱼ.(Yrig)./sqrt(sqrt(@interval(pi))*intervalR(doublefactorial(2*j+1)//2^(j+1)//factorial(j)))\n",
    "end"
   ]
  },
  {
   "cell_type": "code",
   "execution_count": null,
   "id": "5d0d9b94",
   "metadata": {},
   "outputs": [],
   "source": [
    "# quadrature is exact for triple product of polynomials of degree n÷2-1\n",
    "V3 = zeros(Interval{BigFloat}, (n, n ÷ 2))\n",
    "Yrig = Xrig ./2\n",
    "for j = 0:(n÷2)-1\n",
    "    println(j)\n",
    "    Lⱼ =  Polynomial([(-1)^k*intervalR(doublefactorial(2*j+1)//doublefactorial(2*k+1)//factorial(k)//factorial(j-k)//2^(j-k)) for k=0:j]);\n",
    "    V3[:,j+1] = Lⱼ.(Yrig)./sqrt(sqrt(@interval(pi))*intervalR(doublefactorial(2*j+1)//2^(j+1)//factorial(j)))\n",
    "end\n"
   ]
  },
  {
   "cell_type": "code",
   "execution_count": null,
   "id": "9fdb9d1f",
   "metadata": {},
   "outputs": [],
   "source": [
    "# serialize(\"V3\", V3)\n",
    "# serialize(\"V4\", V4)\n",
    "# serialize(\"W3d\", W)\n",
    "# Vandermonde matrices and weights\n",
    "# V3 = deserialize(\"V3\")\n",
    "# V4 = deserialize(\"V4\")\n",
    "# W = deserialize(\"W3d\");"
   ]
  },
  {
   "cell_type": "code",
   "execution_count": null,
   "id": "94f1e91c",
   "metadata": {},
   "outputs": [],
   "source": [
    "# regularized Vandermonde matrix for triple integral product\n",
    "V̄3 = Diagonal(cbrt.(W))*V3;\n",
    "V̄4 = Diagonal(sqrt.(sqrt.(W)))*V4;"
   ]
  },
  {
   "cell_type": "code",
   "execution_count": null,
   "id": "cae44bcb",
   "metadata": {},
   "outputs": [],
   "source": [
    "serialize(\"V3r\", V̄3)\n",
    "serialize(\"V4r\", V̄4)"
   ]
  },
  {
   "cell_type": "code",
   "execution_count": 2,
   "id": "92456410",
   "metadata": {},
   "outputs": [
    {
     "data": {
      "text/plain": [
       "1002×501 Matrix{Interval{BigFloat}}:\n",
       " [6.27644e-429, 6.27645e-429]₂₅₆  …   [1.8841e-145, 1.88411e-145]₂₅₆\n",
       " [3.31193e-424, 3.31194e-424]₂₅₆     [-3.08709e-144, -3.08708e-144]₂₅₆\n",
       " [2.39037e-420, 2.39038e-420]₂₅₆     [-1.64125e-142, -1.64124e-142]₂₅₆\n",
       " [6.02249e-417, 6.0225e-417]₂₅₆       [2.6546e-141, 2.65461e-141]₂₅₆\n",
       " [7.60197e-414, 7.60198e-414]₂₅₆     [-2.33144e-140, -2.33143e-140]₂₅₆\n",
       " [5.79807e-411, 5.79808e-411]₂₅₆  …   [1.68555e-139, 1.68556e-139]₂₅₆\n",
       " [2.99152e-408, 2.99153e-408]₂₅₆     [-1.22518e-138, -1.22517e-138]₂₅₆\n",
       " [1.12511e-405, 1.12512e-405]₂₅₆      [9.52929e-138, 9.5293e-138]₂₅₆\n",
       " [3.25135e-403, 3.25136e-403]₂₅₆     [-7.46469e-137, -7.46468e-137]₂₅₆\n",
       " [7.50559e-401, 7.5056e-401]₂₅₆       [5.39338e-136, 5.39339e-136]₂₅₆\n",
       " [1.42587e-398, 1.42588e-398]₂₅₆  …  [-3.36247e-135, -3.36246e-135]₂₅₆\n",
       " [2.28203e-396, 2.28204e-396]₂₅₆      [1.69682e-134, 1.69683e-134]₂₅₆\n",
       " [3.13538e-394, 3.13539e-394]₂₅₆     [-6.09572e-134, -6.09571e-134]₂₅₆\n",
       "  ⋮                               ⋱    ⋮\n",
       " [0.420972, 0.420973]₂₅₆          …   [0.0468471, 0.0468472]₂₅₆\n",
       " [0.408793, 0.408794]₂₅₆              [0.152996, 0.152997]₂₅₆\n",
       " [0.394835, 0.394836]₂₅₆              [0.0400827, 0.0400828]₂₅₆\n",
       " [0.378977, 0.378978]₂₅₆             [-0.146357, -0.146356]₂₅₆\n",
       " [0.361058, 0.361059]₂₅₆             [-0.133947, -0.133946]₂₅₆\n",
       " [0.340869, 0.34087]₂₅₆           …   [0.0851633, 0.0851634]₂₅₆\n",
       " [0.318117, 0.318118]₂₅₆              [0.208136, 0.208137]₂₅₆\n",
       " [0.292371, 0.292372]₂₅₆              [0.0290065, 0.0290066]₂₅₆\n",
       " [0.262956, 0.262957]₂₅₆             [-0.23744, -0.237439]₂₅₆\n",
       " [0.228709, 0.22871]₂₅₆              [-0.194093, -0.194092]₂₅₆\n",
       " [0.187315, 0.187316]₂₅₆          …   [0.200963, 0.200964]₂₅₆\n",
       " [0.132696, 0.132697]₂₅₆              [0.498847, 0.498848]₂₅₆"
      ]
     },
     "execution_count": 2,
     "metadata": {},
     "output_type": "execute_result"
    }
   ],
   "source": [
    "# start here with precomputed vandermonde matrices\n",
    "N = big(500)\n",
    "setprecision(Interval, 256)\n",
    "\n",
    "ū = interval.(deserialize(\"u3d500\"));\n",
    "V̄3 = deserialize(\"V3r\")\n",
    "V̄4 = deserialize(\"V4r\")"
   ]
  },
  {
   "cell_type": "code",
   "execution_count": 3,
   "id": "2d26ce7d",
   "metadata": {},
   "outputs": [
    {
     "data": {
      "text/plain": [
       "L4 (generic function with 1 method)"
      ]
     },
     "execution_count": 3,
     "metadata": {},
     "output_type": "execute_result"
    }
   ],
   "source": [
    "# computes Lᵖ/H¹ norms before taking fractional exponent\n",
    "function L2(u)\n",
    "    return sum(u.^2)\n",
    "end\n",
    "\n",
    "function H1(u)\n",
    "    return sum(𝔏*(u.^2))\n",
    "end\n",
    "\n",
    "function L4(u)\n",
    "    return (interval(big(3))^(-3//2))*sum((V̄4*u).^4)\n",
    "end"
   ]
  },
  {
   "cell_type": "code",
   "execution_count": 4,
   "id": "678c139e",
   "metadata": {},
   "outputs": [
    {
     "data": {
      "text/plain": [
       "op_norm (generic function with 1 method)"
      ]
     },
     "execution_count": 4,
     "metadata": {},
     "output_type": "execute_result"
    }
   ],
   "source": [
    "function op_norm(A)\n",
    "    if size(A) == (2,2)\n",
    "        return sqrt(sum(A.^2) + sqrt(((A[1,2]+A[2,1])^2+(A[1,1]-A[2,2])^2)*((A[1,2]-A[2,1])^2+(A[1,1]+A[2,2])^2)))/sqrt(interval(2))\n",
    "    else\n",
    "        return interval(sqrt(interval(maximum([x.hi for x in sum(abs.(A), dims = 1)]))*interval(maximum([x.hi for x in sum(abs.(A), dims = 2)]))).hi)\n",
    "    end\n",
    "end"
   ]
  },
  {
   "cell_type": "code",
   "execution_count": 5,
   "id": "6be26f65",
   "metadata": {},
   "outputs": [],
   "source": [
    "# inf = (interval(big(3))^(-3//2))*sum((V4'*Diagonal(V4*ū)).^2 * Diagonal(W), dims = 2);\n",
    "# fin = V3'*Diagonal(W.*(V3*ū))*V3*interval(big(2))^(-3//2);\n",
    "# rigorous L²-norms\n",
    "int = (interval(big(3))^(-3//2))*sum((V̄4'*Diagonal(V̄4*ū)).^2, dims = 2);\n",
    "# Gram matrix induced by ūᵖ⁻¹\n",
    "Ḡ = V̄3'*Diagonal((V̄3*ū))*V̄3*interval(big(2))^(-3//2);"
   ]
  },
  {
   "cell_type": "code",
   "execution_count": 6,
   "id": "b6d2202a",
   "metadata": {},
   "outputs": [],
   "source": [
    "𝔏 = Diagonal(interval.(big.(collect(0:N))).+3//2);"
   ]
  },
  {
   "cell_type": "code",
   "execution_count": 7,
   "id": "ef4e0e37",
   "metadata": {},
   "outputs": [],
   "source": [
    "DFū = I - inv(𝔏) - 2*inv(𝔏)*Ḡ;"
   ]
  },
  {
   "cell_type": "code",
   "execution_count": 8,
   "id": "52b22341",
   "metadata": {},
   "outputs": [],
   "source": [
    "Aₙ = interval.(inv((mid.(DFū))));\n",
    "# Aₙ = interval.(inv(mid.(DFū)));\n",
    "# # serialize(\"Ad3p2\", Aₙ)\n",
    "# Aₙ = interval.(deserialize(\"Ad3p2\"));"
   ]
  },
  {
   "cell_type": "code",
   "execution_count": 9,
   "id": "339d9848",
   "metadata": {},
   "outputs": [
    {
     "data": {
      "text/plain": [
       "intervalR (generic function with 1 method)"
      ]
     },
     "execution_count": 9,
     "metadata": {},
     "output_type": "execute_result"
    }
   ],
   "source": [
    "# m = n+1, (n+1)ᵗʰ eigenvalue\n",
    "λₘ = @interval(3//2+N+1)\n",
    "λ₀ = @interval(3//2)\n",
    "intervalR(x::Rational) = @interval(x)"
   ]
  },
  {
   "cell_type": "code",
   "execution_count": 10,
   "id": "d8437554",
   "metadata": {},
   "outputs": [],
   "source": [
    "# PFū = ū +inv(𝔏)*(ū+(V3'*(W.*(V3*ū).^2))*interval(big(2))^(-3//2));\n",
    "PFū = ū -inv(𝔏)*(ū+(V̄3'*((V̄3*ū).^2))*interval(big(2))^(-3//2));"
   ]
  },
  {
   "cell_type": "code",
   "execution_count": 11,
   "id": "26285977",
   "metadata": {},
   "outputs": [
    {
     "data": {
      "text/plain": [
       "[6.29653e-23, 6.29654e-23]₂₅₆"
      ]
     },
     "execution_count": 11,
     "metadata": {},
     "output_type": "execute_result"
    }
   ],
   "source": [
    "# Y = interval(sqrt(H1(Aₙ*PFū)+abs(L4(ū)-L2((V3'*(W.*(V3*ū).^2))*interval(big(2))^(-3//2)))/λₘ).hi)\n",
    "Y = interval(sqrt(H1(interval.(Aₙ)*PFū)+abs(L4(ū)-L2((V̄3'*((V̄3*ū).^2))*interval(big(2))^(-3//2)))/λₘ).hi)"
   ]
  },
  {
   "cell_type": "code",
   "execution_count": 12,
   "id": "01344d6b",
   "metadata": {},
   "outputs": [
    {
     "data": {
      "text/plain": [
       "[3.96463e-45, 3.96464e-45]₂₅₆"
      ]
     },
     "execution_count": 12,
     "metadata": {},
     "output_type": "execute_result"
    }
   ],
   "source": [
    "abs(L4(ū)-L2((V̄3'*((V̄3*ū).^2))*interval(big(2))^(-3//2)))/λₘ"
   ]
  },
  {
   "cell_type": "code",
   "execution_count": 13,
   "id": "8fa24e9a",
   "metadata": {},
   "outputs": [
    {
     "data": {
      "text/plain": [
       "501-element Vector{Interval{BigFloat}}:\n",
       " [1.44003e-23, 1.44004e-23]₂₅₆\n",
       " [3.87947e-23, 3.87948e-23]₂₅₆\n",
       " [8.22962e-23, 8.22963e-23]₂₅₆\n",
       " [1.55363e-22, 1.55364e-22]₂₅₆\n",
       " [2.72616e-22, 2.72617e-22]₂₅₆\n",
       " [4.54259e-22, 4.5426e-22]₂₅₆\n",
       " [7.27835e-22, 7.27836e-22]₂₅₆\n",
       " [1.13044e-21, 1.13045e-21]₂₅₆\n",
       " [1.71152e-21, 1.71153e-21]₂₅₆\n",
       " [2.53631e-21, 2.53632e-21]₂₅₆\n",
       " [3.69016e-21, 3.69017e-21]₂₅₆\n",
       " [5.2839e-21, 5.28391e-21]₂₅₆\n",
       " [7.46036e-21, 7.46037e-21]₂₅₆\n",
       "  ⋮\n",
       " [0.0767683, 0.0767684]₂₅₆\n",
       " [0.0782857, 0.0782858]₂₅₆\n",
       " [0.0797928, 0.0797929]₂₅₆\n",
       " [0.0812884, 0.0812885]₂₅₆\n",
       " [0.0827709, 0.082771]₂₅₆\n",
       " [0.0842391, 0.0842392]₂₅₆\n",
       " [0.0856916, 0.0856917]₂₅₆\n",
       " [0.0871272, 0.0871273]₂₅₆\n",
       " [0.0885447, 0.0885448]₂₅₆\n",
       " [0.0899429, 0.089943]₂₅₆\n",
       " [0.0913206, 0.0913207]₂₅₆\n",
       " [0.0926768, 0.0926769]₂₅₆"
      ]
     },
     "execution_count": 13,
     "metadata": {},
     "output_type": "execute_result"
    }
   ],
   "source": [
    "v̄ = sqrt.([int[i] - L2(Ḡ[i,:]) for i=1:501]);"
   ]
  },
  {
   "cell_type": "code",
   "execution_count": null,
   "id": "59edf402",
   "metadata": {},
   "outputs": [],
   "source": [
    "Z¹² = 2*interval(norm(abs.(𝔏.^(1//2)*interval.(Aₙ)*inv(𝔏))*v̄).hi)/sqrt(λₘ)"
   ]
  },
  {
   "cell_type": "code",
   "execution_count": null,
   "id": "fccd30de",
   "metadata": {},
   "outputs": [],
   "source": [
    "supū = interval((sum(abs.(ū).*[interval(big(2))^(-n)*sqrt((2*n+2)*binomial(2n+1, n)) for n=0:N])./@interval(π)^(1//4)).hi)"
   ]
  },
  {
   "cell_type": "code",
   "execution_count": null,
   "id": "96877752",
   "metadata": {},
   "outputs": [],
   "source": [
    "Z¹¹ = interval(op_norm( I - interval.(Aₙ)*DFū).hi)\n",
    "Z²¹ = p*norm((𝔏)^(-1//2)*v̄)/sqrt(λₘ)\n",
    "Z²² = interval(((1+2*supū)/λₘ).hi)"
   ]
  },
  {
   "cell_type": "code",
   "execution_count": null,
   "id": "edc02295",
   "metadata": {},
   "outputs": [],
   "source": [
    "Z₁ = op_norm([Z¹¹ Z¹² ; Z²¹ Z²²])"
   ]
  },
  {
   "cell_type": "code",
   "execution_count": null,
   "id": "fb9fc554",
   "metadata": {},
   "outputs": [],
   "source": [
    "[Z¹¹ Z¹² ; Z²¹ Z²²]"
   ]
  },
  {
   "cell_type": "code",
   "execution_count": null,
   "id": "d644d750",
   "metadata": {},
   "outputs": [],
   "source": [
    "c32 = 8*interval(2)^(1//4)/(3*sqrt(@interval(π)))"
   ]
  },
  {
   "cell_type": "code",
   "execution_count": null,
   "id": "216d0b03",
   "metadata": {},
   "outputs": [],
   "source": [
    "Z₂ = 2*c32*op_norm((𝔏)^(1//2)*Aₙ*inv(𝔏))"
   ]
  },
  {
   "cell_type": "code",
   "execution_count": null,
   "id": "54fda933",
   "metadata": {},
   "outputs": [],
   "source": [
    "δ̄ = (1- Z₁)/Z₂"
   ]
  },
  {
   "cell_type": "code",
   "execution_count": null,
   "id": "51b0367f",
   "metadata": {},
   "outputs": [],
   "source": [
    "δ̲ = interval(((1 - Z₁ - sqrt(1 - 2*Z₁ + Z₁^2 - 2*Y*Z₂))/Z₂).hi)"
   ]
  },
  {
   "cell_type": "code",
   "execution_count": null,
   "id": "8de33b9a",
   "metadata": {},
   "outputs": [],
   "source": [
    "ρ = interval(1)\n",
    "C₀ = @interval(0.52319)*ρ^(-3//2)\n",
    "C₁ = @interval(1.0228)*ρ^(-1//2)\n",
    "C₂ = @interval(0.37467)*ρ^(1//2)\n",
    "γ = 4*sqrt(@interval(π))*(exp(interval(-1/2))+sqrt(@interval(2//3))+1)+64/(interval(3)^(3//4))*(supū+δ̲)\n",
    "c₀ = 4*sqrt(@interval(π))/(λ₀^(1//2))*C₀\n",
    "c₁ = 4*sqrt(@interval(π))*C₁\n",
    "c₂ = C₂*γ\n",
    "supw = (c₀+c₁+c₂)*δ̲+C₂*4*sqrt(@interval(π))*(sqrt(L2(𝔏*PFū) +abs(L4(ū)-L2((V̄3'*((V̄3*ū).^2))*interval(big(2))^(-3//2)))))"
   ]
  },
  {
   "cell_type": "code",
   "execution_count": null,
   "id": "feb05553",
   "metadata": {},
   "outputs": [],
   "source": [
    "sqrt(H1(ū))*4*@interval(2)^(1//4)"
   ]
  },
  {
   "cell_type": "code",
   "execution_count": null,
   "id": "ebbe4d4f",
   "metadata": {},
   "outputs": [],
   "source": [
    "cut = 6\n",
    "supcut = interval((sum(abs.(ū[cut+2:end]).*[interval(big(2))^(-n)*sqrt((2*n+2)*binomial(2n+1, n)) for n=cut+1:N])./@interval(π)^(1//4)).hi)\n",
    "P = Polynomial(@interval(0))\n",
    "for j = 0:cut\n",
    "#     println(j)\n",
    "    Lⱼ =  Polynomial([(-1)^k*intervalR(doublefactorial(2*j+1)//doublefactorial(2*k+1)//factorial(k)//factorial(j-k)//2^(j-k)) for k=0:j]);\n",
    "    P += ū[Int64(j+1)]*Lⱼ/sqrt(sqrt(@interval(pi))*intervalR(doublefactorial(2*j+1)//2^(j+1)//factorial(j)))\n",
    "end\n",
    "z = mince(@interval(0,3), 1000)\n",
    "all((P.(z).*exp.(-z/2) .-supcut).*exp.(-z/2) .-supw .>0)"
   ]
  },
  {
   "cell_type": "code",
   "execution_count": null,
   "id": "7cb5600c",
   "metadata": {},
   "outputs": [],
   "source": [
    "P.(z).*exp.(-z) .-supcut.*exp.(-z/2) .-supw"
   ]
  },
  {
   "cell_type": "code",
   "execution_count": null,
   "id": "a9d05038",
   "metadata": {},
   "outputs": [],
   "source": [
    "# u = ū .+(interval(-r₋, r₋)./(diag(𝔏).^(1//2)))\n",
    "# # Gram matrix induced by ūᵖ⁻¹\n",
    "# G = V̄3'*Diagonal((V̄3*u))*V̄3*interval(big(2))^(-3//2);"
   ]
  },
  {
   "cell_type": "code",
   "execution_count": null,
   "id": "210ce5ce",
   "metadata": {},
   "outputs": [],
   "source": [
    "maximum(diam.(G))"
   ]
  },
  {
   "cell_type": "code",
   "execution_count": null,
   "id": "0e3f069a",
   "metadata": {},
   "outputs": [],
   "source": [
    "L = 𝔏 - G\n",
    "Bₙ = Symmetric(Float64.(mid.(L)));"
   ]
  },
  {
   "cell_type": "code",
   "execution_count": null,
   "id": "a4ea491c",
   "metadata": {},
   "outputs": [],
   "source": [
    "evals, evecs, cert = verify_eigen(Bₙ)"
   ]
  },
  {
   "cell_type": "code",
   "execution_count": null,
   "id": "db5f4665",
   "metadata": {},
   "outputs": [],
   "source": [
    "ν = mid((evals[1]+evals[2])/2)"
   ]
  },
  {
   "cell_type": "code",
   "execution_count": null,
   "id": "ce7a384a",
   "metadata": {},
   "outputs": [],
   "source": [
    "on = 1/minimum(abs.(evals.-interval(ν)))"
   ]
  },
  {
   "cell_type": "code",
   "execution_count": null,
   "id": "5cc24c5a",
   "metadata": {},
   "outputs": [],
   "source": [
    "int2 = (interval(big(3))^(-3//2))*sum((V̄4'*Diagonal(V̄4*u)).^2, dims = 2);\n",
    "v = sqrt.([int2[i] - L2(G[i,:]) for i=1:501])"
   ]
  },
  {
   "cell_type": "code",
   "execution_count": null,
   "id": "fb7e35d1",
   "metadata": {},
   "outputs": [],
   "source": [
    "ℨ¹¹ = on*op_norm(L-B)"
   ]
  },
  {
   "cell_type": "code",
   "execution_count": null,
   "id": "2145da09",
   "metadata": {},
   "outputs": [],
   "source": [
    "supu = interval((sum(abs.(u).*[interval(big(2))^(-n)*sqrt((2*n+2)*binomial(2n+1, n)) for n=0:N])./@interval(π)^(1//4)).hi)"
   ]
  },
  {
   "cell_type": "code",
   "execution_count": null,
   "id": "41c110b1",
   "metadata": {},
   "outputs": [],
   "source": [
    "intervalR(x::Rational) = @interval(x)"
   ]
  },
  {
   "cell_type": "code",
   "execution_count": null,
   "id": "3533f07e",
   "metadata": {},
   "outputs": [],
   "source": [
    "rloc = collect(0:400)/100\n",
    "zloc = rloc.^2/4\n",
    "sol = zeros(size(zloc));"
   ]
  },
  {
   "cell_type": "code",
   "execution_count": null,
   "id": "2495cbcf",
   "metadata": {},
   "outputs": [],
   "source": [
    "for j = 0:N\n",
    "    println(j)\n",
    "    Lⱼ =  Polynomial([(-1)^k*intervalR(doublefactorial(2*j+1)//doublefactorial(2*k+1)//factorial(k)//factorial(j-k)//2^(j-k)) for k=0:j]);\n",
    "    sol .+= Float64.(mid.(ū[Int64(j+1)]) .* mid.(Lⱼ.(zloc)./sqrt(sqrt(@interval(pi))*intervalR(doublefactorial(2*j+1)//2^(j+1)//factorial(j)))))\n",
    "end"
   ]
  },
  {
   "cell_type": "code",
   "execution_count": null,
   "id": "c2dfbbfa",
   "metadata": {},
   "outputs": [],
   "source": [
    "c = -1/4 .+ zloc/4 .- abs.(sol .*exp.(-zloc))"
   ]
  },
  {
   "cell_type": "code",
   "execution_count": null,
   "id": "eea5c950",
   "metadata": {},
   "outputs": [],
   "source": [
    "ū"
   ]
  },
  {
   "cell_type": "code",
   "execution_count": null,
   "id": "77579da9",
   "metadata": {},
   "outputs": [],
   "source": [
    ")plot(rloc, c)"
   ]
  },
  {
   "cell_type": "code",
   "execution_count": null,
   "id": "07f581a6",
   "metadata": {},
   "outputs": [],
   "source": [
    "plot(rloc, sol.*exp.(-zloc), xlabel = L\"r\", ylabel = L\"\\bar{u}\", legend = false, dpi =1000)"
   ]
  },
  {
   "cell_type": "code",
   "execution_count": null,
   "id": "475b0ac3",
   "metadata": {},
   "outputs": [],
   "source": [
    "png(\"semi3dsol\")"
   ]
  },
  {
   "cell_type": "code",
   "execution_count": null,
   "id": "257aa035",
   "metadata": {},
   "outputs": [],
   "source": [
    "mid.((Aₙ + transpose(Aₙ))/2)"
   ]
  },
  {
   "cell_type": "code",
   "execution_count": null,
   "id": "935d4bd3",
   "metadata": {},
   "outputs": [],
   "source": [
    "evals, evecs, cert = verify_eigen(symFloat64.(Out[50]))"
   ]
  },
  {
   "cell_type": "code",
   "execution_count": null,
   "id": "fd08fccf",
   "metadata": {},
   "outputs": [],
   "source": []
  }
 ],
 "metadata": {
  "kernelspec": {
   "display_name": "Julia 1.9.1",
   "language": "julia",
   "name": "julia-1.9"
  },
  "language_info": {
   "file_extension": ".jl",
   "mimetype": "application/julia",
   "name": "julia",
   "version": "1.9.1"
  }
 },
 "nbformat": 4,
 "nbformat_minor": 5
}
