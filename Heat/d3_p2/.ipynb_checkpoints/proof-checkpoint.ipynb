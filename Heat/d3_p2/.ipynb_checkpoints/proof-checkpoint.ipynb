{
 "cells": [
  {
   "cell_type": "markdown",
   "id": "e0380d8a-275f-4786-8857-87948fff5619",
   "metadata": {},
   "source": [
    "# Set up"
   ]
  },
  {
   "cell_type": "code",
   "execution_count": null,
   "id": "d0341331",
   "metadata": {},
   "outputs": [],
   "source": [
    "using IntervalArithmetic, Combinatorics, Polynomials, Serialization, LinearAlgebra, Plots, LaTeXStrings"
   ]
  },
  {
   "cell_type": "code",
   "execution_count": null,
   "id": "3909a11f-4b41-4f74-8af1-50f81285bd43",
   "metadata": {},
   "outputs": [],
   "source": [
    "# start here with precomputed vandermonde matrices\n",
    "n = big(500)\n",
    "setprecision(256)\n",
    "\n",
    "# approximate solution\n",
    "ū = interval.(deserialize(\"ubar\"));\n",
    "\n",
    "# regularised Vandermonde matrices for 2p and p+1 products\n",
    "V̄3 = deserialize(\"V3r\")\n",
    "V̄4 = deserialize(\"V4r\")\n",
    "\n",
    "p = interval(2)\n",
    "d = 3\n",
    "α = d//2-1\n",
    "\n",
    "# m = n+1, (n+1)ᵗʰ eigenvalue\n",
    "λₘ = interval(d//2+n+1)\n",
    "λ₀ = interval(d//2)\n",
    "Z = interval(16)*interval(BigFloat, π)"
   ]
  },
  {
   "cell_type": "code",
   "execution_count": null,
   "id": "b6d2202a",
   "metadata": {},
   "outputs": [],
   "source": [
    "𝔏 = Diagonal(interval.(big.(collect(0:n))).+λ₀);"
   ]
  },
  {
   "cell_type": "code",
   "execution_count": null,
   "id": "c3a376f0-e4f6-4531-be24-eca4a220f8eb",
   "metadata": {},
   "outputs": [],
   "source": [
    "function interval64(x::Interval)\n",
    "    isguaranteed(x) || error(\"interval is not guaranteed\")\n",
    "    return interval(Float64(inf(x), RoundDown), Float64(sup(x), RoundUp))\n",
    "end\n",
    "LinearAlgebra.norm(v::Vector) = sqrt(sum(v.^2))\n",
    "\n",
    "# computes Lᵖ/H² norms before taking fractional exponent\n",
    "function L2(u)\n",
    "    return sum(u.^2)\n",
    "end\n",
    "\n",
    "function H2(u)\n",
    "    return sum((𝔏*u.^2))\n",
    "end\n",
    "\n",
    "function L4(u)\n",
    "    return sum((V̄4*u).^4)\n",
    "end"
   ]
  },
  {
   "cell_type": "code",
   "execution_count": null,
   "id": "678c139e",
   "metadata": {},
   "outputs": [],
   "source": [
    "# rigorous upper bound of the 2-norm of a matrix\n",
    "function op_norm(A)\n",
    "    if size(A) == (2,2)\n",
    "        Z = sqrt(sum(A.^2) + sqrt(((A[1,2]+A[2,1])^2+(A[1,1]-A[2,2])^2)*((A[1,2]-A[2,1])^2+(A[1,1]+A[2,2])^2)))/sqrt(interval(2))\n",
    "        if isguaranteed(Z)\n",
    "            return interval(sup(Z))\n",
    "        else\n",
    "            return Z\n",
    "        end\n",
    "    else\n",
    "        all(isguaranteed.(A)) || error(\"matrix not guaranteed\")\n",
    "        return sqrt(interval(maximum(sup.(sum(abs.(A), dims = 1))))*interval(maximum(sup.(sum(abs.(A), dims = 2)))))\n",
    "    end\n",
    "end"
   ]
  },
  {
   "cell_type": "markdown",
   "id": "8a628538-966b-4923-9cef-a832f1447c54",
   "metadata": {},
   "source": [
    "# Proof|"
   ]
  },
  {
   "cell_type": "code",
   "execution_count": null,
   "id": "15c21219-ed0b-4406-8e6d-8904943c9acf",
   "metadata": {},
   "outputs": [],
   "source": [
    "# rigorous L²-norms of ūᵖ⁻¹ψ̂ⱼ\n",
    "int = sum(((V̄4*ū).*V̄4).^2, dims = 1);"
   ]
  },
  {
   "cell_type": "code",
   "execution_count": null,
   "id": "b5df68d9-4c69-4d8b-aa67-ea216b8ee789",
   "metadata": {},
   "outputs": [],
   "source": [
    "# Gram matrix induced by ūᵖ⁻¹\n",
    "Ḡ = interval64.(V̄3)'*(interval64.(V̄3*ū).*interval64.(V̄3));"
   ]
  },
  {
   "cell_type": "code",
   "execution_count": null,
   "id": "ef4e0e37",
   "metadata": {},
   "outputs": [],
   "source": [
    "# PₙDF(ū)Pₙ\n",
    "DFū = interval64.(interval(I(n+1)) - inv(𝔏)- p*𝔏\\Ḡ);"
   ]
  },
  {
   "cell_type": "code",
   "execution_count": null,
   "id": "52b22341",
   "metadata": {},
   "outputs": [],
   "source": [
    "# approximate numerical inverse of PₙDF(ū)Pₙ\n",
    "Aₙ = interval.(inv((mid.(DFū))));"
   ]
  },
  {
   "cell_type": "code",
   "execution_count": null,
   "id": "d8437554",
   "metadata": {},
   "outputs": [],
   "source": [
    "# PₙF(ū)\n",
    "PFū = ū -inv(𝔏)*(ū+(V̄3'*((V̄3*ū).^2)));"
   ]
  },
  {
   "cell_type": "code",
   "execution_count": null,
   "id": "26285977",
   "metadata": {},
   "outputs": [],
   "source": [
    "# Y = interval(sqrt(H1(Aₙ*PFū)+abs(L4(ū)-L2((V3'*(W.*(V3*ū).^2))*interval(big(2))^(-3//2)))/λₘ).hi)\n",
    "Y = interval(sqrt(H2(Aₙ*PFū)+abs(L4(ū)-L2((V̄3'*((V̄3*ū).^2))))));"
   ]
  },
  {
   "cell_type": "code",
   "execution_count": null,
   "id": "8fa24e9a",
   "metadata": {},
   "outputs": [],
   "source": [
    "w = sqrt.(abs.([int[i] - L2(Ḡ[i,:]) for i=1:n+1]));"
   ]
  },
  {
   "cell_type": "code",
   "execution_count": null,
   "id": "59edf402",
   "metadata": {},
   "outputs": [],
   "source": [
    "Z¹² = p*norm(abs.(𝔏*Aₙ*inv(𝔏))*w)/λₘ;"
   ]
  },
  {
   "cell_type": "code",
   "execution_count": null,
   "id": "fccd30de",
   "metadata": {},
   "outputs": [],
   "source": [
    "sups = [interval(big(2))^interval(-k)*sqrt(interval(BigFloat,(2*k+2)*binomial(2k+1, k))) for k=0:n]./interval(BigFloat,π)^interval(1//4)\n",
    "supū = sum(abs.(ū).*sups);"
   ]
  },
  {
   "cell_type": "code",
   "execution_count": null,
   "id": "0851feda-58e3-43dd-a63e-5f1ce616f9a5",
   "metadata": {},
   "outputs": [],
   "source": [
    "Z¹¹ = op_norm(𝔏*(interval(I(n+1)) - Aₙ*DFū)*inv(𝔏));"
   ]
  },
  {
   "cell_type": "code",
   "execution_count": null,
   "id": "b2576e04-d2d4-433f-b14a-e48bfc6296cc",
   "metadata": {},
   "outputs": [],
   "source": [
    "Z²¹ = p*norm(𝔏\\w)"
   ]
  },
  {
   "cell_type": "code",
   "execution_count": null,
   "id": "565c168b-9145-4b5c-87c0-ea7fa363aa55",
   "metadata": {},
   "outputs": [],
   "source": [
    "Z²² = (interval(1)/(p-interval(1))+p*supū)/λₘ"
   ]
  },
  {
   "cell_type": "code",
   "execution_count": null,
   "id": "edc02295",
   "metadata": {},
   "outputs": [],
   "source": [
    "Z₁ = interval(op_norm([Z¹¹ Z¹² ; Z²¹ Z²²]))"
   ]
  },
  {
   "cell_type": "code",
   "execution_count": null,
   "id": "fb9fc554",
   "metadata": {},
   "outputs": [],
   "source": [
    "[Z¹¹ Z¹² ; Z²¹ Z²²]"
   ]
  },
  {
   "cell_type": "code",
   "execution_count": null,
   "id": "fa90bdd9-7180-4356-83a2-f7ce1f0b0543",
   "metadata": {},
   "outputs": [],
   "source": [
    "C₀ = I\"0.52319\"\n",
    "C₁ = I\"1.0228\"\n",
    "C₂ = I\"0.37467\"\n",
    "C3 = sqrt(Z)*(interval(2//d)*C₀ + sqrt(interval(2//d))*C₁ + C₂)"
   ]
  },
  {
   "cell_type": "code",
   "execution_count": null,
   "id": "d644d750",
   "metadata": {},
   "outputs": [],
   "source": [
    "# c(3,2)\n",
    "c32 = interval(8)*interval(2)^interval(1//4)/(interval(3)*sqrt(interval(BigFloat,π)))"
   ]
  },
  {
   "cell_type": "code",
   "execution_count": null,
   "id": "216d0b03",
   "metadata": {},
   "outputs": [],
   "source": [
    "Z₂ = interval(2)*interval(2//d)*c32*interval(max(sup(op_norm(𝔏*Aₙ*inv(𝔏))), 1))"
   ]
  },
  {
   "cell_type": "code",
   "execution_count": null,
   "id": "54fda933",
   "metadata": {},
   "outputs": [],
   "source": [
    "δ̄ = (interval(1)- Z₁)/Z₂"
   ]
  },
  {
   "cell_type": "code",
   "execution_count": null,
   "id": "4ae343bb-8aad-4a5a-bd92-cfc8c45b3c9a",
   "metadata": {},
   "outputs": [],
   "source": [
    "δ̲ = (interval(1) - Z₁ - sqrt(interval(1) - interval(2)*Z₁ + Z₁^2 - interval(2)*Y*Z₂))/Z₂"
   ]
  },
  {
   "cell_type": "markdown",
   "id": "76ee7092-2b80-4df6-b5ea-ed5cbde4c2f3",
   "metadata": {},
   "source": [
    "# Checking Positivity"
   ]
  },
  {
   "cell_type": "code",
   "execution_count": null,
   "id": "4a2e8e12-b96e-4894-a89a-f5b6e2cab661",
   "metadata": {},
   "outputs": [],
   "source": [
    "# infinity norm error\n",
    "inf_err = C3*δ̲"
   ]
  },
  {
   "cell_type": "code",
   "execution_count": null,
   "id": "daa92582-1557-4f3f-9b05-be1d4fa2bfee",
   "metadata": {},
   "outputs": [],
   "source": [
    "m = 6\n",
    "supm = inf_err+sum(abs.(ū[m+2:end]).*sups[m+2:end])\n",
    "Pₘ = zeros(Interval{BigFloat},m+1)\n",
    "for j = 0:m\n",
    "#     println(j)\n",
    "    Lⱼ =  [interval((-1)^k)*interval(BigFloat, doublefactorial(2*j+1)//doublefactorial(2*k+1)//factorial(k)//factorial(j-k)//2^(j-k)) for k=0:j]\n",
    "    Pₘ[1:j+1] += ū[Int64(j+1)]*Lⱼ/sqrt(sqrt(interval(BigFloat,π))*interval(BigFloat, doublefactorial(2*j+1)//2^(j+1)//factorial(j)))\n",
    "end"
   ]
  },
  {
   "cell_type": "code",
   "execution_count": null,
   "id": "7d31dd33-8c47-4818-8187-52af86cbe523",
   "metadata": {},
   "outputs": [],
   "source": [
    "r₀ = interval(BigFloat,4.0)\n",
    "z = mince(interval(0,r₀.^2/interval(4)), 2000)\n",
    "\n",
    "if all(inf.(evalpoly.(z,tuple(Pₘ)).*exp.(-z).-supm.*exp.(-z/interval(2))).>0) && inf(interval(d//4)-interval(1)/(p-interval(1))+r₀^2/interval(16)-((supū+inf_err)*exp(-r₀^2/interval(8)))^(p-interval(1)))>0\n",
    "    println(\"positivity checked\")\n",
    "else\n",
    "    println(\"positivity not checked\")\n",
    "end"
   ]
  }
 ],
 "metadata": {
  "kernelspec": {
   "display_name": "Julia 1.10.2",
   "language": "julia",
   "name": "julia-1.10"
  },
  "language_info": {
   "file_extension": ".jl",
   "mimetype": "application/julia",
   "name": "julia",
   "version": "1.10.2"
  }
 },
 "nbformat": 4,
 "nbformat_minor": 5
}
