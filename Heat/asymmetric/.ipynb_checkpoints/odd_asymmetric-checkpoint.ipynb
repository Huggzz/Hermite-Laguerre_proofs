{
 "cells": [
  {
   "cell_type": "code",
   "execution_count": 1,
   "id": "617552a4",
   "metadata": {},
   "outputs": [],
   "source": [
    "using IntervalArithmetic, Combinatorics, Polynomials, Serialization, LinearAlgebra, Base.Threads, Random, LaTeXStrings"
   ]
  },
  {
   "cell_type": "code",
   "execution_count": 2,
   "id": "a70edc5a",
   "metadata": {},
   "outputs": [
    {
     "data": {
      "text/plain": [
       "11476"
      ]
     },
     "execution_count": 2,
     "metadata": {},
     "output_type": "execute_result"
    }
   ],
   "source": [
    "K = 150\n",
    "Ms = collect(K:-1:0)\n",
    "indices = [1; cumsum(Ms.+1).+1]\n",
    "N = indices[end]-1"
   ]
  },
  {
   "cell_type": "code",
   "execution_count": 5,
   "id": "4a0ad62f",
   "metadata": {},
   "outputs": [
    {
     "data": {
      "text/plain": [
       "452"
      ]
     },
     "execution_count": 5,
     "metadata": {},
     "output_type": "execute_result"
    }
   ],
   "source": [
    "# approximate solution\n",
    "ū = interval.(deserialize(\"ubar\"));\n",
    "\n",
    "# regularised Vandermonde matrices for 2p and p+1 products\n",
    "V̄4 = deserialize(\"V4r\");\n",
    "V̄6 = deserialize(\"V6r\");\n",
    "\n",
    "N = size(V̄4)[2]\n",
    "N4 = size(V̄4)[1];\n",
    "N6 = size(V̄6)[1]"
   ]
  },
  {
   "cell_type": "code",
   "execution_count": 6,
   "id": "a41b5b15",
   "metadata": {},
   "outputs": [
    {
     "data": {
      "text/plain": [
       "L6 (generic function with 1 method)"
      ]
     },
     "execution_count": 6,
     "metadata": {},
     "output_type": "execute_result"
    }
   ],
   "source": [
    "function L6(u)\n",
    "    U = V̄6.*u'\n",
    "    P = [sum(U[:,indices[k+1]:indices[k+2]-1], dims = 2)[:] for k=0:K]\n",
    "    freq_proj = zeros(Interval{BigFloat}, (N6, 3*K+2))\n",
    "    for i=0:K, k=0:K, j=0:K\n",
    "        if i > k && k > j\n",
    "            X = P[k+1].*P[j+1].*P[i+1]*interval(3//2)\n",
    "            freq_proj[:,k+i+j+2] += X\n",
    "            freq_proj[:,abs(2*(k+i-j)+1)÷2+1] += X\n",
    "            freq_proj[:,abs(2*(k-i-j)-1)÷2+1] += X\n",
    "            freq_proj[:,abs(2*(-k+i-j)-1)÷2+1] += X\n",
    "        elseif i > k && k==j\n",
    "            X = P[k+1].*P[j+1].*P[i+1]*interval(3//4)\n",
    "            freq_proj[:,k+i+j+2] += X\n",
    "            freq_proj[:,abs(2*(k+i-j)+1)÷2+1] += X\n",
    "            freq_proj[:,abs(2*(k-i-j)-1)÷2+1] += X\n",
    "            freq_proj[:,abs(2*(-k+i-j)-1)÷2+1] += X\n",
    "        elseif i == k && k==j\n",
    "            X = P[k+1].*P[j+1].*P[i+1]/interval(4)\n",
    "            freq_proj[:,k+i+j+2] += X\n",
    "            freq_proj[:,abs(2*(k+i-j)+1)÷2+1] += X\n",
    "            freq_proj[:,abs(2*(k-i-j)-1)÷2+1] += X\n",
    "            freq_proj[:,abs(2*(-k+i-j)-1)÷2+1] += X\n",
    "        end\n",
    "    end\n",
    "    return sum(freq_proj.^interval(2))\n",
    "end"
   ]
  },
  {
   "cell_type": "code",
   "execution_count": 7,
   "id": "cc2d7848",
   "metadata": {},
   "outputs": [
    {
     "data": {
      "text/plain": [
       "L2 (generic function with 1 method)"
      ]
     },
     "execution_count": 7,
     "metadata": {},
     "output_type": "execute_result"
    }
   ],
   "source": [
    "function L2(u)\n",
    "    return sum(u.^interval(2))\n",
    "end"
   ]
  },
  {
   "cell_type": "code",
   "execution_count": 8,
   "id": "d75f9326",
   "metadata": {},
   "outputs": [],
   "source": [
    "𝔏 = reduce(vcat, [interval(k) .+ interval(3//2) .+ interval.(collect(0:Ms[k+1])) for k=0:K])\n",
    "λₘ = maximum(𝔏) + interval(1)\n",
    "λ₀ = interval(1.5);"
   ]
  },
  {
   "cell_type": "code",
   "execution_count": null,
   "id": "5855589d",
   "metadata": {},
   "outputs": [],
   "source": [
    "interval64(x::Interval{BigFloat}) = interval(Float64(inf(x), RoundDown), Float64(sup(x), RoundUp))\n",
    "\n",
    "ū = interval.(deserialize(\"ubar\"));\n",
    "\n",
    "# regularised Vandermonde matrices for 2p and p+1 products\n",
    "V̄4 = interval64.(deserialize(\"V4r\"));\n",
    "V̄6 = interval64.(deserialize(\"V6r\"));\n",
    "\n",
    "N = size(V̄4)[2]\n",
    "N4 = size(V̄4)[1];\n",
    "N6 = size(V̄6)[1];"
   ]
  },
  {
   "cell_type": "code",
   "execution_count": null,
   "id": "432d55b2",
   "metadata": {},
   "outputs": [],
   "source": [
    "𝔏 = Diagonal(reduce(vcat, [interval(k) .+ interval(1.5) .+ interval.(collect(0:Ms[k+1])) for k=0:K]))\n",
    "λₘ = maximum(𝔏) + interval(1)\n",
    "λ₀ = interval(1);"
   ]
  },
  {
   "cell_type": "code",
   "execution_count": null,
   "id": "25e0ac9c",
   "metadata": {},
   "outputs": [],
   "source": [
    "function H1(u)\n",
    "    return sum(𝔏*(u.^2))\n",
    "end\n",
    "\n",
    "# rigorous upper bound of the 2-norm of a matrix\n",
    "function op_norm(A)\n",
    "    if size(A) == (2,2)\n",
    "        return sqrt(sum(A.^interval(2)) + sqrt(((A[1,2]+A[2,1])^interval(2)+(A[1,1]-A[2,2])^interval(2))*((A[1,2]-A[2,1])^interval(2)+(A[1,1]+A[2,2])^interval(2))))/sqrt(interval(2))\n",
    "    else\n",
    "        return interval(sup(sqrt(interval(maximum(sup.(sum(abs.(A), dims = 1))))*interval(maximum(sup.(sum(abs.(A), dims = 2)))))))\n",
    "    end\n",
    "end\n",
    "\n",
    "function L∞(u)\n",
    "    return sum(abs.(u).*sups)\n",
    "end"
   ]
  },
  {
   "cell_type": "code",
   "execution_count": 9,
   "id": "b5f37c6a",
   "metadata": {},
   "outputs": [
    {
     "data": {
      "text/plain": [
       "Gram (generic function with 1 method)"
      ]
     },
     "execution_count": 9,
     "metadata": {},
     "output_type": "execute_result"
    }
   ],
   "source": [
    "function Gram(u)\n",
    "    U = V̄4.*u'\n",
    "    P = [sum(U[:,indices[k+1]:indices[k+2]-1], dims = 2)[:] for k=0:K]\n",
    "    Gu = zeros(Interval{Float64},(N,N))\n",
    "    ind = shuffle(collect(0:K))\n",
    "    Threads.@threads for i in ind\n",
    "        println((i,Threads.threadid()))\n",
    "        W = (V̄4[:,indices[i+1]:indices[i+2]-1])\n",
    "        for k=0:K, j=0:K\n",
    "            X = (P[k+1].*P[j+1]).*W\n",
    "            if 2*(k+i+j)+3<=2*K+1\n",
    "                l = k+i+j+1\n",
    "                Gu[indices[l+1]:indices[l+2]-1, indices[i+1]:indices[i+2]-1] += (V̄4[:,indices[l+1]:indices[l+2]-1])'*X\n",
    "            end\n",
    "            if -2*K-1<=2*(k+i-j)+1<=2*K+1\n",
    "                l = abs(2*(k+i-j)+1)÷2\n",
    "                Gu[indices[l+1]:indices[l+2]-1, indices[i+1]:indices[i+2]-1] += (V̄4[:,indices[l+1]:indices[l+2]-1])'*X\n",
    "            end\n",
    "            if -2*K-1<=2*(k-i-j)-1<=2*K+1\n",
    "                l = abs(2*(k-i-j)-1)÷2\n",
    "                Gu[indices[l+1]:indices[l+2]-1, indices[i+1]:indices[i+2]-1] += (V̄4[:,indices[l+1]:indices[l+2]-1])'*X\n",
    "            end\n",
    "            if -2*K-1<=2*(-k+i-j)-1<=2*K+1\n",
    "                l = abs(2*(-k+i-j)-1)÷2\n",
    "                Gu[indices[l+1]:indices[l+2]-1, indices[i+1]:indices[i+2]-1] += (V̄4[:,indices[l+1]:indices[l+2]-1])'*X\n",
    "            end\n",
    "        end\n",
    "    end\n",
    "    return Gu/interval(4)\n",
    "end"
   ]
  },
  {
   "cell_type": "code",
   "execution_count": null,
   "id": "dc47830c-3ee5-4332-a902-b6aa9b2e210b",
   "metadata": {},
   "outputs": [],
   "source": [
    "ū"
   ]
  },
  {
   "cell_type": "code",
   "execution_count": null,
   "id": "82e02b30",
   "metadata": {},
   "outputs": [
    {
     "name": "stdout",
     "output_type": "stream",
     "text": [
      "(118, 8)\n",
      "(31, 3)\n",
      "(89, 7)\n",
      "(19, 2)\n",
      "(92, 1)\n",
      "(59, 5)\n",
      "(48, 4)\n",
      "(41, 6)\n",
      "(98, 8)\n",
      "(67, 4)\n",
      "(129, 7)\n",
      "(107, 8)\n",
      "(144, 7)\n",
      "(40, 7)\n",
      "(131, 3)\n",
      "(66, 3)\n",
      "(112, 2)\n",
      "(127, 8)\n",
      "(12, 1)\n",
      "(16, 8)\n",
      "(33, 5)\n",
      "(85, 4)\n",
      "(146, 2)\n",
      "(76, 2)\n",
      "(126, 6)\n",
      "(134, 6)\n",
      "(102, 6)\n",
      "(30, 3)\n",
      "(22, 7)\n",
      "(8, 4)\n",
      "(29, 2)\n",
      "(132, 6)\n",
      "(71, 6)\n",
      "(10, 5)\n",
      "(7, 1)\n",
      "(121, 8)\n",
      "(46, 8)\n"
     ]
    }
   ],
   "source": [
    "G = Gram(ū);"
   ]
  },
  {
   "cell_type": "code",
   "execution_count": null,
   "id": "2c9730cc",
   "metadata": {},
   "outputs": [],
   "source": [
    "Fū∞ = (L6(ū)- L2(G*ū))"
   ]
  },
  {
   "cell_type": "code",
   "execution_count": null,
   "id": "11bc3e32",
   "metadata": {},
   "outputs": [],
   "source": [
    "function compute_norms(u)\n",
    "    U = V̄6.*u'\n",
    "    P = [sum(U[:,indices[k+1]:indices[k+2]-1], dims = 2)[:] for k=0:K]\n",
    "    u_prod = [P[k+1].*P[j+1] for k=0:K, j=0:K]\n",
    "    norms6 = zeros(Interval{Float64}, N)\n",
    "    ind = shuffle(collect(0:K))\n",
    "    Threads.@threads for i in ind\n",
    "#         println((i, Threads.threadid()))\n",
    "        for m = 0:Ms[i+1]\n",
    "            freq_proj = zeros(Interval{Float64}, (N6, 3*K+2))\n",
    "            W = V̄6[:,indices[i+1]+m]\n",
    "            for k=0:K, j=0:K\n",
    "                X = W.*(u_prod[k+1,j+1])/interval(4)\n",
    "                freq_proj[:,k+i+j+2] += X\n",
    "                freq_proj[:,abs(2*(k+i-j)+1)÷2+1] += X\n",
    "                freq_proj[:,abs(2*(k-i-j)-1)÷2+1] += X\n",
    "                freq_proj[:,abs(2*(-k+i-j)-1)÷2+1] += X\n",
    "            end\n",
    "            norms6[indices[i+1]+m] = sum(freq_proj.^interval(2))\n",
    "        end\n",
    "    end\n",
    "    return norms6\n",
    "end"
   ]
  },
  {
   "cell_type": "code",
   "execution_count": null,
   "id": "f9fe0689",
   "metadata": {},
   "outputs": [],
   "source": [
    "int = compute_norms(ū);"
   ]
  },
  {
   "cell_type": "code",
   "execution_count": null,
   "id": "643dd9d9",
   "metadata": {},
   "outputs": [],
   "source": [
    "# PₙF(ū)\n",
    "PFū = ū - inv(𝔏)*(ū/interval(2)+G*ū);\n",
    "# println(norm(PFū))"
   ]
  },
  {
   "cell_type": "code",
   "execution_count": null,
   "id": "42fc367e",
   "metadata": {},
   "outputs": [],
   "source": [
    "# PₙDF(ū)Pₙ\n",
    "DFū = interval.(I(N)) - interval(1//4)*inv(𝔏) + interval(3)*inv(𝔏)*G;\n",
    "# approximate numerical inverse of PₙDF(ū)Pₙ\n",
    "Aₙ = interval.(inv(mid.(DFū)));"
   ]
  },
  {
   "cell_type": "code",
   "execution_count": null,
   "id": "ea420cc6",
   "metadata": {},
   "outputs": [],
   "source": [
    "w = sqrt.(abs.([int[i] - L2(G[i,:]) for i=1:N]))"
   ]
  },
  {
   "cell_type": "code",
   "execution_count": null,
   "id": "02239072-7420-4096-971e-e6d281113b8f",
   "metadata": {},
   "outputs": [],
   "source": [
    "Z¹¹ = interval(sup(op_norm( I - Aₙ*DFū)))"
   ]
  },
  {
   "cell_type": "code",
   "execution_count": null,
   "id": "dc173a48-cf82-4795-a3f5-5d45fb45d8a3",
   "metadata": {},
   "outputs": [],
   "source": [
    "Z¹² = interval(3)*interval(sup(sqrt(L2(abs.(𝔏.^interval(1//2)*interval.(Aₙ)*inv(𝔏))*w))))/(sqrt(λₘ))"
   ]
  },
  {
   "cell_type": "code",
   "execution_count": null,
   "id": "68049ccc-2f78-4688-a7c9-73d8f65c70e3",
   "metadata": {},
   "outputs": [],
   "source": [
    "Z²¹ = interval(3)*sqrt(L2(((𝔏)^(-interval(1//2))*w)/(interval(2)*sqrt(λₘ))))"
   ]
  },
  {
   "cell_type": "code",
   "execution_count": null,
   "id": "ba9f40ac",
   "metadata": {},
   "outputs": [],
   "source": [
    "supφ̄ = L∞(ū)\n",
    "Z²² = (interval(7//8)+interval(3)*supφ̄^interval(2)/interval(2))/λₘ"
   ]
  },
  {
   "cell_type": "code",
   "execution_count": null,
   "id": "1c22d096",
   "metadata": {},
   "outputs": [],
   "source": [
    "[Z¹¹ Z¹² ; Z²¹ Z²²]"
   ]
  },
  {
   "cell_type": "code",
   "execution_count": null,
   "id": "6539b8e8",
   "metadata": {},
   "outputs": [],
   "source": [
    "Y = interval.(sup(sqrt(H1(Aₙ*PFū)+Fū∞)))"
   ]
  },
  {
   "cell_type": "code",
   "execution_count": null,
   "id": "38ddd8c7",
   "metadata": {},
   "outputs": [],
   "source": [
    "Z₁ = op_norm([Z¹¹ Z¹² ; Z²¹ Z²²])"
   ]
  },
  {
   "cell_type": "code",
   "execution_count": null,
   "id": "0e06d8f3",
   "metadata": {},
   "outputs": [],
   "source": [
    "C24 = interval(2)\n",
    "C26 = interval(2)*cbrt(interval(3))\n",
    "op_n = interval(max(sup(op_norm((𝔏)^interval(1//2)*Aₙ*inv(𝔏))), sup(λₘ^interval(-1//2))))"
   ]
  },
  {
   "cell_type": "code",
   "execution_count": null,
   "id": "27066af3",
   "metadata": {},
   "outputs": [],
   "source": [
    "Z₂ = interval(3)*supφ̄*sqrt(interval(2)*interval(π))* C24^interval(2)*op_n\n",
    "Z₃ = interval(6)*interval(π)*C26^interval(3)*op_n"
   ]
  },
  {
   "cell_type": "code",
   "execution_count": null,
   "id": "0ba5bf3f",
   "metadata": {},
   "outputs": [],
   "source": [
    "δ̄ = (-Z₂+sqrt(Z₂^interval(2) +interval(2)*Z₃-interval(2)*Z₁*Z₃))/Z₃"
   ]
  },
  {
   "cell_type": "code",
   "execution_count": null,
   "id": "f633599e",
   "metadata": {},
   "outputs": [],
   "source": [
    "P(δ) = Z₃/interval(6)*δ^interval(3) + Z₂/interval(2)*δ^interval(2) - (interval(1) - Z₁)*δ + Y"
   ]
  },
  {
   "cell_type": "code",
   "execution_count": null,
   "id": "dd75237d",
   "metadata": {},
   "outputs": [],
   "source": [
    "δ̲ = Y/(interval(1)-Z₁)*(interval(1)+interval(2)^interval(-20))\n",
    "if sup(P(δ̲))<0\n",
    "    println(δ̲)\n",
    "end"
   ]
  },
  {
   "cell_type": "code",
   "execution_count": null,
   "id": "2da87581",
   "metadata": {},
   "outputs": [],
   "source": [
    "Float64(sup(δ̲), RoundUp)"
   ]
  },
  {
   "cell_type": "code",
   "execution_count": null,
   "id": "4896802a",
   "metadata": {},
   "outputs": [],
   "source": [
    "Float64(inf(δ̄), RoundDown)"
   ]
  },
  {
   "cell_type": "code",
   "execution_count": null,
   "id": "6e18bfc1",
   "metadata": {},
   "outputs": [],
   "source": [
    "Float64(sup(Y), RoundUp)"
   ]
  },
  {
   "cell_type": "code",
   "execution_count": null,
   "id": "bf1cbd61",
   "metadata": {},
   "outputs": [],
   "source": [
    "Float64(sup(Z₁), RoundUp)"
   ]
  },
  {
   "cell_type": "code",
   "execution_count": null,
   "id": "8ad9380c",
   "metadata": {},
   "outputs": [],
   "source": [
    "Float64(sup(sqrt(interval(10)*interval(π)*δ̲^interval(2))), RoundUp)"
   ]
  },
  {
   "cell_type": "code",
   "execution_count": null,
   "id": "7646b4a5",
   "metadata": {},
   "outputs": [],
   "source": [
    "setprecision(Interval, 128)\n",
    "ū = big.(deserialize(\"ubar\"));"
   ]
  },
  {
   "cell_type": "code",
   "execution_count": null,
   "id": "61948236",
   "metadata": {},
   "outputs": [],
   "source": [
    "rloc = big.(collect(0:400))/50"
   ]
  },
  {
   "cell_type": "code",
   "execution_count": null,
   "id": "e2b0f4c2",
   "metadata": {},
   "outputs": [],
   "source": [
    "K = big(100)\n",
    "Ms = big.(collect(K:-1:0))\n",
    "indices = big.([1; cumsum(Ms.+1).+1])"
   ]
  },
  {
   "cell_type": "code",
   "execution_count": null,
   "id": "b56e2358",
   "metadata": {},
   "outputs": [],
   "source": [
    "φᵣ = zeros((K+1, 401))\n",
    "for k in 0:K\n",
    "    println(k)\n",
    "    p = ((rloc/2).^(2*k+1)).*exp.(-rloc.^2/8)\n",
    "    for m=0:Ms[k+1]\n",
    "        # println((k,m))\n",
    "        Lₘ = Polynomial([(-1)^j*big(binomial(m+2*k+1,m-j)//factorial(j)) for j=0:m])\n",
    "        Z = sqrt(big(factorial(m+2*k+1)//factorial(m)))\n",
    "        φᵣ[k+1,:] += ū[indices[k+1]+m]*p.* Lₘ.(rloc.^2/4)/Z\n",
    "    end\n",
    "    \n",
    "end"
   ]
  },
  {
   "cell_type": "code",
   "execution_count": null,
   "id": "f790d45e",
   "metadata": {},
   "outputs": [],
   "source": [
    "using Plots"
   ]
  },
  {
   "cell_type": "code",
   "execution_count": null,
   "id": "a3b339f4",
   "metadata": {},
   "outputs": [],
   "source": [
    "plot(rloc, φᵣ[1:5, :]')"
   ]
  },
  {
   "cell_type": "code",
   "execution_count": null,
   "id": "060984f8",
   "metadata": {},
   "outputs": [],
   "source": [
    "maximum(φᵣ[1,:])"
   ]
  },
  {
   "cell_type": "code",
   "execution_count": null,
   "id": "3e1b230e",
   "metadata": {},
   "outputs": [],
   "source": [
    "ϑ = big.(collect(0:100))/100*2*big(π)\n",
    "c = cos.(ϑ.*collect(1:2:2*K+1)')"
   ]
  },
  {
   "cell_type": "code",
   "execution_count": null,
   "id": "ffcf9f13",
   "metadata": {},
   "outputs": [],
   "source": [
    "surface(rloc.*cos.(ϑ'),rloc.*sin.(ϑ'), (c*φᵣ)', xlabel = L\"$x$\", ylabel = L\"$y$\", zlabel = L\"$\\overline{\\varphi}\\,(x, y)$\", colorbar = false, dpi = 800)"
   ]
  },
  {
   "cell_type": "code",
   "execution_count": null,
   "id": "d5c947b1",
   "metadata": {},
   "outputs": [],
   "source": [
    "png(\"asymmetric_plot\")"
   ]
  },
  {
   "cell_type": "code",
   "execution_count": null,
   "id": "0dbd200f",
   "metadata": {},
   "outputs": [],
   "source": [
    "maximum(c*φᵣ)"
   ]
  },
  {
   "cell_type": "code",
   "execution_count": null,
   "id": "ec8f47ed",
   "metadata": {},
   "outputs": [],
   "source": [
    "fieldnames(typeof(Z₁.bareinterval))"
   ]
  },
  {
   "cell_type": "code",
   "execution_count": null,
   "id": "520ca090-2cbb-40fc-bf6d-5f37cb9745df",
   "metadata": {},
   "outputs": [],
   "source": []
  }
 ],
 "metadata": {
  "kernelspec": {
   "display_name": "Julia 1.10.0",
   "language": "julia",
   "name": "julia-1.10"
  },
  "language_info": {
   "file_extension": ".jl",
   "mimetype": "application/julia",
   "name": "julia",
   "version": "1.10.0"
  }
 },
 "nbformat": 4,
 "nbformat_minor": 5
}
