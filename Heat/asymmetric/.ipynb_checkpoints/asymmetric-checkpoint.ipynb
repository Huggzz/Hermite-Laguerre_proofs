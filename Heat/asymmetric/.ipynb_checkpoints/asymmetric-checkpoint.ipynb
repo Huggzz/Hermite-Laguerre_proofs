{
 "cells": [
  {
   "cell_type": "code",
   "execution_count": 9,
   "id": "617552a4",
   "metadata": {},
   "outputs": [],
   "source": [
    "using IntervalArithmetic, Combinatorics, Polynomials, Serialization, LinearAlgebra, Base.Threads, Random, LaTeXStrings, IntervalLinearAlgebra"
   ]
  },
  {
   "cell_type": "code",
   "execution_count": 2,
   "id": "a70edc5a",
   "metadata": {},
   "outputs": [
    {
     "data": {
      "text/plain": [
       "intervalR (generic function with 1 method)"
      ]
     },
     "execution_count": 2,
     "metadata": {},
     "output_type": "execute_result"
    }
   ],
   "source": [
    "n =101\n",
    "\n",
    "Ms = [(n-1-k)÷ 2 for k=0:n-1]\n",
    "K = length(Ms)-1\n",
    "indices = [1; cumsum(Ms.+1).+1]\n",
    "\n",
    "# λₘ = @interval(d//2+n+1);\n",
    "# λ₀ = @interval(d//2);\n",
    "intervalR(x::Rational) = @interval(x) "
   ]
  },
  {
   "cell_type": "code",
   "execution_count": 3,
   "id": "4a0ad62f",
   "metadata": {},
   "outputs": [],
   "source": [
    "# approximate solution\n",
    "ū = interval.(deserialize(\"ubar\"));\n",
    "\n",
    "# regularised Vandermonde matrices for 2p and p+1 products\n",
    "V̄4 = deserialize(\"V4r\");\n",
    "V̄6 = deserialize(\"V6r\");\n",
    "\n",
    "N = size(V̄4)[2]\n",
    "N4 = size(V̄4)[1];\n",
    "N6 = size(V̄6)[1];"
   ]
  },
  {
   "cell_type": "code",
   "execution_count": 4,
   "id": "d75f9326",
   "metadata": {},
   "outputs": [],
   "source": [
    "𝔏 = Diagonal(reduce(vcat, [k/2 .+ 1 .+ interval.(collect(0:Ms[k+1])) for k=0:K]));"
   ]
  },
  {
   "cell_type": "code",
   "execution_count": 5,
   "id": "25e0ac9c",
   "metadata": {},
   "outputs": [
    {
     "data": {
      "text/plain": [
       "H1 (generic function with 1 method)"
      ]
     },
     "execution_count": 5,
     "metadata": {},
     "output_type": "execute_result"
    }
   ],
   "source": [
    "function L2(u)\n",
    "    return sum(u.^2)\n",
    "end\n",
    "\n",
    "function H1(u)\n",
    "    return sum(𝔏*(u.^2))\n",
    "end"
   ]
  },
  {
   "cell_type": "code",
   "execution_count": 6,
   "id": "3f916f8a",
   "metadata": {},
   "outputs": [
    {
     "data": {
      "text/plain": [
       "L6 (generic function with 1 method)"
      ]
     },
     "execution_count": 6,
     "metadata": {},
     "output_type": "execute_result"
    }
   ],
   "source": [
    "function L6(u)\n",
    "    U = V̄6*Diagonal(u)\n",
    "    P = [sum(U[:,indices[k+1]:indices[k+2]-1], dims = 2)[:] for k=0:K]\n",
    "    u_prod = [P[k+1].*P[j+1] for k=0:K, j=0:K]\n",
    "    freq_proj = zeros(Interval{Float64}, (N6, 3*K))\n",
    "    for i = 0:K\n",
    "        for m = 0:Ms[i+1]\n",
    "            W = V̄6[:,indices[i+1]+m]\n",
    "            for k=0:K, j=0:K\n",
    "                X = W.*(u_prod[k,j])/4\n",
    "                freq_proj[:,k+i+j+1] += X\n",
    "                freq_proj[:,abs(k+i-j)+1] += X\n",
    "                freq_proj[:,abs(k-i-j)+1] += X\n",
    "                freq_proj[:,abs(-k+i-j)+1] += X\n",
    "            end\n",
    "            norms6[indices[i+1]+m] = sum(freq_proj.^2)\n",
    "        end\n",
    "    end\n",
    "    return norms6\n",
    "end"
   ]
  },
  {
   "cell_type": "code",
   "execution_count": 10,
   "id": "b5f37c6a",
   "metadata": {},
   "outputs": [
    {
     "data": {
      "text/plain": [
       "Gram (generic function with 1 method)"
      ]
     },
     "execution_count": 10,
     "metadata": {},
     "output_type": "execute_result"
    }
   ],
   "source": [
    "function Gram(u)\n",
    "    U = V̄4*Diagonal(u)\n",
    "    P = [Diagonal(sum(U[:,indices[k+1]:indices[k+2]-1], dims = 2)[:]) for k=0:K]\n",
    "    Gu = zeros(Interval{Float64},(N,N))\n",
    "    ind = shuffle(collect(0:K))\n",
    "    Threads.@threads for i in ind\n",
    "#         println((i,Threads.threadid()))\n",
    "        W = (V̄4[:,indices[i+1]:indices[i+2]-1])\n",
    "        for k=0:K, j=0:K\n",
    "            X = (P[k+1]*P[j+1])*W\n",
    "            if k+i+j<=K\n",
    "                l = k+i+j\n",
    "                Gu[indices[l+1]:indices[l+2]-1, indices[i+1]:indices[i+2]-1] += (V̄4[:,indices[l+1]:indices[l+2]-1])'*X\n",
    "            end\n",
    "            if -K<=k+i-j<=K\n",
    "                l = abs(k+i-j)\n",
    "                Gu[indices[l+1]:indices[l+2]-1, indices[i+1]:indices[i+2]-1] += (V̄4[:,indices[l+1]:indices[l+2]-1])'*X\n",
    "            end\n",
    "            if -K<=k-i-j<=K\n",
    "                l = abs(k-i-j)\n",
    "                Gu[indices[l+1]:indices[l+2]-1, indices[i+1]:indices[i+2]-1] += (V̄4[:,indices[l+1]:indices[l+2]-1])'*X\n",
    "            end\n",
    "            if -K<=-k+i-j<=K\n",
    "                l = abs(-k+i-j)\n",
    "                Gu[indices[l+1]:indices[l+2]-1, indices[i+1]:indices[i+2]-1] += (V̄4[:,indices[l+1]:indices[l+2]-1])'*X\n",
    "            end\n",
    "        end\n",
    "    end\n",
    "    return Gu/4\n",
    "end"
   ]
  },
  {
   "cell_type": "code",
   "execution_count": 11,
   "id": "82e02b30",
   "metadata": {},
   "outputs": [
    {
     "ename": "LoadError",
     "evalue": "MethodError: no method matching *(::IntervalLinearAlgebra.MultiplicationType{:fast}, ::Matrix{Interval{BigFloat}})\n\n\u001b[0mClosest candidates are:\n\u001b[0m  *(::IntervalLinearAlgebra.MultiplicationType{:fast}, ::AbstractArray{Interval{T}, 2}, \u001b[91m::AbstractArray{Interval{T}, 2}\u001b[39m) where T<:Real\n\u001b[0m\u001b[90m   @\u001b[39m \u001b[35mIntervalLinearAlgebra\u001b[39m \u001b[90m~/.julia/packages/IntervalLinearAlgebra/2hpkP/src/\u001b[39m\u001b[90m\u001b[4mmultiplication.jl:46\u001b[24m\u001b[39m\n\u001b[0m  *(::IntervalLinearAlgebra.MultiplicationType{:fast}, ::AbstractArray{Interval{T}, 2}, \u001b[91m::AbstractMatrix{T}\u001b[39m) where T<:Real\n\u001b[0m\u001b[90m   @\u001b[39m \u001b[35mIntervalLinearAlgebra\u001b[39m \u001b[90m~/.julia/packages/IntervalLinearAlgebra/2hpkP/src/\u001b[39m\u001b[90m\u001b[4mmultiplication.jl:101\u001b[24m\u001b[39m\n\u001b[0m  *(::IntervalLinearAlgebra.MultiplicationType{:fast}, ::AbstractMatrix{T}, \u001b[91m::AbstractArray{Interval{T}, 2}\u001b[39m) where T<:Real\n\u001b[0m\u001b[90m   @\u001b[39m \u001b[35mIntervalLinearAlgebra\u001b[39m \u001b[90m~/.julia/packages/IntervalLinearAlgebra/2hpkP/src/\u001b[39m\u001b[90m\u001b[4mmultiplication.jl:76\u001b[24m\u001b[39m\n\u001b[0m  ...\n",
     "output_type": "error",
     "traceback": [
      "MethodError: no method matching *(::IntervalLinearAlgebra.MultiplicationType{:fast}, ::Matrix{Interval{BigFloat}})\n\n\u001b[0mClosest candidates are:\n\u001b[0m  *(::IntervalLinearAlgebra.MultiplicationType{:fast}, ::AbstractArray{Interval{T}, 2}, \u001b[91m::AbstractArray{Interval{T}, 2}\u001b[39m) where T<:Real\n\u001b[0m\u001b[90m   @\u001b[39m \u001b[35mIntervalLinearAlgebra\u001b[39m \u001b[90m~/.julia/packages/IntervalLinearAlgebra/2hpkP/src/\u001b[39m\u001b[90m\u001b[4mmultiplication.jl:46\u001b[24m\u001b[39m\n\u001b[0m  *(::IntervalLinearAlgebra.MultiplicationType{:fast}, ::AbstractArray{Interval{T}, 2}, \u001b[91m::AbstractMatrix{T}\u001b[39m) where T<:Real\n\u001b[0m\u001b[90m   @\u001b[39m \u001b[35mIntervalLinearAlgebra\u001b[39m \u001b[90m~/.julia/packages/IntervalLinearAlgebra/2hpkP/src/\u001b[39m\u001b[90m\u001b[4mmultiplication.jl:101\u001b[24m\u001b[39m\n\u001b[0m  *(::IntervalLinearAlgebra.MultiplicationType{:fast}, ::AbstractMatrix{T}, \u001b[91m::AbstractArray{Interval{T}, 2}\u001b[39m) where T<:Real\n\u001b[0m\u001b[90m   @\u001b[39m \u001b[35mIntervalLinearAlgebra\u001b[39m \u001b[90m~/.julia/packages/IntervalLinearAlgebra/2hpkP/src/\u001b[39m\u001b[90m\u001b[4mmultiplication.jl:76\u001b[24m\u001b[39m\n\u001b[0m  ...\n",
      "",
      "Stacktrace:",
      " [1] *",
      "   @ ./operators.jl:578 [inlined]",
      " [2] *(A::Matrix{Interval{BigFloat}}, B::Diagonal{Interval{Float64}, Vector{Interval{Float64}}})",
      "   @ IntervalLinearAlgebra ~/.julia/packages/IntervalLinearAlgebra/2hpkP/src/multiplication.jl:37",
      " [3] Gram(u::Vector{Interval{Float64}})",
      "   @ Main ./In[10]:2",
      " [4] top-level scope",
      "   @ In[11]:1"
     ]
    }
   ],
   "source": [
    "G = Gram(ū);"
   ]
  },
  {
   "cell_type": "code",
   "execution_count": null,
   "id": "11bc3e32",
   "metadata": {},
   "outputs": [],
   "source": [
    "function compute_norms(u)\n",
    "    U = V̄6*Diagonal(u)\n",
    "    P = [sum(U[:,indices[k+1]:indices[k+2]-1], dims = 2)[:] for k=0:K]\n",
    "    u_prod = [P[k+1].*P[j+1] for k=0:K, j=0:K]\n",
    "    norms6 = zeros(Interval{Float64}, N)\n",
    "    ind = shuffle(collect(0:K))\n",
    "    Threads.@threads for i in ind\n",
    "        println((i, Threads.threadid()))\n",
    "        for m = 0:Ms[i+1]\n",
    "            freq_proj = zeros(Interval{Float64}, (N6, 3*K+1))\n",
    "            W = V̄6[:,indices[i+1]+m]\n",
    "            for k=0:K, j=0:K\n",
    "                X = W.*(u_prod[k+1,j+1])/4\n",
    "                freq_proj[:,k+i+j+1] += X\n",
    "                freq_proj[:,abs(k+i-j)+1] += X\n",
    "                freq_proj[:,abs(k-i-j)+1] += X\n",
    "                freq_proj[:,abs(-k+i-j)+1] += X\n",
    "            end\n",
    "            freq_proj[:,1] *=sqrt(interval(2))\n",
    "            norms6[indices[i+1]+m] = sum(freq_proj.^2)\n",
    "        end\n",
    "    end\n",
    "    return norms6\n",
    "end"
   ]
  },
  {
   "cell_type": "code",
   "execution_count": null,
   "id": "d3a3a0d9",
   "metadata": {},
   "outputs": [],
   "source": [
    "N6"
   ]
  },
  {
   "cell_type": "code",
   "execution_count": null,
   "id": "f9fe0689",
   "metadata": {},
   "outputs": [],
   "source": [
    "int = compute_norms(ū);"
   ]
  },
  {
   "cell_type": "code",
   "execution_count": null,
   "id": "643dd9d9",
   "metadata": {},
   "outputs": [],
   "source": [
    "# PₙF(ū)\n",
    "PFū = ū - inv(𝔏)*(2*ū-G*ū/2);\n",
    "println(norm(PFū))"
   ]
  },
  {
   "cell_type": "code",
   "execution_count": null,
   "id": "245cb5eb",
   "metadata": {},
   "outputs": [],
   "source": [
    "PFū"
   ]
  },
  {
   "cell_type": "code",
   "execution_count": null,
   "id": "42fc367e",
   "metadata": {},
   "outputs": [],
   "source": [
    "# PₙDF(ū)Pₙ\n",
    "DFū = I - 2*inv(𝔏) + 3*inv(𝔏)*G/2;\n",
    "# approximate numerical inverse of PₙDF(ū)Pₙ\n",
    "Aₙ = interval.(inv(Float64.(mid.(DFū))));"
   ]
  },
  {
   "cell_type": "code",
   "execution_count": null,
   "id": "ea420cc6",
   "metadata": {},
   "outputs": [],
   "source": [
    "w = sqrt.([int[i] - L2(G[i,:]) for i=1:n+1])"
   ]
  },
  {
   "cell_type": "code",
   "execution_count": null,
   "id": "a0267182",
   "metadata": {},
   "outputs": [],
   "source": []
  },
  {
   "cell_type": "code",
   "execution_count": null,
   "id": "ba9f40ac",
   "metadata": {},
   "outputs": [],
   "source": [
    "int[1]"
   ]
  },
  {
   "cell_type": "code",
   "execution_count": null,
   "id": "38ddd8c7",
   "metadata": {},
   "outputs": [],
   "source": [
    "L2(G[1,:])"
   ]
  },
  {
   "cell_type": "code",
   "execution_count": null,
   "id": "27066af3",
   "metadata": {},
   "outputs": [],
   "source": [
    "u = zeros(Interval{Float64}, N)\n",
    "u[indices[4]+1] +=1"
   ]
  },
  {
   "cell_type": "code",
   "execution_count": null,
   "id": "0ba5bf3f",
   "metadata": {},
   "outputs": [],
   "source": [
    "compute_norms(u)"
   ]
  },
  {
   "cell_type": "code",
   "execution_count": null,
   "id": "f633599e",
   "metadata": {},
   "outputs": [],
   "source": [
    "Out[66][indices[3]+1]"
   ]
  },
  {
   "cell_type": "code",
   "execution_count": null,
   "id": "dd75237d",
   "metadata": {},
   "outputs": [],
   "source": [
    "indices[4]+1"
   ]
  },
  {
   "cell_type": "code",
   "execution_count": null,
   "id": "2da87581",
   "metadata": {},
   "outputs": [],
   "source": [
    "Gram(u)"
   ]
  },
  {
   "cell_type": "code",
   "execution_count": null,
   "id": "4896802a",
   "metadata": {},
   "outputs": [],
   "source": [
    "maximum(sup.(abs.(S - S'))[52:end, 52:end])"
   ]
  },
  {
   "cell_type": "code",
   "execution_count": null,
   "id": "6e18bfc1",
   "metadata": {},
   "outputs": [],
   "source": [
    "S[indices[1]+1, indices[7]+1]"
   ]
  },
  {
   "cell_type": "code",
   "execution_count": null,
   "id": "bf1cbd61",
   "metadata": {},
   "outputs": [],
   "source": [
    "    U = V̄6*Diagonal(u)\n",
    "    P = [sum(U[:,indices[k+1]:indices[k+2]-1], dims = 2)[:] for k=0:K]\n",
    "    u_prod = [P[k+1].*P[j+1] for k=0:K, j=0:K]"
   ]
  },
  {
   "cell_type": "code",
   "execution_count": null,
   "id": "8ad9380c",
   "metadata": {},
   "outputs": [],
   "source": [
    "i = 3"
   ]
  },
  {
   "cell_type": "code",
   "execution_count": null,
   "id": "7a44f6d8",
   "metadata": {},
   "outputs": [],
   "source": [
    "m = 1"
   ]
  },
  {
   "cell_type": "code",
   "execution_count": null,
   "id": "10ab92d6",
   "metadata": {},
   "outputs": [],
   "source": [
    "freq_proj = zeros(Interval{Float64}, (N6, 3*K+1))"
   ]
  },
  {
   "cell_type": "code",
   "execution_count": null,
   "id": "40abc65e",
   "metadata": {},
   "outputs": [],
   "source": [
    "            W = V̄6[:,indices[i+1]+m]\n",
    "            for k=0:K, j=0:K\n",
    "                X = W.*(u_prod[k+1,j+1])/4\n",
    "                freq_proj[:,k+i+j+1] += X\n",
    "                freq_proj[:,abs(k+i-j)+1] += X\n",
    "                freq_proj[:,abs(k-i-j)+1] += X\n",
    "                freq_proj[:,abs(-k+i-j)+1] += X\n",
    "            end"
   ]
  },
  {
   "cell_type": "code",
   "execution_count": null,
   "id": "dd3147f6",
   "metadata": {},
   "outputs": [],
   "source": [
    "freq_proj"
   ]
  },
  {
   "cell_type": "code",
   "execution_count": null,
   "id": "7f68b6c8",
   "metadata": {},
   "outputs": [],
   "source": [
    "sum(freq_proj.^2)"
   ]
  },
  {
   "cell_type": "code",
   "execution_count": null,
   "id": "e9d284ca",
   "metadata": {},
   "outputs": [],
   "source": [
    "G"
   ]
  },
  {
   "cell_type": "code",
   "execution_count": null,
   "id": "a29c335c",
   "metadata": {},
   "outputs": [],
   "source": [
    "𝔏*u +2*u - G*u/2"
   ]
  },
  {
   "cell_type": "code",
   "execution_count": null,
   "id": "07f4295a",
   "metadata": {},
   "outputs": [],
   "source": [
    "𝔏 = Diagonal(reduce(vcat, [k/2 .+ collect(0:Ms[k+1]) for k=0:K]).+1)\n",
    "L = Diagonal(diag(-𝔏) .+2.0)"
   ]
  },
  {
   "cell_type": "code",
   "execution_count": null,
   "id": "939924ca",
   "metadata": {},
   "outputs": [],
   "source": [
    "L*u + G*u/2"
   ]
  },
  {
   "cell_type": "code",
   "execution_count": null,
   "id": "e1f6f37f",
   "metadata": {},
   "outputs": [],
   "source": [
    "V̄ = mid.(V̄4)\n",
    "function Gram2(u, v)\n",
    "    U = V̄*Diagonal(u)\n",
    "    P = [Diagonal(sum(U[:,indices[k+1]:indices[k+2]-1], dims = 2)[:]) for k=0:K]\n",
    "    Gu = zeros(N)\n",
    "    V = V̄*Diagonal(v)\n",
    "    Q = [sum(V[:,indices[k+1]:indices[k+2]-1], dims = 2)[:] for k=0:K]\n",
    "    for i=0:K\n",
    "        # println((i,Threads.threadid()))\n",
    "        for k=0:K, j=0:K\n",
    "            X = (P[k+1]*P[j+1])*Q[i+1]\n",
    "            if k+i+j<=K\n",
    "                l = k+i+j\n",
    "                Gu[indices[l+1]:indices[l+2]-1] += (V̄[:,indices[l+1]:indices[l+2]-1])'*X\n",
    "            end\n",
    "            if -K<=k+i-j<=K\n",
    "                l = abs(k+i-j)\n",
    "                Gu[indices[l+1]:indices[l+2]-1] += (V̄[:,indices[l+1]:indices[l+2]-1])'*X\n",
    "            end\n",
    "            if -K<=k-i-j<=K\n",
    "                l = abs(k-i-j)\n",
    "                Gu[indices[l+1]:indices[l+2]-1] += (V̄[:,indices[l+1]:indices[l+2]-1])'*X\n",
    "            end\n",
    "            if -K<=-k+i-j<=K\n",
    "                l = abs(-k+i-j)\n",
    "                Gu[indices[l+1]:indices[l+2]-1] += (V̄[:,indices[l+1]:indices[l+2]-1])'*X\n",
    "            end\n",
    "        end\n",
    "    end\n",
    "    return Gu/4\n",
    "end"
   ]
  },
  {
   "cell_type": "code",
   "execution_count": null,
   "id": "fa20045c",
   "metadata": {},
   "outputs": [],
   "source": [
    "L*ū - Gram(mid.(ū))*ū/2"
   ]
  },
  {
   "cell_type": "code",
   "execution_count": null,
   "id": "51fb0730",
   "metadata": {},
   "outputs": [],
   "source": [
    "L*ū - Gram2(mid.(u),mid.(u))/2"
   ]
  },
  {
   "cell_type": "code",
   "execution_count": null,
   "id": "bb07efcd",
   "metadata": {},
   "outputs": [],
   "source": [
    "L*u"
   ]
  }
 ],
 "metadata": {
  "kernelspec": {
   "display_name": "Julia 1.9.3",
   "language": "julia",
   "name": "julia-1.9"
  },
  "language_info": {
   "file_extension": ".jl",
   "mimetype": "application/julia",
   "name": "julia",
   "version": "1.9.3"
  }
 },
 "nbformat": 4,
 "nbformat_minor": 5
}
