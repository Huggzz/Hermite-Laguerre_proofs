{
 "cells": [
  {
   "cell_type": "markdown",
   "id": "6d29ebeb-1f6c-44f9-8c99-c31f0a39b67d",
   "metadata": {},
   "source": [
    "# Set up"
   ]
  },
  {
   "cell_type": "code",
   "execution_count": 1,
   "id": "300f1cc6",
   "metadata": {},
   "outputs": [],
   "source": [
    "using IntervalArithmetic, Combinatorics, Polynomials, Serialization, LinearAlgebra, Plots, LaTeXStrings"
   ]
  },
  {
   "cell_type": "code",
   "execution_count": null,
   "id": "85da9950",
   "metadata": {},
   "outputs": [],
   "source": [
    "include(\"quadrature.jl\")"
   ]
  },
  {
   "cell_type": "code",
   "execution_count": 2,
   "id": "72746988-eabd-45df-b6e9-83062ee71b09",
   "metadata": {},
   "outputs": [
    {
     "data": {
      "text/plain": [
       "[12.5663, 12.5664]₂₅₆_com"
      ]
     },
     "execution_count": 2,
     "metadata": {},
     "output_type": "execute_result"
    }
   ],
   "source": [
    "# start here with precomputed vandermonde matrices\n",
    "n = big(500)\n",
    "setprecision(256)\n",
    "\n",
    "# approximate solution\n",
    "ū = interval.(deserialize(\"ubar\"));\n",
    "\n",
    "# regularised Vandermonde matrices for 2p and p+1 products\n",
    "V̄4 = deserialize(\"V4r\")\n",
    "V̄6 = deserialize(\"V6r\")\n",
    "\n",
    "p = interval(3)\n",
    "d = 2\n",
    "α = d//2-1\n",
    "\n",
    "# m = n+1, (n+1)ᵗʰ eigenvalue\n",
    "λₘ = interval(d//2+n+1)\n",
    "λ₀ = interval(d//2)\n",
    "Z = interval(4)*interval(BigFloat, π)"
   ]
  },
  {
   "cell_type": "code",
   "execution_count": 3,
   "id": "85ec15e4",
   "metadata": {},
   "outputs": [],
   "source": [
    "𝔏 = Diagonal(interval.(big.(collect(0:n))).+λ₀);"
   ]
  },
  {
   "cell_type": "code",
   "execution_count": 4,
   "id": "ebbecb86-d55b-4a94-81c5-dcfe0c82565a",
   "metadata": {},
   "outputs": [
    {
     "data": {
      "text/plain": [
       "op_norm (generic function with 1 method)"
      ]
     },
     "execution_count": 4,
     "metadata": {},
     "output_type": "execute_result"
    }
   ],
   "source": [
    "LinearAlgebra.norm(v::Vector) = sqrt(sum(v.^2))\n",
    "\n",
    "# computes Lᵖ/H² norms before taking fractional exponent\n",
    "function L2(u)\n",
    "    return sum(u.^2)\n",
    "end\n",
    "\n",
    "function H2(u)\n",
    "    return sum((𝔏*u.^2))\n",
    "end\n",
    "\n",
    "function L6(u)\n",
    "    return sum((V̄6*u).^6)\n",
    "end\n",
    "\n",
    "# rigorous upper bound of the 2-norm of a matrix\n",
    "function op_norm(A)\n",
    "    if size(A) == (2,2)\n",
    "        Z = sqrt(sum(A.^2) + sqrt(((A[1,2]+A[2,1])^2+(A[1,1]-A[2,2])^2)*((A[1,2]-A[2,1])^2+(A[1,1]+A[2,2])^2)))/sqrt(interval(2))\n",
    "        if isguaranteed(Z)\n",
    "            return interval(sup(Z))\n",
    "        else\n",
    "            return Z\n",
    "        end\n",
    "    else\n",
    "        all(isguaranteed.(A)) || error(\"matrix not guaranteed\")\n",
    "        return sqrt(interval(maximum(sup.(sum(abs.(A), dims = 1))))*interval(maximum(sup.(sum(abs.(A), dims = 2)))))\n",
    "    end\n",
    "end"
   ]
  },
  {
   "cell_type": "markdown",
   "id": "1e25eee6-2759-481f-958b-cd83f6558620",
   "metadata": {},
   "source": [
    "# Proof"
   ]
  },
  {
   "cell_type": "code",
   "execution_count": 5,
   "id": "be15115d-8dc1-470c-b5ba-ffc506c6a1ae",
   "metadata": {
    "scrolled": true
   },
   "outputs": [],
   "source": [
    "# rigorous L²-norms of ūᵖ⁻¹ψ̂ⱼ\n",
    "int = sum(((V̄6*ū).^(p-interval(1)).*V̄6).^2, dims = 1);"
   ]
  },
  {
   "cell_type": "code",
   "execution_count": 6,
   "id": "de693262-cdfb-4a37-b0d9-00cfc9b55a85",
   "metadata": {
    "scrolled": true
   },
   "outputs": [],
   "source": [
    "Ḡ = interval.(Float64, V̄4)'*(interval.(Float64, V̄4*ū).^(p-interval(1)) .*interval.(Float64, V̄4));"
   ]
  },
  {
   "cell_type": "code",
   "execution_count": 7,
   "id": "9869d201-20d3-4e25-817e-33c23f7aeb25",
   "metadata": {},
   "outputs": [],
   "source": [
    "# PₙDF(ū)Pₙ\n",
    "DFū = interval.(Float64, interval(I(n+1)) - inv(𝔏)/(p-interval(1)) - p*𝔏\\Ḡ);"
   ]
  },
  {
   "cell_type": "code",
   "execution_count": 8,
   "id": "faf2785a-9851-414a-b68c-91f20b96e9ca",
   "metadata": {},
   "outputs": [],
   "source": [
    "# approximate numerical inverse of PₙDF(ū)Pₙ\n",
    "Aₙ = interval.(inv(mid.(DFū)));"
   ]
  },
  {
   "cell_type": "code",
   "execution_count": 9,
   "id": "e91dedbb",
   "metadata": {},
   "outputs": [],
   "source": [
    "w = sqrt.(abs.([int[i] - L2(Ḡ[i,:]) for i=1:n+1]));"
   ]
  },
  {
   "cell_type": "code",
   "execution_count": 10,
   "id": "4a653b5e",
   "metadata": {},
   "outputs": [],
   "source": [
    "# PₙF(ū)\n",
    "PFū = ū - inv(𝔏)*(ū/(p-interval(1))+(V̄4'*((V̄4*ū).^p)));"
   ]
  },
  {
   "cell_type": "code",
   "execution_count": 11,
   "id": "3e18b248",
   "metadata": {},
   "outputs": [
    {
     "data": {
      "text/plain": [
       "[6.83039e-13, 6.8304e-13]₂₅₆_com"
      ]
     },
     "execution_count": 11,
     "metadata": {},
     "output_type": "execute_result"
    }
   ],
   "source": [
    "Y = interval.(sqrt(H2(Aₙ*PFū)+(L6(ū)-L2((V̄4'*((V̄4*ū).^p))))))"
   ]
  },
  {
   "cell_type": "code",
   "execution_count": 12,
   "id": "09fde787-60e7-4336-9762-62b8e08b3eb5",
   "metadata": {},
   "outputs": [],
   "source": [
    "Z¹² = p*norm(abs.(𝔏*Aₙ*inv(𝔏))*w)/λₘ;"
   ]
  },
  {
   "cell_type": "code",
   "execution_count": 13,
   "id": "c3f1d6db",
   "metadata": {},
   "outputs": [
    {
     "data": {
      "text/plain": [
       "[1.33664, 1.33665]₂₅₆_com"
      ]
     },
     "execution_count": 13,
     "metadata": {},
     "output_type": "execute_result"
    }
   ],
   "source": [
    "supū = sum(abs.(ū))"
   ]
  },
  {
   "cell_type": "code",
   "execution_count": 14,
   "id": "51a2ee22",
   "metadata": {},
   "outputs": [],
   "source": [
    "Z¹¹ = op_norm(𝔏*(interval(I(n+1)) - Aₙ*DFū)*inv(𝔏));\n",
    "Z²¹ = p*norm(𝔏\\w);\n",
    "Z²² = (interval(1)/(p-interval(1))+p*supū)/λₘ;"
   ]
  },
  {
   "cell_type": "code",
   "execution_count": 15,
   "id": "9abeef5a",
   "metadata": {},
   "outputs": [
    {
     "data": {
      "text/plain": [
       "[0.00991664, 0.00991665]₂₅₆_com"
      ]
     },
     "execution_count": 15,
     "metadata": {},
     "output_type": "execute_result"
    }
   ],
   "source": [
    "Z₁ = op_norm([Z¹¹ Z¹² ; Z²¹ Z²²])"
   ]
  },
  {
   "cell_type": "code",
   "execution_count": 16,
   "id": "13aff9dd-a02c-4018-b581-4fa2186e6c9f",
   "metadata": {},
   "outputs": [
    {
     "data": {
      "text/plain": [
       "2×2 Matrix{Interval{BigFloat}}:\n",
       " [8.38066e-14, 8.38067e-14]₂₅₆_com  [0.00294919, 0.0029492]₂₅₆_com\n",
       " [0.00313003, 0.00313005]₂₅₆_com    [0.00898395, 0.00898396]₂₅₆_com"
      ]
     },
     "execution_count": 16,
     "metadata": {},
     "output_type": "execute_result"
    }
   ],
   "source": [
    "[Z¹¹ Z¹² ; Z²¹ Z²²]"
   ]
  },
  {
   "cell_type": "code",
   "execution_count": 17,
   "id": "7dc4a554",
   "metadata": {},
   "outputs": [
    {
     "data": {
      "text/plain": [
       "[5.64494, 5.64495]₂₅₆_com"
      ]
     },
     "execution_count": 17,
     "metadata": {},
     "output_type": "execute_result"
    }
   ],
   "source": [
    "# Calculation of the L²-norm of the Hessian of η and of the sup of η\n",
    "C₀ = I\"0.56419\"\n",
    "C₁ = I\"0.79789\"\n",
    "C₂ = I\"0.23033\"\n",
    "# C(2)\n",
    "C2 = sqrt(Z)*(interval(2//d)*C₀ + sqrt(interval(2//d))*C₁ + C₂)"
   ]
  },
  {
   "cell_type": "code",
   "execution_count": 18,
   "id": "c5f1d4a3",
   "metadata": {},
   "outputs": [
    {
     "data": {
      "text/plain": [
       "[719.298, 719.299]₂₅₆_com"
      ]
     },
     "execution_count": 18,
     "metadata": {},
     "output_type": "execute_result"
    }
   ],
   "source": [
    "op_n = interval(max(sup(op_norm(𝔏*Aₙ*inv(𝔏))), 1))\n",
    "Z₂ = interval(6)*C2*supū*op_n\n",
    "Z₃ = interval(6)*C2^2*op_n"
   ]
  },
  {
   "cell_type": "code",
   "execution_count": 19,
   "id": "14e45040",
   "metadata": {},
   "outputs": [
    {
     "data": {
      "text/plain": [
       "[0.00574341, 0.00574342]₂₅₆_com"
      ]
     },
     "execution_count": 19,
     "metadata": {},
     "output_type": "execute_result"
    }
   ],
   "source": [
    "δ̄ = (-Z₂+sqrt(Z₂^2 +interval(2)*Z₃-interval(2)*Z₁*Z₃))/Z₃"
   ]
  },
  {
   "cell_type": "code",
   "execution_count": 20,
   "id": "1fc892d4",
   "metadata": {},
   "outputs": [
    {
     "data": {
      "text/plain": [
       "P (generic function with 1 method)"
      ]
     },
     "execution_count": 20,
     "metadata": {},
     "output_type": "execute_result"
    }
   ],
   "source": [
    "P(δ) = Z₃/interval(6)*δ^3 + Z₂/interval(2)*δ^2 - (interval(1) - Z₁)*δ + Y"
   ]
  },
  {
   "cell_type": "code",
   "execution_count": 21,
   "id": "792f4d90",
   "metadata": {},
   "outputs": [
    {
     "name": "stdout",
     "output_type": "stream",
     "text": [
      "δ̲ validated\n"
     ]
    }
   ],
   "source": [
    "δ̲ = Y/(interval(1)-Z₁)*(interval(1)+interval(BigFloat,2)^(-33))\n",
    "if sup(P(δ̲))<0\n",
    "    println(\"δ̲ validated\")\n",
    "end"
   ]
  },
  {
   "cell_type": "markdown",
   "id": "dcc97d95-d52a-4ef1-a4d6-49f2ddb5c28f",
   "metadata": {},
   "source": [
    "# Checking Positivity"
   ]
  },
  {
   "cell_type": "code",
   "execution_count": 22,
   "id": "2e2a924b-8d5f-4664-8e22-75e0a540a662",
   "metadata": {},
   "outputs": [
    {
     "data": {
      "text/plain": [
       "[3.89434e-12, 3.89435e-12]₂₅₆_com"
      ]
     },
     "execution_count": 22,
     "metadata": {},
     "output_type": "execute_result"
    }
   ],
   "source": [
    "# infinity norm error\n",
    "inf_err = C2*δ̲"
   ]
  },
  {
   "cell_type": "code",
   "execution_count": 23,
   "id": "c3cdf872",
   "metadata": {},
   "outputs": [],
   "source": [
    "m = 10\n",
    "supm = inf_err+sum(abs.(ū[m+2:end]))\n",
    "Pₘ = zeros(Interval{BigFloat},m+1)\n",
    "for j = 0:m\n",
    "#     println(j)\n",
    "    Lⱼ =  [interval((-1)^i)*interval(BigFloat, binomial(j,i)//factorial(i)) for i=0:j]\n",
    "    Pₘ[1:j+1] += ū[Int64(j+1)]*Lⱼ\n",
    "end"
   ]
  },
  {
   "cell_type": "code",
   "execution_count": 24,
   "id": "3f77f7e2-12f5-4803-9909-bd048116ff60",
   "metadata": {},
   "outputs": [
    {
     "name": "stdout",
     "output_type": "stream",
     "text": [
      "positivity checked\n"
     ]
    }
   ],
   "source": [
    "r₀ = interval(BigFloat,4.0)\n",
    "z = mince(interval(0,r₀.^2/interval(4)), 2000)\n",
    "\n",
    "if all(inf.(evalpoly.(z,tuple(Pₘ)).*exp.(-z).-supm.*exp.(-z/interval(2))).>0) && inf(interval(d//4)-interval(1)/(p-interval(1))+r₀^2/interval(16)-((supū+inf_err)*exp(-r₀^2/interval(8)))^(p-interval(1)))>0\n",
    "    println(\"positivity checked\")\n",
    "else\n",
    "    println(\"positivity not checked\")\n",
    "end"
   ]
  },
  {
   "cell_type": "markdown",
   "id": "cbba504d-15ae-4672-a1e8-2cabd9a90b2c",
   "metadata": {},
   "source": [
    "# Plotting"
   ]
  },
  {
   "cell_type": "code",
   "execution_count": null,
   "id": "987e1140",
   "metadata": {},
   "outputs": [],
   "source": [
    "#solution plotting\n",
    "\n",
    "rloc = collect(0:400)/100\n",
    "zloc = rloc.^2/4\n",
    "sol = zeros(size(zloc));\n",
    "for k = 0:big(n)\n",
    "    # println(k)\n",
    "    Lₖ = Polynomial([(-1)^i*big(binomial(k,i)//factorial(i)) for i=0:k])\n",
    "    sol .+= Float64.(mid.(ū[Int64(k+1)]) .* Lₖ.(zloc))\n",
    "end"
   ]
  },
  {
   "cell_type": "code",
   "execution_count": null,
   "id": "14e77d3d",
   "metadata": {},
   "outputs": [],
   "source": [
    "plot(rloc, sol.*exp.(-zloc), xlabel = L\"r\", ylabel = L\"\\bar{u}\", legend = false, dpi =1000)"
   ]
  },
  {
   "cell_type": "code",
   "execution_count": null,
   "id": "400f89a6",
   "metadata": {},
   "outputs": [],
   "source": [
    "png(\"semi2dsol\")"
   ]
  }
 ],
 "metadata": {
  "kernelspec": {
   "display_name": "Julia 1.10.2",
   "language": "julia",
   "name": "julia-1.10"
  },
  "language_info": {
   "file_extension": ".jl",
   "mimetype": "application/julia",
   "name": "julia",
   "version": "1.10.2"
  }
 },
 "nbformat": 4,
 "nbformat_minor": 5
}
