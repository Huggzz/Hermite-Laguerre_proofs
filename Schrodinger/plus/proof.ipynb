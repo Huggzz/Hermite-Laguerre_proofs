{
 "cells": [
  {
   "cell_type": "markdown",
   "id": "c0b5faa8-e535-4fed-962d-8da488db65de",
   "metadata": {},
   "source": [
    "# Set Up"
   ]
  },
  {
   "cell_type": "code",
   "execution_count": null,
   "id": "300f1cc6",
   "metadata": {},
   "outputs": [],
   "source": [
    "using IntervalArithmetic, Combinatorics, Polynomials, Serialization, LinearAlgebra, Plots, LaTeXStrings"
   ]
  },
  {
   "cell_type": "code",
   "execution_count": null,
   "id": "335b3f06",
   "metadata": {},
   "outputs": [],
   "source": [
    "include(\"quadrature.jl\")"
   ]
  },
  {
   "cell_type": "markdown",
   "id": "d5e555df",
   "metadata": {},
   "source": [
    "We aim to find a radial self-similar solution to the critical nonlinear Schrodinger equation with $d=2$, $\\omega = 2$ and \\varepsilon = +1$, which in our setting is equivalent to solving the equation\n",
    "$$\\mathcal{L}u+\\frac{1}{2}u-\\frac{e^{r^2/4}}{2}u^3 = 0$$"
   ]
  },
  {
   "cell_type": "code",
   "execution_count": null,
   "id": "838bf2a2-f95f-4290-b113-dce5f286c55f",
   "metadata": {},
   "outputs": [],
   "source": [
    "# start here with precomputed vandermonde matrices\n",
    "n = big(500)\n",
    "setprecision(256)\n",
    "\n",
    "# approximate solution\n",
    "ū = interval.(deserialize(\"ubar\"));\n",
    "\n",
    "# regularised Vandermonde matrices for 2p and p+1 products\n",
    "V̄4 = deserialize(\"V4r\")\n",
    "V̄6 = deserialize(\"V6r\")\n",
    "\n",
    "p = interval(3)\n",
    "d = 2\n",
    "α = d//2\n",
    "ω = interval(2)\n",
    "ε = interval(1)\n",
    "\n",
    "# m = n+1, (n+1)ᵗʰ eigenvalue\n",
    "λₘ = interval(d//2+n+1)\n",
    "λ₀ = interval(d//2)\n",
    "Z = interval(4)*interval(BigFloat, π)\n",
    "\n",
    "𝔏 = Diagonal(interval.(big.(collect(0:n))).+λ₀);"
   ]
  },
  {
   "cell_type": "code",
   "execution_count": null,
   "id": "db26fb7c-a7f8-42f2-92e7-01b94df82fdd",
   "metadata": {},
   "outputs": [],
   "source": [
    "LinearAlgebra.norm(v::Vector) = sqrt(sum(v.^2))\n",
    "\n",
    "# computes Lᵖ/H² norms before taking fractional exponent\n",
    "function L2(u)\n",
    "    return sum(u.^2)\n",
    "end\n",
    "\n",
    "function H2(u)\n",
    "    return sum((𝔏*u.^2))\n",
    "end\n",
    "\n",
    "function H1(u)\n",
    "    return sum(𝔏*(u.^2))\n",
    "end\n",
    "\n",
    "function L6(u)\n",
    "    return sum((V̄6*u).^6)\n",
    "end\n",
    "\n",
    "# rigorous upper bound of the 2-norm of a matrix\n",
    "function op_norm(A)\n",
    "    if size(A) == (2,2)\n",
    "        Z = sqrt(sum(A.^2) + sqrt(((A[1,2]+A[2,1])^2+(A[1,1]-A[2,2])^2)*((A[1,2]-A[2,1])^2+(A[1,1]+A[2,2])^2)))/sqrt(interval(2))\n",
    "        if isguaranteed(Z)\n",
    "            return interval(sup(Z))\n",
    "        else\n",
    "            return Z\n",
    "        end\n",
    "    else\n",
    "        all(isguaranteed.(A)) || error(\"matrix not guaranteed\")\n",
    "        return sqrt(interval(maximum(sup.(sum(abs.(A), dims = 1))))*interval(maximum(sup.(sum(abs.(A), dims = 2)))))\n",
    "    end\n",
    "end"
   ]
  },
  {
   "cell_type": "markdown",
   "id": "f76ec9af-86f4-4324-ad95-90b930d950f3",
   "metadata": {},
   "source": [
    "# Proof"
   ]
  },
  {
   "cell_type": "code",
   "execution_count": null,
   "id": "bc94e719",
   "metadata": {},
   "outputs": [],
   "source": [
    "# rigorous L²-norms of exp(r²/4)ūᵖ⁻¹ψ̂ⱼ\n",
    "int = sum(((V̄6*ū).^(p-interval(1)).*V̄6).^2, dims = 1);"
   ]
  },
  {
   "cell_type": "code",
   "execution_count": null,
   "id": "4a653b5e",
   "metadata": {},
   "outputs": [],
   "source": [
    "# PₙF(ū)\n",
    "PFū = ū - inv(𝔏)*((interval(d//4)-ω/interval(2))*ū+ε*(V̄4'*((V̄4*ū).^3))/interval(2));"
   ]
  },
  {
   "cell_type": "code",
   "execution_count": null,
   "id": "37c19b1b-3dd4-4c26-bdc1-0441a6704c12",
   "metadata": {},
   "outputs": [],
   "source": [
    "# Gᵢⱼ = <ψ̂ᵢ,exp(r²/4)ūᵖ⁻¹ψ̂ⱼ>\n",
    "G = interval(Float64, V̄4)'*(interval(Float64, V̄4*ū).^(p-interval(1)) .*interval(Float64, V̄4));"
   ]
  },
  {
   "cell_type": "code",
   "execution_count": null,
   "id": "b3fa92e5",
   "metadata": {},
   "outputs": [],
   "source": [
    "# PₙDF(ū)Pₙ\n",
    "DFū = interval(Float64, interval(I(n+1)) - inv(𝔏)*(interval(d//4)-ω/interval(2))+ε*𝔏\\G/interval(2));\n",
    "# approximate numerical inverse of PₙDF(ū)Pₙ\n",
    "Aₙ = interval.(inv(mid.(DFū)));"
   ]
  },
  {
   "cell_type": "code",
   "execution_count": null,
   "id": "e91dedbb",
   "metadata": {},
   "outputs": [],
   "source": [
    "w = sqrt.(abs.([int[i] - L2(G[i,:]) for i=1:n+1]));"
   ]
  },
  {
   "cell_type": "code",
   "execution_count": null,
   "id": "3e18b248",
   "metadata": {},
   "outputs": [],
   "source": [
    "Y = interval.(sqrt(H2(Aₙ*PFū)+(L6(ū)-L2(V̄4'*((V̄4*ū).^p)))/interval(4)))"
   ]
  },
  {
   "cell_type": "code",
   "execution_count": null,
   "id": "125e3bef-ff65-45ad-9fea-52e70daea2f4",
   "metadata": {},
   "outputs": [],
   "source": [
    "Z¹² = p*norm(abs.(𝔏*Aₙ*inv(𝔏))*w)/λₘ/interval(2);"
   ]
  },
  {
   "cell_type": "code",
   "execution_count": null,
   "id": "765ccafd-5088-4ac4-8810-a2a65288ff22",
   "metadata": {},
   "outputs": [],
   "source": [
    "supφ̄ = sum(abs.(ū))"
   ]
  },
  {
   "cell_type": "code",
   "execution_count": null,
   "id": "6095610a-5680-4134-bdb9-7bf08113abd5",
   "metadata": {},
   "outputs": [],
   "source": [
    "Z¹¹ = op_norm(𝔏*(interval(I.(n+1)) - Aₙ*DFū)*inv(𝔏));\n",
    "Z²¹ = p*norm(𝔏\\w)/interval(2);\n",
    "Z²² = (abs.(interval(d//4)-ω/interval(2))+p*supφ̄/interval(2))/interval(λₘ);"
   ]
  },
  {
   "cell_type": "code",
   "execution_count": null,
   "id": "9abeef5a",
   "metadata": {},
   "outputs": [],
   "source": [
    "Z₁ = op_norm([Z¹¹ Z¹² ; Z²¹ Z²²])"
   ]
  },
  {
   "cell_type": "code",
   "execution_count": null,
   "id": "7156aabe",
   "metadata": {},
   "outputs": [],
   "source": [
    "if sup(Z₁)>=1\n",
    "    println(\"ū cannot be validated\")\n",
    "end"
   ]
  },
  {
   "cell_type": "code",
   "execution_count": null,
   "id": "b08f4904",
   "metadata": {},
   "outputs": [],
   "source": [
    "[Z¹¹ Z¹² ; Z²¹ Z²²]"
   ]
  },
  {
   "cell_type": "code",
   "execution_count": null,
   "id": "87d3405f-a0c0-4381-a453-68e41336bfed",
   "metadata": {},
   "outputs": [],
   "source": [
    "# Calculation of the L²-norm of the Hessian of η and of the sup of η\n",
    "C₀ = I\"0.56419\"\n",
    "C₁ = I\"0.79789\"\n",
    "C₂ = I\"0.23033\"\n",
    "C2 = sqrt(Z)*(interval(2//d)*C₀ + sqrt(interval(2//d))*C₁ + C₂)"
   ]
  },
  {
   "cell_type": "code",
   "execution_count": null,
   "id": "c5f1d4a3",
   "metadata": {},
   "outputs": [],
   "source": [
    "op_n = interval(max(sup(op_norm(𝔏*Aₙ*inv(𝔏))), 1))\n",
    "Z₂ = interval(3)*C2*supφ̄*op_n\n",
    "Z₃ = interval(3)*C2^2*op_n"
   ]
  },
  {
   "cell_type": "code",
   "execution_count": null,
   "id": "14e45040",
   "metadata": {},
   "outputs": [],
   "source": [
    "δ̄ = (-Z₂+sqrt(Z₂^2 +interval(2)*Z₃-interval(2)*Z₁*Z₃))/Z₃"
   ]
  },
  {
   "cell_type": "code",
   "execution_count": null,
   "id": "1fc892d4",
   "metadata": {},
   "outputs": [],
   "source": [
    "P(δ) = Z₃/interval(6)*δ^3 + Z₂/interval(2)*δ^2 - (interval(1) - Z₁)*δ + Y"
   ]
  },
  {
   "cell_type": "code",
   "execution_count": null,
   "id": "792f4d90",
   "metadata": {},
   "outputs": [],
   "source": [
    "δ̲ = Y/(interval(1)-Z₁)*(interval(1)+interval(BigFloat,2)^(-17))\n",
    "if sup(P(δ̲))<0\n",
    "    println(\"δ̲ is validated\")\n",
    "end"
   ]
  },
  {
   "cell_type": "code",
   "execution_count": null,
   "id": "e33ecca2-6365-4dab-a78e-e64dd31be48a",
   "metadata": {},
   "outputs": [],
   "source": [
    "η = sqrt(Z)*(interval(BigFloat,3)+sqrt(interval(BigFloat, 3)))*δ̲"
   ]
  },
  {
   "cell_type": "markdown",
   "id": "5e7f3f40-d679-4866-8e4d-8604a9909fba",
   "metadata": {},
   "source": [
    "# Plotting"
   ]
  },
  {
   "cell_type": "code",
   "execution_count": null,
   "id": "987e1140",
   "metadata": {},
   "outputs": [],
   "source": [
    "rloc = collect(0:800)/100\n",
    "zloc = rloc.^2/4\n",
    "sol = zeros(size(zloc));\n",
    "for k = 0:n\n",
    "    # println(k)\n",
    "    Lₖ = Polynomial([(-1)^i*big(binomial(k,i)//factorial(i)) for i=0:k])\n",
    "    sol .+= Float64.(mid.(ū[Int64(k+1)]) .*Lₖ.(zloc))\n",
    "end"
   ]
  },
  {
   "cell_type": "code",
   "execution_count": null,
   "id": "14e77d3d",
   "metadata": {},
   "outputs": [],
   "source": [
    "plot(rloc, sol.*exp.(-zloc/2), xlabel = L\"r\", ylabel = L\"\\overline{\\varphi}\", legend = false, dpi =1000)"
   ]
  },
  {
   "cell_type": "code",
   "execution_count": null,
   "id": "400f89a6",
   "metadata": {},
   "outputs": [],
   "source": [
    "png(\"plusSchrodinger\")"
   ]
  }
 ],
 "metadata": {
  "kernelspec": {
   "display_name": "Julia 1.10.2",
   "language": "julia",
   "name": "julia-1.10"
  },
  "language_info": {
   "file_extension": ".jl",
   "mimetype": "application/julia",
   "name": "julia",
   "version": "1.10.2"
  }
 },
 "nbformat": 4,
 "nbformat_minor": 5
}
