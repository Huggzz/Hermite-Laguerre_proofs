{
 "cells": [
  {
   "cell_type": "code",
   "execution_count": 1,
   "id": "300f1cc6",
   "metadata": {},
   "outputs": [],
   "source": [
    "using IntervalArithmetic, Combinatorics, Polynomials, Serialization, LinearAlgebra, Plots, LaTeXStrings, IntervalLinearAlgebra"
   ]
  },
  {
   "cell_type": "code",
   "execution_count": 2,
   "id": "d566b058",
   "metadata": {},
   "outputs": [
    {
     "data": {
      "text/plain": [
       "inf64 (generic function with 1 method)"
      ]
     },
     "execution_count": 2,
     "metadata": {},
     "output_type": "execute_result"
    }
   ],
   "source": [
    "# temporary fix to broadcasting issue for RoundDown\n",
    "inf64(x::Interval{BigFloat}) = Float64(x.lo, RoundDown)"
   ]
  },
  {
   "cell_type": "markdown",
   "id": "f47e16ba",
   "metadata": {},
   "source": [
    "We aim to find a self-similar solution to the nonlinear Schrodinger equation, which in our setting is equivalent to solving the equation\n",
    "$$\\mathcal{L}u+\\frac{3}{2}u-\\frac{e^{r^2/4}}{2}u^3 = 0$$\n",
    "\n",
    "The Vandermonde matrices below have been adapted to treat the above nonlinearity. The quadratures are still rigorous."
   ]
  },
  {
   "cell_type": "code",
   "execution_count": 3,
   "id": "90e4b181",
   "metadata": {},
   "outputs": [
    {
     "data": {
      "text/plain": [
       "intervalR (generic function with 1 method)"
      ]
     },
     "execution_count": 3,
     "metadata": {},
     "output_type": "execute_result"
    }
   ],
   "source": [
    "n = big(500)\n",
    "setprecision(Interval, 256)\n",
    "\n",
    "# approximate solution\n",
    "ū = interval.(deserialize(\"ubar\"));\n",
    "\n",
    "# regularised Vandermonde matrices for 2p and p+1 products\n",
    "V̄4 = deserialize(\"V4r\");\n",
    "V̄6 = deserialize(\"V6r\");\n",
    "\n",
    "p = 3\n",
    "d = 2\n",
    "α = d//2\n",
    "\n",
    "# m = n+1, (n+1)ᵗʰ eigenvalue\n",
    "λₘ = @interval(d//2+n+1);\n",
    "λ₀ = @interval(d//2);\n",
    "intervalR(x::Rational) = @interval(x)"
   ]
  },
  {
   "cell_type": "code",
   "execution_count": 4,
   "id": "85ec15e4",
   "metadata": {},
   "outputs": [],
   "source": [
    "# generator\n",
    "𝔏 = Diagonal(interval.(big.(collect(0:n))).+λ₀);"
   ]
  },
  {
   "cell_type": "code",
   "execution_count": 5,
   "id": "51f03d8a",
   "metadata": {},
   "outputs": [
    {
     "data": {
      "text/plain": [
       "op_norm (generic function with 1 method)"
      ]
     },
     "execution_count": 5,
     "metadata": {},
     "output_type": "execute_result"
    }
   ],
   "source": [
    "# computes Lᵖ/H¹ norms before taking fractional exponent\n",
    "function L2(u)\n",
    "    return sum(u.^2)\n",
    "end\n",
    "\n",
    "function H1(u)\n",
    "    return sum(𝔏*(u.^2))\n",
    "end\n",
    "\n",
    "function L6(u)\n",
    "    return sum((V̄6*u).^6)/3\n",
    "end\n",
    "\n",
    "# rigorous upper bound of the 2-norm of a matrix\n",
    "function op_norm(A)\n",
    "    if size(A) == (2,2)\n",
    "        return sqrt(sum(A.^2) + sqrt(((A[1,2]+A[2,1])^2+(A[1,1]-A[2,2])^2)*((A[1,2]-A[2,1])^2+(A[1,1]+A[2,2])^2)))/sqrt(interval(2))\n",
    "    elseif all(abs.(A) .< 10^(-7))\n",
    "        return interval(sqrt(interval(maximum(sup.(sum(abs.(A), dims = 1))))*interval(maximum(sup.(sum(abs.(A), dims = 2))))).hi)\n",
    "    else\n",
    "        S = Symmetric(A'*A)\n",
    "        S̄ = Symmetric(Float64.(sup.(S), RoundUp))\n",
    "#         S̲ = Symmetric(Float64.(inf.(S), RoundDown))\n",
    "        S̲ = Symmetric(inf64.(S))\n",
    "#         println(typeof(S̄))\n",
    "        λ̄, v̄, c̄ = verify_eigen(S̄)\n",
    "        λ̲, v̲, c̲ = verify_eigen(S̲)\n",
    "        if all(c̄) && all(c̲)\n",
    "            ī = argmax(sup.(abs.(λ̄)))\n",
    "            i̲ = argmax(sup.(abs.(λ̲)))\n",
    "            return @interval(sqrt(max(λ̄[ī], λ̲[i̲])).hi)\n",
    "        else\n",
    "            return interval(sqrt(interval(maximum(sup.(sum(abs.(A), dims = 1))))*interval(maximum(sup.(sum(abs.(A), dims = 2))))).hi)\n",
    "        end  \n",
    "    end\n",
    "end"
   ]
  },
  {
   "cell_type": "code",
   "execution_count": 6,
   "id": "bc94e719",
   "metadata": {},
   "outputs": [],
   "source": [
    "# rigorous L²-norms of exp(r²/4)ū²ψ̂ⱼ\n",
    "inf = sum((V̄6'*Diagonal((V̄6*ū).^2)).^2, dims = 2)/3;\n",
    "# Gram matrix induced by exp(r²/4)ū²\n",
    "G = V̄4'*Diagonal((V̄4*ū).^2)*V̄4/2;"
   ]
  },
  {
   "cell_type": "markdown",
   "id": "80f4747d",
   "metadata": {},
   "source": [
    "Analgously, we choose $F:H^1(\\mu)\\to H^1(\\mu)$ such that\n",
    "$$F(u) = u - \\mathcal{L}^{-1}\\left(\\frac{3}{2}u -\\frac{e^{r^2/4}}{2}u^3\\right)$$"
   ]
  },
  {
   "cell_type": "code",
   "execution_count": 7,
   "id": "4a653b5e",
   "metadata": {},
   "outputs": [
    {
     "name": "stdout",
     "output_type": "stream",
     "text": [
      "[1.32512e-55, 1.32513e-55]₂₅₆\n"
     ]
    }
   ],
   "source": [
    "# PₙF(ū)\n",
    "PFū = ū - inv(𝔏)*(3*ū/2-(V̄4'*((V̄4*ū).^3))/4);\n",
    "println(norm(PFū))"
   ]
  },
  {
   "cell_type": "markdown",
   "id": "94c76bbc",
   "metadata": {},
   "source": [
    "We have\n",
    "\n",
    "$$DF(\\bar{u}) = I - \\frac{3}{2}\\mathcal{L}^{-1}+\\frac{3}{2}\\mathcal{L}^{-1}(e^{r^2/4}\\bar{u}^2\\cdot)$$ "
   ]
  },
  {
   "cell_type": "code",
   "execution_count": 8,
   "id": "b3fa92e5",
   "metadata": {},
   "outputs": [],
   "source": [
    "# PₙDF(ū)Pₙ\n",
    "DFū = I - inv(𝔏)*(3//2) + 3*inv(𝔏)*G/2;\n",
    "# approximate numerical inverse of PₙDF(ū)Pₙ\n",
    "Aₙ = interval.(inv(Float64.(mid.(DFū))));"
   ]
  },
  {
   "cell_type": "markdown",
   "id": "c40cd4a4",
   "metadata": {},
   "source": [
    "Similarly, define\n",
    "$$v_m := \\|P_{\\infty}  (e^{r^2/4}\\bar{u}^{2}\\hat{\\psi}_m)\\|_{L^2} =  \\left(\\|e^{r^2/4}\\bar{u}^{2} \\hat{\\psi}_m\\|^2_{L^2}-\\|P_n(e^{r^2/4}\\bar{u}^{2}\\hat{\\psi}_m)\\|^2_{L^2}\\right)^{1/2}$$"
   ]
  },
  {
   "cell_type": "code",
   "execution_count": 9,
   "id": "e91dedbb",
   "metadata": {},
   "outputs": [],
   "source": [
    "v = sqrt.([inf[i] - L2(G[i,:]) for i=1:n+1]);"
   ]
  },
  {
   "cell_type": "markdown",
   "id": "a3ab4fea",
   "metadata": {},
   "source": [
    "and\n",
    "\n",
    "$$Y^2 = \\|\\mathcal{L}^{1/2}A_n(P_nF(\\bar{u}))\\|^2_{L^2}+\\frac{1}{4\\lambda_{n+1}}\\left(\\|e^{r^2/4}\\bar{u}^3\\|^2_{L^2}-\\|P_n(e^{r^2/4}\\bar{u}^3)\\|^2_{L^2}\\right)$$"
   ]
  },
  {
   "cell_type": "code",
   "execution_count": 10,
   "id": "3e18b248",
   "metadata": {},
   "outputs": [
    {
     "data": {
      "text/plain": [
       "[6.743e-35, 6.74301e-35]₂₅₆"
      ]
     },
     "execution_count": 10,
     "metadata": {},
     "output_type": "execute_result"
    }
   ],
   "source": [
    "Y = interval.(sqrt(H1(Aₙ*PFū)+(L6(ū)-L2((V̄4'*((V̄4*ū).^3))/2))/(4*λₘ)).hi)"
   ]
  },
  {
   "cell_type": "markdown",
   "id": "1da41ac4",
   "metadata": {},
   "source": [
    "We have\n",
    "$$\\begin{cases}\n",
    "    Z^{11} &= \\|\\mathcal{L}^{1/2}(I_n - A_n P_nDF(\\bar{u})P_n)\\mathcal{L}^{-1/2}\\|_{L^2,L^2}\\\\\n",
    "    Z^{12} &= \\frac{3}{2\\sqrt{\\lambda_{n+1}}}\\left\\|\\,\\left|\\mathcal{L}^{1/2}A_n \\mathcal{L}^{-1}\\right|v\\right\\|_{L^2}\\\\\n",
    "    Z^{21} &=\\frac{3}{2\\sqrt{\\lambda_{n+1}}}\\|\\mathcal{L}^{-1/2}v\\|_{L^2}\n",
    "\\end{cases}$$"
   ]
  },
  {
   "cell_type": "code",
   "execution_count": 16,
   "id": "d92f0dd7",
   "metadata": {},
   "outputs": [
    {
     "data": {
      "text/plain": [
       "[0.00141766, 0.00141767]₂₅₆"
      ]
     },
     "execution_count": 16,
     "metadata": {},
     "output_type": "execute_result"
    }
   ],
   "source": [
    "Z¹¹ = interval(op_norm( I - Aₙ*DFū).hi)\n",
    "Z¹² = 3*interval(norm(abs.(𝔏.^(1//2)*interval.(Aₙ)*inv(𝔏))*v).hi)/(2*sqrt(λₘ))\n",
    "Z²¹ = 3*norm((𝔏)^(-1//2)*v)/(2*sqrt(λₘ))"
   ]
  },
  {
   "cell_type": "markdown",
   "id": "46b88af0",
   "metadata": {},
   "source": [
    " $$Z^{22} = \\frac{\\|3/2-3e^{r^2/4}\\bar{u}^2/2\\|_{\\infty}}{\\lambda_{n+1}}$$\n",
    "   \n",
    "and on $\\mathbb{R}_{+}$\n",
    " $$\\|3/2-3e^{r^2/4}\\bar{u}^2/2\\|_{\\infty}\\leq 3/2 + 3|e^{r^2/8}\\bar{u}(r)|^2/2\\leq 3/2+3\\left(\\sum_{m=0}^n|\\langle \\bar{u}, \\psi_m\\rangle|\\right)^2/2 $$\n",
    " "
   ]
  },
  {
   "cell_type": "markdown",
   "id": "0ebad042",
   "metadata": {},
   "source": [
    "Then bound on $[0, r_0]$, by interval arithmetic"
   ]
  },
  {
   "cell_type": "code",
   "execution_count": 17,
   "id": "14668ab5",
   "metadata": {},
   "outputs": [
    {
     "data": {
      "text/plain": [
       "[2.08914, 2.08915]₂₅₆"
      ]
     },
     "execution_count": 17,
     "metadata": {},
     "output_type": "execute_result"
    }
   ],
   "source": [
    "supw̄ = sum(abs.(ū))"
   ]
  },
  {
   "cell_type": "code",
   "execution_count": 18,
   "id": "51a2ee22",
   "metadata": {},
   "outputs": [
    {
     "data": {
      "text/plain": [
       "[0.0160294, 0.0160295]₂₅₆"
      ]
     },
     "execution_count": 18,
     "metadata": {},
     "output_type": "execute_result"
    }
   ],
   "source": [
    "Z²² = (3/2+3*supw̄^2/2)/λₘ"
   ]
  },
  {
   "cell_type": "code",
   "execution_count": 19,
   "id": "9abeef5a",
   "metadata": {},
   "outputs": [
    {
     "data": {
      "text/plain": [
       "[0.0161544, 0.0161545]₂₅₆"
      ]
     },
     "execution_count": 19,
     "metadata": {},
     "output_type": "execute_result"
    }
   ],
   "source": [
    "Z₁ = op_norm([Z¹¹ Z¹² ; Z²¹ Z²²])"
   ]
  },
  {
   "cell_type": "markdown",
   "id": "f1f55db0",
   "metadata": {},
   "source": [
    "for $k\\in \\{2,3\\}$\n",
    "$$D^kT(\\bar{u})h^k = \\frac{3!}{2(3-k)!}\\|\\mathcal{L}^{1/2}A\\mathcal{L}^{-1}\\|_{L^2,L^2}\\|e^{r^2/4}\\bar{u}^{3-k}h^k\\|_{L^2}$$\n",
    "\n",
    "and following Lemma 8, we may choose\n",
    "\n",
    "$$Z_2 := 3c(2,2)\\|\\mathcal{L}^{1/2}A\\mathcal{L}^{-1}\\|_{L^2,L^2}\\|ue^{r^2/8}\\|_{\\infty}^{1/2}$$\n",
    "$$Z_3 := 3c(2,3)\\|\\mathcal{L}^{1/2}A\\mathcal{L}^{-1}\\|_{L^2,L^2}$$"
   ]
  },
  {
   "cell_type": "code",
   "execution_count": 20,
   "id": "702703af",
   "metadata": {},
   "outputs": [
    {
     "data": {
      "text/plain": [
       "[301.592, 301.593]₂₅₆"
      ]
     },
     "execution_count": 20,
     "metadata": {},
     "output_type": "execute_result"
    }
   ],
   "source": [
    "c22 = 8*sqrt(@interval(π))\n",
    "c23 = 96*@interval(π)"
   ]
  },
  {
   "cell_type": "code",
   "execution_count": 21,
   "id": "c5f1d4a3",
   "metadata": {},
   "outputs": [
    {
     "data": {
      "text/plain": [
       "[1822.99, 1823]₂₅₆"
      ]
     },
     "execution_count": 21,
     "metadata": {},
     "output_type": "execute_result"
    }
   ],
   "source": [
    "op_n = interval(max(op_norm((𝔏)^(1//2)*Aₙ*inv(𝔏)).hi, (λₘ^(-1//2)).hi))\n",
    "Z₂ = 3*c22*supw̄^(1//2)*op_n\n",
    "Z₃ = 3*c23*op_n"
   ]
  },
  {
   "cell_type": "code",
   "execution_count": 22,
   "id": "14e45040",
   "metadata": {},
   "outputs": [
    {
     "data": {
      "text/plain": [
       "[0.00752505, 0.00752506]₂₅₆"
      ]
     },
     "execution_count": 22,
     "metadata": {},
     "output_type": "execute_result"
    }
   ],
   "source": [
    "δ̄ = (-Z₂+sqrt(Z₂^2 +2*Z₃-2*Z₁*Z₃))/Z₃"
   ]
  },
  {
   "cell_type": "code",
   "execution_count": 23,
   "id": "1fc892d4",
   "metadata": {},
   "outputs": [
    {
     "data": {
      "text/plain": [
       "P (generic function with 1 method)"
      ]
     },
     "execution_count": 23,
     "metadata": {},
     "output_type": "execute_result"
    }
   ],
   "source": [
    "P(δ) = Z₃/6*δ^3 + Z₂/2*δ^2 - (1 - Z₁)*δ + Y"
   ]
  },
  {
   "cell_type": "code",
   "execution_count": 36,
   "id": "792f4d90",
   "metadata": {},
   "outputs": [
    {
     "name": "stdout",
     "output_type": "stream",
     "text": [
      "[6.85372e-35, 6.85373e-35]₂₅₆\n"
     ]
    }
   ],
   "source": [
    "δ̲ = Y/(1-Z₁)*(1+@interval(2)^(-70))\n",
    "if P(δ̲).hi<0\n",
    "    println(δ̲)\n",
    "end"
   ]
  },
  {
   "cell_type": "markdown",
   "id": "ebba2489",
   "metadata": {},
   "source": [
    "## Stuff below to rewrite "
   ]
  },
  {
   "cell_type": "code",
   "execution_count": 69,
   "id": "7dc4a554",
   "metadata": {},
   "outputs": [
    {
     "data": {
      "text/plain": [
       "[1.95995e-11, 1.95996e-11]₂₅₆"
      ]
     },
     "execution_count": 69,
     "metadata": {},
     "output_type": "execute_result"
    }
   ],
   "source": [
    "# Calculation of the L²-norm of the Hessian of η and of the sup of η\n",
    "C₀ = @interval(0.56419)\n",
    "C₁ = @interval(0.79789)\n",
    "C₂ = @interval(0.23033)\n",
    "ω₁ = 2*@interval(π)\n",
    "Ω₁ = sqrt(2*ω₁)\n",
    "C26 = 2*@interval(3)^(1//3)\n",
    "γ = Ω₁*(exp(@interval(-1//2))+λ₀^(1//2)+1//(p-1))+(C26*Ω₁)^p*p*(sqrt(H1(ū))+δ̄)^(p-1)\n",
    "D²η = γ*δ̲ + Ω₁*(sqrt(L2(𝔏*PFū)+(L6(ū)-L2((V̄4'*((V̄4*ū).^p))/p))))\n",
    "supη = (C₀+C₁)*Ω₁*δ̲ + C₂*D²η"
   ]
  },
  {
   "cell_type": "code",
   "execution_count": 70,
   "id": "c22c435c",
   "metadata": {},
   "outputs": [
    {
     "data": {
      "text/plain": [
       "[8.94085e-13, 8.94086e-13]₂₅₆"
      ]
     },
     "execution_count": 70,
     "metadata": {},
     "output_type": "execute_result"
    }
   ],
   "source": [
    "# reiterate with better estimates\n",
    "γ = Ω₁*(exp(@interval(-1//2))+λ₀^(1//2)+1//(p-1)) + Ω₁*p*(supū+supη)^(p-1)\n",
    "D²η = γ*δ̲ + Ω₁*(sqrt(L2(𝔏*PFū)+(L6(ū)-L2((V̄4'*((V̄4*ū).^p))/p))))\n",
    "supη = (C₀+C₁)*Ω₁*δ̲ + C₂*D²η"
   ]
  },
  {
   "cell_type": "code",
   "execution_count": 75,
   "id": "26692214",
   "metadata": {},
   "outputs": [
    {
     "data": {
      "text/plain": [
       "3.236280785351238e-12"
      ]
     },
     "execution_count": 75,
     "metadata": {},
     "output_type": "execute_result"
    }
   ],
   "source": [
    "Float64(D²η.hi, RoundUp)"
   ]
  },
  {
   "cell_type": "code",
   "execution_count": 26,
   "id": "aada7e56",
   "metadata": {},
   "outputs": [
    {
     "data": {
      "text/plain": [
       "501-element Vector{Interval{BigFloat}}:\n",
       "  [1.66469, 1.6647]₂₅₆\n",
       " [-0.398444, -0.398443]₂₅₆\n",
       " [-0.0131779, -0.0131778]₂₅₆\n",
       "  [0.00640862, 0.00640863]₂₅₆\n",
       "  [0.0040882, 0.00408821]₂₅₆\n",
       "  [0.00161824, 0.00161825]₂₅₆\n",
       "  [0.000441057, 0.000441058]₂₅₆\n",
       "  [1.9569e-05, 1.95691e-05]₂₅₆\n",
       " [-8.16352e-05, -8.16351e-05]₂₅₆\n",
       " [-7.58218e-05, -7.58217e-05]₂₅₆\n",
       " [-4.76368e-05, -4.76367e-05]₂₅₆\n",
       " [-2.38311e-05, -2.3831e-05]₂₅₆\n",
       " [-9.15537e-06, -9.15536e-06]₂₅₆\n",
       "   ⋮\n",
       " [-5.40015e-36, -5.40014e-36]₂₅₆\n",
       " [-4.656e-36, -4.65599e-36]₂₅₆\n",
       " [-3.97251e-36, -3.9725e-36]₂₅₆\n",
       " [-3.34833e-36, -3.34832e-36]₂₅₆\n",
       " [-2.78161e-36, -2.7816e-36]₂₅₆\n",
       " [-2.27007e-36, -2.27006e-36]₂₅₆\n",
       " [-1.81117e-36, -1.81116e-36]₂₅₆\n",
       " [-1.4021e-36, -1.40209e-36]₂₅₆\n",
       " [-1.03991e-36, -1.0399e-36]₂₅₆\n",
       " [-7.21565e-37, -7.21564e-37]₂₅₆\n",
       " [-4.43973e-37, -4.43972e-37]₂₅₆\n",
       " [-2.04044e-37, -2.04043e-37]₂₅₆"
      ]
     },
     "execution_count": 26,
     "metadata": {},
     "output_type": "execute_result"
    }
   ],
   "source": [
    "ū"
   ]
  },
  {
   "cell_type": "code",
   "execution_count": null,
   "id": "987e1140",
   "metadata": {},
   "outputs": [],
   "source": [
    "#solution plotting\n",
    "\n",
    "rloc = collect(0:400)/100\n",
    "zloc = rloc.^2/4\n",
    "sol = zeros(size(zloc));\n",
    "for k = 0:n\n",
    "    println(k)\n",
    "    Lₖ = Polynomial([(-1)^i*intervalR(binomial(k,i)//factorial(i)) for i=0:k])\n",
    "    sol .+= Float64.(mid.(ū[Int64(k+1)]) .* mid.(Lₖ.(zloc)))\n",
    "end"
   ]
  },
  {
   "cell_type": "code",
   "execution_count": null,
   "id": "14e77d3d",
   "metadata": {},
   "outputs": [],
   "source": [
    "plot(rloc, sol.*exp.(-zloc), xlabel = L\"r\", ylabel = L\"\\bar{u}\", legend = false, dpi =1000)"
   ]
  },
  {
   "cell_type": "code",
   "execution_count": null,
   "id": "400f89a6",
   "metadata": {},
   "outputs": [],
   "source": [
    "png(\"semi2dsol\")"
   ]
  }
 ],
 "metadata": {
  "kernelspec": {
   "display_name": "Julia 1.9.1",
   "language": "julia",
   "name": "julia-1.9"
  },
  "language_info": {
   "file_extension": ".jl",
   "mimetype": "application/julia",
   "name": "julia",
   "version": "1.9.1"
  }
 },
 "nbformat": 4,
 "nbformat_minor": 5
}
