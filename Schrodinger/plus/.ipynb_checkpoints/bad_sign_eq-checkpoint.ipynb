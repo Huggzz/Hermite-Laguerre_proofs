{
 "cells": [
  {
   "cell_type": "code",
   "execution_count": 1,
   "id": "300f1cc6",
   "metadata": {},
   "outputs": [],
   "source": [
    "using IntervalArithmetic, Combinatorics, Polynomials, Serialization, LinearAlgebra, Plots, LaTeXStrings"
   ]
  },
  {
   "cell_type": "code",
   "execution_count": 2,
   "id": "90e4b181",
   "metadata": {},
   "outputs": [],
   "source": [
    "# start here with precomputed vandermonde matrices\n",
    "n = big(500)\n",
    "setprecision(256)\n",
    "\n",
    "# approximate solution\n",
    "ū = interval.(deserialize(\"uplus\"));\n",
    "\n",
    "# regularised Vandermonde matrices for 2p and p+1 products\n",
    "V̄4 = deserialize(\"V4r\")\n",
    "V̄6 = deserialize(\"V6r\")\n",
    "\n",
    "p = interval(3)\n",
    "d = 2\n",
    "α = d//2\n",
    "ω = interval(2)\n",
    "ε = interval(1)\n",
    "\n",
    "# m = n+1, (n+1)ᵗʰ eigenvalue\n",
    "λₘ = interval(d//2+n+1)\n",
    "λ₀ = interval(d//2)\n",
    "Z = interval(4)*interval(BigFloat, π)\n",
    "\n",
    "function interval64(x::Interval)\n",
    "    isguaranteed(x) || error(\"interval is not guaranteed\")\n",
    "    return interval(Float64(inf(x), RoundDown), Float64(sup(x), RoundUp))\n",
    "end\n",
    "LinearAlgebra.norm(v::Vector) = sqrt(sum(v.^2))"
   ]
  },
  {
   "cell_type": "code",
   "execution_count": 3,
   "id": "85ec15e4",
   "metadata": {},
   "outputs": [],
   "source": [
    "# generator\n",
    "𝔏 = Diagonal(interval.(big.(collect(0:n))).+λ₀);"
   ]
  },
  {
   "cell_type": "code",
   "execution_count": 4,
   "id": "51f03d8a",
   "metadata": {},
   "outputs": [
    {
     "data": {
      "text/plain": [
       "L6 (generic function with 1 method)"
      ]
     },
     "execution_count": 4,
     "metadata": {},
     "output_type": "execute_result"
    }
   ],
   "source": [
    "# computes Lᵖ/H² norms before taking fractional exponent\n",
    "function L2(u)\n",
    "    return sum(u.^2)\n",
    "end\n",
    "\n",
    "function H2(u)\n",
    "    return sum((𝔏*u.^2))\n",
    "end\n",
    "\n",
    "function H1(u)\n",
    "    return sum(𝔏*(u.^2))\n",
    "end\n",
    "\n",
    "function L6(u)\n",
    "    return sum((V̄6*u).^6)\n",
    "end"
   ]
  },
  {
   "cell_type": "code",
   "execution_count": 5,
   "id": "9be5ea4a-0706-48d4-9981-125dc7b703c6",
   "metadata": {},
   "outputs": [
    {
     "data": {
      "text/plain": [
       "op_norm (generic function with 1 method)"
      ]
     },
     "execution_count": 5,
     "metadata": {},
     "output_type": "execute_result"
    }
   ],
   "source": [
    "# rigorous upper bound of the 2-norm of a matrix\n",
    "function op_norm(A)\n",
    "    if size(A) == (2,2)\n",
    "        Z = sqrt(sum(A.^2) + sqrt(((A[1,2]+A[2,1])^2+(A[1,1]-A[2,2])^2)*((A[1,2]-A[2,1])^2+(A[1,1]+A[2,2])^2)))/sqrt(interval(2))\n",
    "        if isguaranteed(Z)\n",
    "            return interval(sup(Z))\n",
    "        else\n",
    "            return Z\n",
    "        end\n",
    "    else\n",
    "        all(isguaranteed.(A)) || error(\"matrix not guaranteed\")\n",
    "        return sqrt(interval(maximum(sup.(sum(abs.(A), dims = 1))))*interval(maximum(sup.(sum(abs.(A), dims = 2)))))\n",
    "    end\n",
    "end"
   ]
  },
  {
   "cell_type": "code",
   "execution_count": 6,
   "id": "bc94e719",
   "metadata": {},
   "outputs": [],
   "source": [
    "# rigorous L²-norms of ūᵖ⁻¹ψ̂ⱼ\n",
    "int = sum(((V̄6*ū).^(p-interval(1)).*V̄6).^2, dims = 1);"
   ]
  },
  {
   "cell_type": "code",
   "execution_count": 7,
   "id": "4a653b5e",
   "metadata": {},
   "outputs": [],
   "source": [
    "# PₙF(ū)\n",
    "PFū = ū - inv(𝔏)*((interval(d//4)-ω/interval(2))*ū+ε*(V̄4'*((V̄4*ū).^3))/interval(2));"
   ]
  },
  {
   "cell_type": "code",
   "execution_count": 8,
   "id": "37c19b1b-3dd4-4c26-bdc1-0441a6704c12",
   "metadata": {},
   "outputs": [],
   "source": [
    "Ḡ = interval64.(V̄4)'*(interval64.(V̄4*ū).^(p-interval(1)) .*interval64.(V̄4));"
   ]
  },
  {
   "cell_type": "code",
   "execution_count": 9,
   "id": "b3fa92e5",
   "metadata": {},
   "outputs": [],
   "source": [
    "# PₙDF(ū)Pₙ\n",
    "DFū = interval64.(interval(I(n+1)) - inv(𝔏)*(interval(d//4)-ω/interval(2))+ε*𝔏\\Ḡ/interval(2));\n",
    "# approximate numerical inverse of PₙDF(ū)Pₙ\n",
    "Aₙ = interval.(inv(mid.(DFū)));"
   ]
  },
  {
   "cell_type": "code",
   "execution_count": 10,
   "id": "e91dedbb",
   "metadata": {},
   "outputs": [],
   "source": [
    "w = sqrt.(abs.([int[i] - L2(Ḡ[i,:]) for i=1:n+1]));"
   ]
  },
  {
   "cell_type": "code",
   "execution_count": 11,
   "id": "3e18b248",
   "metadata": {},
   "outputs": [
    {
     "data": {
      "text/plain": [
       "[1.10976e-07, 1.10977e-07]₂₅₆_com"
      ]
     },
     "execution_count": 11,
     "metadata": {},
     "output_type": "execute_result"
    }
   ],
   "source": [
    "Y = interval.(sqrt(H2(Aₙ*PFū)+(L6(ū)-L2(V̄4'*((V̄4*ū).^p)))/interval(4)))"
   ]
  },
  {
   "cell_type": "code",
   "execution_count": 12,
   "id": "125e3bef-ff65-45ad-9fea-52e70daea2f4",
   "metadata": {},
   "outputs": [],
   "source": [
    "Z¹² = p*norm(abs.(𝔏*Aₙ*inv(𝔏))*w)/λₘ/interval(2);"
   ]
  },
  {
   "cell_type": "code",
   "execution_count": 13,
   "id": "765ccafd-5088-4ac4-8810-a2a65288ff22",
   "metadata": {},
   "outputs": [
    {
     "data": {
      "text/plain": [
       "[3.2707, 3.27071]₂₅₆_com"
      ]
     },
     "execution_count": 13,
     "metadata": {},
     "output_type": "execute_result"
    }
   ],
   "source": [
    "supφ̄ = sum(abs.(ū))"
   ]
  },
  {
   "cell_type": "code",
   "execution_count": 14,
   "id": "6095610a-5680-4134-bdb9-7bf08113abd5",
   "metadata": {},
   "outputs": [
    {
     "data": {
      "text/plain": [
       "[0.010769, 0.0107691]₂₅₆_com"
      ]
     },
     "execution_count": 14,
     "metadata": {},
     "output_type": "execute_result"
    }
   ],
   "source": [
    "Z¹¹ = op_norm(𝔏*(interval(I.(n+1)) - Aₙ*DFū)*inv(𝔏));\n",
    "Z²¹ = p*norm(𝔏\\w)/interval(2);\n",
    "Z²² = (abs.(interval(d//4)-ω/interval(2))+p*supφ̄/interval(2))/interval(λₘ)"
   ]
  },
  {
   "cell_type": "code",
   "execution_count": 15,
   "id": "9abeef5a",
   "metadata": {},
   "outputs": [
    {
     "data": {
      "text/plain": [
       "[0.0159474, 0.0159475]₂₅₆_com"
      ]
     },
     "execution_count": 15,
     "metadata": {},
     "output_type": "execute_result"
    }
   ],
   "source": [
    "Z₁ = op_norm([Z¹¹ Z¹² ; Z²¹ Z²²])"
   ]
  },
  {
   "cell_type": "code",
   "execution_count": 16,
   "id": "702703af",
   "metadata": {},
   "outputs": [],
   "source": [
    "# c22 = interval(8)*sqrt(interval(BigFloat,π))\n",
    "# c23 = interval(96)*interval(BigFloat,π)"
   ]
  },
  {
   "cell_type": "code",
   "execution_count": 17,
   "id": "87d3405f-a0c0-4381-a453-68e41336bfed",
   "metadata": {},
   "outputs": [
    {
     "data": {
      "text/plain": [
       "[5.64494, 5.64495]₂₅₆_com"
      ]
     },
     "execution_count": 17,
     "metadata": {},
     "output_type": "execute_result"
    }
   ],
   "source": [
    "# Calculation of the L²-norm of the Hessian of η and of the sup of η\n",
    "C₀ = I\"0.56419\"\n",
    "C₁ = I\"0.79789\"\n",
    "C₂ = I\"0.23033\"\n",
    "C2 = sqrt(Z)*(interval(2//d)*C₀ + sqrt(interval(2//d))*C₁ + C₂)"
   ]
  },
  {
   "cell_type": "code",
   "execution_count": 18,
   "id": "c5f1d4a3",
   "metadata": {},
   "outputs": [
    {
     "data": {
      "text/plain": [
       "[134.269, 134.27]₂₅₆_com"
      ]
     },
     "execution_count": 18,
     "metadata": {},
     "output_type": "execute_result"
    }
   ],
   "source": [
    "op_n = interval(max(sup(op_norm(𝔏*Aₙ*inv(𝔏))), 1))\n",
    "Z₂ = interval(3)*C2*supφ̄*op_n\n",
    "Z₃ = interval(3)*C2^2*op_n"
   ]
  },
  {
   "cell_type": "code",
   "execution_count": 19,
   "id": "14e45040",
   "metadata": {},
   "outputs": [
    {
     "data": {
      "text/plain": [
       "[0.0125139, 0.012514]₂₅₆_com"
      ]
     },
     "execution_count": 19,
     "metadata": {},
     "output_type": "execute_result"
    }
   ],
   "source": [
    "δ̄ = (-Z₂+sqrt(Z₂^2 +interval(2)*Z₃-interval(2)*Z₁*Z₃))/Z₃"
   ]
  },
  {
   "cell_type": "code",
   "execution_count": 20,
   "id": "1fc892d4",
   "metadata": {},
   "outputs": [
    {
     "data": {
      "text/plain": [
       "P (generic function with 1 method)"
      ]
     },
     "execution_count": 20,
     "metadata": {},
     "output_type": "execute_result"
    }
   ],
   "source": [
    "P(δ) = Z₃/interval(6)*δ^3 + Z₂/interval(2)*δ^2 - (interval(1) - Z₁)*δ + Y"
   ]
  },
  {
   "cell_type": "code",
   "execution_count": 21,
   "id": "792f4d90",
   "metadata": {},
   "outputs": [
    {
     "name": "stdout",
     "output_type": "stream",
     "text": [
      "Interval{BigFloat}(1.12775572978729528365440069641107454465621513841052473704433502443536465550754e-07, 1.127755729787295283654400696411074544656215138410524737044406653494776859586375e-07, com)\n"
     ]
    }
   ],
   "source": [
    "δ̲ = Y/(interval(1)-Z₁)*(interval(1)+interval(BigFloat,2)^(-17))\n",
    "if sup(P(δ̲))<0\n",
    "    println(δ̲)\n",
    "end"
   ]
  },
  {
   "cell_type": "code",
   "execution_count": 22,
   "id": "e33ecca2-6365-4dab-a78e-e64dd31be48a",
   "metadata": {},
   "outputs": [
    {
     "data": {
      "text/plain": [
       "[1.89177e-06, 1.89178e-06]₂₅₆_com"
      ]
     },
     "execution_count": 22,
     "metadata": {},
     "output_type": "execute_result"
    }
   ],
   "source": [
    "η = sqrt(Z)*(interval(BigFloat,3)+sqrt(interval(BigFloat, 3)))*δ̲"
   ]
  },
  {
   "cell_type": "code",
   "execution_count": null,
   "id": "7dc4a554",
   "metadata": {},
   "outputs": [],
   "source": [
    "inf_err = C2*δ̲"
   ]
  },
  {
   "cell_type": "code",
   "execution_count": null,
   "id": "c878cf6c-a89b-4abb-bae0-0ee4f2a867fd",
   "metadata": {},
   "outputs": [],
   "source": [
    "m = 40\n",
    "Pₘ = zeros(Interval{BigFloat},m+1)\n",
    "for j = 0:big(m)\n",
    "#     println(j)\n",
    "    Lⱼ =  [interval((-1)^i)*interval(BigFloat, binomial(j,i)//factorial(i)) for i=0:j]\n",
    "    Pₘ[1:j+1] += ū[Int64(j+1)]*Lⱼ\n",
    "end"
   ]
  },
  {
   "cell_type": "code",
   "execution_count": null,
   "id": "7de20594-6bea-4bae-ba46-6bffc5fb4387",
   "metadata": {},
   "outputs": [],
   "source": [
    "v = copy(ū)\n",
    "v[1] = interval(BigFloat, 0)\n",
    "\n",
    "plot(z, Float64.(mid.(z./4 .+1 .-((sqrt(Z)*(interval(2//d)*sqrt(L2(v)) + sqrt(interval(2//d))*C₁*sqrt(H1(v)) + C₂*sqrt(H2((v)))))).^2)))"
   ]
  },
  {
   "cell_type": "code",
   "execution_count": null,
   "id": "c99a3be7-0b50-497f-b8b0-e61a24b5da9d",
   "metadata": {},
   "outputs": [],
   "source": [
    "H2(ū)"
   ]
  },
  {
   "cell_type": "code",
   "execution_count": null,
   "id": "2094c86b-e67d-4566-926d-8f3401849e0a",
   "metadata": {},
   "outputs": [],
   "source": [
    "z = collect((0:400))./100"
   ]
  },
  {
   "cell_type": "code",
   "execution_count": null,
   "id": "0d75c01f-76d8-4132-8972-4d02c69848b0",
   "metadata": {},
   "outputs": [],
   "source": [
    "evalpoly.(z,tuple(Pₘ))"
   ]
  },
  {
   "cell_type": "code",
   "execution_count": null,
   "id": "b7c831f2-49ab-4ea8-828a-a4deca6b7e9e",
   "metadata": {},
   "outputs": [],
   "source": [
    "plot(z, Float64.(mid.(z./4 .+1 -(exp.(-z./2).*evalpoly.(z,tuple(Pₘ))).^2 ./2)))"
   ]
  },
  {
   "cell_type": "code",
   "execution_count": null,
   "id": "58646ab6-6d0b-4208-b088-9b27e1dc6389",
   "metadata": {},
   "outputs": [],
   "source": [
    "2*sqrt(0.3)"
   ]
  },
  {
   "cell_type": "code",
   "execution_count": null,
   "id": "20345580-1855-4092-adee-3cc0e78bec5d",
   "metadata": {},
   "outputs": [],
   "source": [
    "r₀ = interval(BigFloat,7.15)\n",
    "z = (mince(interval(0,r₀^2/interval(4)).^5, 2000000)).^interval(1//5)"
   ]
  },
  {
   "cell_type": "code",
   "execution_count": null,
   "id": "b8ec2588-ea2c-49b8-9078-0cf43c011c27",
   "metadata": {},
   "outputs": [],
   "source": [
    "r₀ = interval(BigFloat,3.0)"
   ]
  },
  {
   "cell_type": "code",
   "execution_count": null,
   "id": "50004aaf-0760-49f2-b316-25bb9596c8b8",
   "metadata": {},
   "outputs": [],
   "source": [
    "v = copy(ū)\n",
    "v[1:3] .= interval(BigFloat, 0)"
   ]
  },
  {
   "cell_type": "code",
   "execution_count": null,
   "id": "ed68a90b-445d-4533-a591-ad5f0d5e3564",
   "metadata": {},
   "outputs": [],
   "source": [
    "ω/interval(2)+r₀^2/interval(16)-((H1(v)*L2(v))^interval((1//4))*sqrt(interval(2)*Z)/sqrt(r₀)+inf_err)^2/interval(2)"
   ]
  },
  {
   "cell_type": "code",
   "execution_count": null,
   "id": "cb896424-2409-40ce-bdef-aa53b0b4dfaa",
   "metadata": {},
   "outputs": [],
   "source": [
    "v = copy(ū)\n",
    "v[1:m+1] .= interval(BigFloat, 0)\n",
    "sup1 = sum(abs.(ū[m+2:end]))\n",
    "sup2 = (H1(v)*L2(v))*interval(1//4)*interval(2)^interval(3//2)./sqrt.(sqrt.(interval(4)*z))\n",
    "supm = interval.(min.(sup.(sup1), sup.(sup2))).+ inf_err\n",
    "infP = inf.(evalpoly.(z,tuple(Pₘ)).*exp.(-z/interval(2)).-supm);"
   ]
  },
  {
   "cell_type": "code",
   "execution_count": null,
   "id": "150b8884-5abf-48ec-b011-7a5e251aebc7",
   "metadata": {},
   "outputs": [],
   "source": [
    "if all(infP.>0) && inf(ω/interval(2)+r₀^2/interval(16)-((H1(ū)*L2(ū))*interval(1//4)*interval(2)^interval(3//2)/sqrt(r₀)+inf_err)^(p-interval(1))/interval(2))>0\n",
    "    println(\"positivity checked\")\n",
    "else\n",
    "    println(\"positivity not checked\")\n",
    "end"
   ]
  },
  {
   "cell_type": "code",
   "execution_count": null,
   "id": "bc850bb3-003f-4781-9fee-737f09feb0e9",
   "metadata": {},
   "outputs": [],
   "source": [
    "for k=1:big(n)\n",
    "    sol += ū[Int64(m+1)]*L\n",
    "    Lhold = copy(L)\n",
    "    L[:] = ((interval(BigFloat,2*m+1) .-zloc).*L .- interval(BigFloat,m)*Lprev)/interval(BigFloat, m+1)\n",
    "    Lprev[:] = Lhold\n",
    "end"
   ]
  },
  {
   "cell_type": "code",
   "execution_count": null,
   "id": "62e667ee-ade7-4277-91e7-d1a1c2c1f493",
   "metadata": {},
   "outputs": [],
   "source": [
    "supm"
   ]
  },
  {
   "cell_type": "code",
   "execution_count": null,
   "id": "18a9cfce-94f6-4c88-b153-e1d5e30c7fd1",
   "metadata": {},
   "outputs": [],
   "source": [
    "plot(inf.(evalpoly.(z,tuple(Pₘ)).*exp.(-z/2).-supm))"
   ]
  },
  {
   "cell_type": "code",
   "execution_count": null,
   "id": "30fec109-775c-4f2c-b687-fe7278961606",
   "metadata": {},
   "outputs": [],
   "source": [
    "plot(inf.(evalpoly.(z,tuple(Pₘ)).*exp.(-z/2).-supm)[end-100000:end])"
   ]
  },
  {
   "cell_type": "code",
   "execution_count": null,
   "id": "7ef6454d-6532-49c6-9555-033623d366d1",
   "metadata": {},
   "outputs": [],
   "source": [
    "plot(inf.(Pₘ.*exp.(-z/2).-supm)[end-100000:end])"
   ]
  },
  {
   "cell_type": "code",
   "execution_count": null,
   "id": "f29c7f82-f3e6-4406-b48f-5c322942a51a",
   "metadata": {},
   "outputs": [],
   "source": [
    "r₀ = interval(BigFloat,3.86)\n",
    "println(inf(ω/interval(2)+r₀^2/interval(16)-((H1(ū)*L2(ū))*interval(1//4)*interval(2)^interval(3//2)/sqrt(r₀)+inf_err)^(p-interval(1))/interval(2)))"
   ]
  },
  {
   "cell_type": "code",
   "execution_count": null,
   "id": "26692214",
   "metadata": {},
   "outputs": [],
   "source": [
    "m = 10\n",
    "supm = inf_err+sum(abs.(ū[m+2:end]))\n",
    "Pₘ = zeros(Interval{BigFloat},m+1)\n",
    "for j = 0:big(m)\n",
    "#     println(j)\n",
    "    Lⱼ =  [interval((-1)^i)*interval(BigFloat, binomial(j,i)//factorial(i)) for i=0:j]\n",
    "    Pₘ[1:j+1] += ū[Int64(j+1)]*Lⱼ\n",
    "end"
   ]
  },
  {
   "cell_type": "code",
   "execution_count": null,
   "id": "b0f4f0ab-79ef-49cc-ad34-775564b19d00",
   "metadata": {},
   "outputs": [],
   "source": [
    "setprecision(1024)\n",
    "r₀ = interval(BigFloat,1.0)\n",
    "z₀ = r₀^2/interval(4)\n",
    "Lprev = interval(BigFloat, 1)\n",
    "L = Lprev - z₀\n",
    "φ̄₀ = interval(BigFloat, 0)\n",
    "φ̄₀ += ū[1]*Lprev\n",
    "for m=1:big(n)\n",
    "    φ̄₀ += ū[m+1]*L\n",
    "    Lhold = copy(L)\n",
    "    L = ((interval(BigFloat,2*m+1) -z₀).*L - interval(BigFloat,m)*Lprev)/interval(BigFloat, m+1)\n",
    "    Lprev = Lhold\n",
    "end"
   ]
  },
  {
   "cell_type": "code",
   "execution_count": null,
   "id": "9d5a8b16-a42d-4c21-8515-a7f321d85fd5",
   "metadata": {},
   "outputs": [],
   "source": [
    "z = mince(interval(0,r₀), 1000).^2/interval(4)\n",
    "\n",
    "if all(inf.(evalpoly.(z,tuple(Pₘ)).*exp.(-z).-supm.*exp.(-z/2)).>0) && inf(ω/interval(2)+r₀^2/interval(16)-(φ̄₀*exp(-r₀^2/interval(8))+inf_err)^(p-interval(1))/interval(2))>0\n",
    "    println(\"positivity checked\")\n",
    "else\n",
    "    println(\"positivity not checked\")\n",
    "end\n",
    "setprecision(256)"
   ]
  },
  {
   "cell_type": "code",
   "execution_count": null,
   "id": "25e5884d-eee3-4e06-b2e8-28ba5928de53",
   "metadata": {},
   "outputs": [],
   "source": [
    "inf(δ̄)"
   ]
  },
  {
   "cell_type": "code",
   "execution_count": null,
   "id": "ba1b0529",
   "metadata": {},
   "outputs": [],
   "source": [
    "Float64(inf(δ̄), RoundDown)"
   ]
  },
  {
   "cell_type": "code",
   "execution_count": 25,
   "id": "18d09225-754f-4151-a1e7-5bad593254f6",
   "metadata": {},
   "outputs": [
    {
     "data": {
      "text/plain": [
       "134.269405908537100313878581499109359045330977712567099495907802077369269880513"
      ]
     },
     "execution_count": 25,
     "metadata": {},
     "output_type": "execute_result"
    }
   ],
   "source": [
    "sup(Z₃)"
   ]
  },
  {
   "cell_type": "code",
   "execution_count": 26,
   "id": "f6fc303f-004e-4809-9a37-878456ffa88a",
   "metadata": {},
   "outputs": [
    {
     "data": {
      "text/plain": [
       "134.26940590853712"
      ]
     },
     "execution_count": 26,
     "metadata": {},
     "output_type": "execute_result"
    }
   ],
   "source": [
    "Float64(sup(Z₃), RoundUp)"
   ]
  },
  {
   "cell_type": "code",
   "execution_count": null,
   "id": "aada7e56",
   "metadata": {},
   "outputs": [],
   "source": [
    "sup(η)"
   ]
  },
  {
   "cell_type": "code",
   "execution_count": null,
   "id": "fc707ebc-4b76-4898-a1d1-030697b564c2",
   "metadata": {},
   "outputs": [],
   "source": [
    "Float64.(sup(η), RoundUp)"
   ]
  },
  {
   "cell_type": "code",
   "execution_count": null,
   "id": "97cdb0a1-d3ed-4e8f-ad71-df52bafdb0eb",
   "metadata": {},
   "outputs": [],
   "source": []
  },
  {
   "cell_type": "code",
   "execution_count": null,
   "id": "987e1140",
   "metadata": {},
   "outputs": [],
   "source": [
    "setprecision(1024)\n",
    "rloc = collect(0:600)/100\n",
    "zloc = interval.(big.(rloc.^2/4))\n",
    "sol = zeros(Interval{BigFloat},size(zloc));\n",
    "# computing pseudo-vandermonde matrices\n",
    "Lprev = ones(Interval{BigFloat}, length(zloc)) \n",
    "L = Lprev .- zloc\n",
    "sol += ū[Int64(1)]*Lprev\n",
    "for m=1:big(n)\n",
    "    sol += ū[Int64(m+1)]*L\n",
    "    Lhold = copy(L)\n",
    "    L[:] = ((interval(BigFloat,2*m+1) .-zloc).*L .- interval(BigFloat,m)*Lprev)/interval(BigFloat, m+1)\n",
    "    Lprev[:] = Lhold\n",
    "end"
   ]
  },
  {
   "cell_type": "code",
   "execution_count": null,
   "id": "14e77d3d",
   "metadata": {},
   "outputs": [],
   "source": [
    "plot(rloc, mid.(rloc.^2/16 .+1 .- (sol.*exp.(-zloc/2)).^2/2), xlabel = L\"r\", ylabel = L\"\\overline{\\varphi}\", legend = false, dpi =1000)"
   ]
  },
  {
   "cell_type": "code",
   "execution_count": null,
   "id": "284f2b23-091b-4180-9504-dff59cd4ce03",
   "metadata": {},
   "outputs": [],
   "source": [
    "mid.(rloc.^2/16 .+1 .- (sol.*exp.(-zloc/2)).^2/2)[101]"
   ]
  },
  {
   "cell_type": "code",
   "execution_count": null,
   "id": "400f89a6",
   "metadata": {},
   "outputs": [],
   "source": [
    "png(\"minusSchrodinger\")"
   ]
  }
 ],
 "metadata": {
  "kernelspec": {
   "display_name": "Julia 1.10.2",
   "language": "julia",
   "name": "julia-1.10"
  },
  "language_info": {
   "file_extension": ".jl",
   "mimetype": "application/julia",
   "name": "julia",
   "version": "1.10.2"
  }
 },
 "nbformat": 4,
 "nbformat_minor": 5
}
