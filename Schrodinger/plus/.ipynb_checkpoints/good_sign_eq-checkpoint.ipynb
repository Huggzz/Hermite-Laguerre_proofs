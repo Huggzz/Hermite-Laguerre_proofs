{
 "cells": [
  {
   "cell_type": "code",
   "execution_count": 1,
   "id": "300f1cc6",
   "metadata": {},
   "outputs": [],
   "source": [
    "using IntervalArithmetic, Combinatorics, Polynomials, Serialization, LinearAlgebra, Plots, LaTeXStrings"
   ]
  },
  {
   "cell_type": "markdown",
   "id": "f47e16ba",
   "metadata": {},
   "source": [
    "We aim to find a self-similar solution to the nonlinear Schrodinger equation, which in our setting is equivalent to solving the equation\n",
    "$$\\mathcal{L}u-\\frac{3}{2}u+\\frac{e^{r^2/4}}{2}u^3 = 0$$\n",
    "\n",
    "The Vandermonde matrices below have been adapted to treat the above nonlinearity. The quadratures are still rigorous."
   ]
  },
  {
   "cell_type": "code",
   "execution_count": 2,
   "id": "90e4b181",
   "metadata": {},
   "outputs": [],
   "source": [
    "# start here with precomputed vandermonde matrices\n",
    "n = big(500)\n",
    "setprecision(256)\n",
    "\n",
    "# approximate solution\n",
    "ū = interval.(deserialize(\"uminus\"));\n",
    "\n",
    "# regularised Vandermonde matrices for 2p and p+1 products\n",
    "V̄4 = deserialize(\"V4r\")\n",
    "V̄6 = deserialize(\"V6r\")\n",
    "\n",
    "p = interval(3)\n",
    "d = 2\n",
    "α = d//2\n",
    "ω = interval(-2)\n",
    "ε = interval(-1)\n",
    "\n",
    "# m = n+1, (n+1)ᵗʰ eigenvalue\n",
    "λₘ = interval(d//2+n+1)\n",
    "λ₀ = interval(d//2)\n",
    "Z = interval(4)*interval(BigFloat, π)\n",
    "\n",
    "function interval64(x::Interval)\n",
    "    isguaranteed(x) || error(\"interval is not guaranteed\")\n",
    "    return interval(Float64(inf(x), RoundDown), Float64(sup(x), RoundUp))\n",
    "end\n",
    "LinearAlgebra.norm(v::Vector) = sqrt(sum(v.^2))"
   ]
  },
  {
   "cell_type": "code",
   "execution_count": 3,
   "id": "85ec15e4",
   "metadata": {},
   "outputs": [],
   "source": [
    "# generator\n",
    "𝔏 = Diagonal(interval.(big.(collect(0:n))).+λ₀);"
   ]
  },
  {
   "cell_type": "code",
   "execution_count": 4,
   "id": "51f03d8a",
   "metadata": {},
   "outputs": [
    {
     "data": {
      "text/plain": [
       "L6 (generic function with 1 method)"
      ]
     },
     "execution_count": 4,
     "metadata": {},
     "output_type": "execute_result"
    }
   ],
   "source": [
    "# computes Lᵖ/H² norms before taking fractional exponent\n",
    "function L2(u)\n",
    "    return sum(u.^2)\n",
    "end\n",
    "\n",
    "function H2(u)\n",
    "    return sum((𝔏*u.^2))\n",
    "end\n",
    "\n",
    "function L6(u)\n",
    "    return sum((V̄6*u).^6)\n",
    "end"
   ]
  },
  {
   "cell_type": "code",
   "execution_count": 5,
   "id": "9be5ea4a-0706-48d4-9981-125dc7b703c6",
   "metadata": {},
   "outputs": [
    {
     "data": {
      "text/plain": [
       "op_norm (generic function with 1 method)"
      ]
     },
     "execution_count": 5,
     "metadata": {},
     "output_type": "execute_result"
    }
   ],
   "source": [
    "# rigorous upper bound of the 2-norm of a matrix\n",
    "function op_norm(A)\n",
    "    if size(A) == (2,2)\n",
    "        Z = sqrt(sum(A.^2) + sqrt(((A[1,2]+A[2,1])^2+(A[1,1]-A[2,2])^2)*((A[1,2]-A[2,1])^2+(A[1,1]+A[2,2])^2)))/sqrt(interval(2))\n",
    "        if isguaranteed(Z)\n",
    "            return interval(sup(Z))\n",
    "        else\n",
    "            return Z\n",
    "        end\n",
    "    else\n",
    "        all(isguaranteed.(A)) || error(\"matrix not guaranteed\")\n",
    "        return sqrt(interval(maximum(sup.(sum(abs.(A), dims = 1))))*interval(maximum(sup.(sum(abs.(A), dims = 2)))))\n",
    "    end\n",
    "end"
   ]
  },
  {
   "cell_type": "code",
   "execution_count": 6,
   "id": "bc94e719",
   "metadata": {},
   "outputs": [],
   "source": [
    "# rigorous L²-norms of ūᵖ⁻¹ψ̂ⱼ\n",
    "int = sum(((V̄6*ū).^(p-interval(1)).*V̄6).^2, dims = 1);"
   ]
  },
  {
   "cell_type": "code",
   "execution_count": 7,
   "id": "4a653b5e",
   "metadata": {},
   "outputs": [],
   "source": [
    "# PₙF(ū)\n",
    "PFū = ū - inv(𝔏)*((interval(d//4)-ω/interval(2))*ū+ε*(V̄4'*((V̄4*ū).^3))/interval(2));"
   ]
  },
  {
   "cell_type": "markdown",
   "id": "80f4747d",
   "metadata": {},
   "source": [
    "Analgously, we choose $F:H^1(\\mu)\\to H^1(\\mu)$ such that\n",
    "$$F(u) = u - \\mathcal{L}^{-1}\\left(\\frac{3}{2}u -\\frac{e^{r^2/4}}{2}u^3\\right)$$"
   ]
  },
  {
   "cell_type": "markdown",
   "id": "94c76bbc",
   "metadata": {},
   "source": [
    "We have\n",
    "\n",
    "$$DF(\\bar{u}) = I - \\frac{3}{2}\\mathcal{L}^{-1}+\\frac{3}{2}\\mathcal{L}^{-1}(e^{r^2/4}\\bar{u}^2\\cdot)$$ "
   ]
  },
  {
   "cell_type": "code",
   "execution_count": 8,
   "id": "37c19b1b-3dd4-4c26-bdc1-0441a6704c12",
   "metadata": {},
   "outputs": [],
   "source": [
    "Ḡ = interval64.(V̄4)'*(interval64.(V̄4*ū).^(p-interval(1)) .*interval64.(V̄4));"
   ]
  },
  {
   "cell_type": "code",
   "execution_count": 9,
   "id": "b3fa92e5",
   "metadata": {},
   "outputs": [],
   "source": [
    "# PₙDF(ū)Pₙ\n",
    "DFū = interval64.(interval(I(n+1)) - inv(𝔏)*(interval(d//4)-ω/interval(2))+ε*𝔏\\Ḡ/interval(2));\n",
    "# approximate numerical inverse of PₙDF(ū)Pₙ\n",
    "Aₙ = interval.(inv(mid.(DFū)));"
   ]
  },
  {
   "cell_type": "markdown",
   "id": "c40cd4a4",
   "metadata": {},
   "source": [
    "Similarly, define\n",
    "$$w_m := \\|P_{\\infty}  (e^{r^2/4}\\bar{u}^{2}\\hat{\\psi}_m)\\|_{L^2} =  \\left(\\|e^{r^2/4}\\bar{u}^{2} \\hat{\\psi}_m\\|^2_{L^2}-\\|P_n(e^{r^2/4}\\bar{u}^{2}\\hat{\\psi}_m)\\|^2_{L^2}\\right)^{1/2}$$"
   ]
  },
  {
   "cell_type": "code",
   "execution_count": 10,
   "id": "e91dedbb",
   "metadata": {},
   "outputs": [],
   "source": [
    "w = sqrt.(abs.([int[i] - L2(Ḡ[i,:]) for i=1:n+1]));"
   ]
  },
  {
   "cell_type": "markdown",
   "id": "a3ab4fea",
   "metadata": {},
   "source": [
    "and\n",
    "\n",
    "$$Y^2 = \\|\\mathcal{L}A_n(P_nF(\\bar{u}))\\|^2_{L^2}+\\frac{1}{4}\\left(\\|e^{r^2/4}\\bar{u}^3\\|^2_{L^2}-\\|P_n(e^{r^2/4}\\bar{u}^3)\\|^2_{L^2}\\right)$$"
   ]
  },
  {
   "cell_type": "code",
   "execution_count": 11,
   "id": "3e18b248",
   "metadata": {},
   "outputs": [
    {
     "data": {
      "text/plain": [
       "[1.51079e-33, 1.5108e-33]₂₅₆_com"
      ]
     },
     "execution_count": 11,
     "metadata": {},
     "output_type": "execute_result"
    }
   ],
   "source": [
    "Y = interval.(sqrt(H2(Aₙ*PFū)+(L6(ū)-L2((V̄4'*((V̄4*ū).^p))))/interval(4)))"
   ]
  },
  {
   "cell_type": "markdown",
   "id": "1da41ac4",
   "metadata": {},
   "source": [
    "We have\n",
    "$$\\begin{cases}\n",
    "    Z^{11} &= \\|\\mathcal{L}(I_n - A_n P_nDF(\\bar{u})P_n)\\mathcal{L}^{-1}\\|_{L^2,L^2}\\\\\n",
    "    Z^{12} &= \\frac{3}{2\\lambda_{n+1}}\\left\\|\\,\\left|\\mathcal{L}A_n \\mathcal{L}^{-1}\\right|v\\right\\|_{L^2}\\\\\n",
    "    Z^{21} &=\\frac{3}{2\\lambda_{n+1}}\\|\\mathcal{L}^{-1}v\\|_{L^2}\n",
    "\\end{cases}$$"
   ]
  },
  {
   "cell_type": "code",
   "execution_count": 12,
   "id": "125e3bef-ff65-45ad-9fea-52e70daea2f4",
   "metadata": {},
   "outputs": [],
   "source": [
    "Z¹² = p*norm(abs.(𝔏*Aₙ*inv(𝔏))*w)/λₘ/interval(2);"
   ]
  },
  {
   "cell_type": "markdown",
   "id": "46b88af0",
   "metadata": {},
   "source": [
    " $$Z^{22} = \\frac{\\|3/2-3e^{r^2/4}\\bar{u}^2/2\\|_{\\infty}}{\\lambda_{n+1}}$$"
   ]
  },
  {
   "cell_type": "code",
   "execution_count": 13,
   "id": "765ccafd-5088-4ac4-8810-a2a65288ff22",
   "metadata": {},
   "outputs": [
    {
     "data": {
      "text/plain": [
       "[2.08913, 2.08915]₂₅₆_com"
      ]
     },
     "execution_count": 13,
     "metadata": {},
     "output_type": "execute_result"
    }
   ],
   "source": [
    "supφ̄ = sum(abs.(ū))"
   ]
  },
  {
   "cell_type": "code",
   "execution_count": 14,
   "id": "6095610a-5680-4134-bdb9-7bf08113abd5",
   "metadata": {},
   "outputs": [
    {
     "data": {
      "text/plain": [
       "[0.00923049, 0.0092305]₂₅₆_com"
      ]
     },
     "execution_count": 14,
     "metadata": {},
     "output_type": "execute_result"
    }
   ],
   "source": [
    "Z¹¹ = op_norm(𝔏*(interval.(I(n+1)) - Aₙ*DFū)*inv(𝔏));\n",
    "Z²¹ = p*norm(𝔏\\w)/interval(2);\n",
    "Z²² = (abs.(interval(d//4)-ω/interval(2))+p*supφ̄/interval(2))/interval(λₘ)"
   ]
  },
  {
   "cell_type": "code",
   "execution_count": 15,
   "id": "9abeef5a",
   "metadata": {},
   "outputs": [
    {
     "data": {
      "text/plain": [
       "[0.00944419, 0.0094442]₂₅₆_com"
      ]
     },
     "execution_count": 15,
     "metadata": {},
     "output_type": "execute_result"
    }
   ],
   "source": [
    "Z₁ = op_norm([Z¹¹ Z¹² ; Z²¹ Z²²])"
   ]
  },
  {
   "cell_type": "code",
   "execution_count": 16,
   "id": "37fb805b-be20-4684-bdc7-f94f9c9853a7",
   "metadata": {},
   "outputs": [
    {
     "data": {
      "text/plain": [
       "2×2 Matrix{Interval{BigFloat}}:\n",
       " [4.59203e-13, 4.59204e-13]₂₅₆_com  [0.00140777, 0.00140778]₂₅₆_com\n",
       " [0.00143335, 0.00143336]₂₅₆_com    [0.00923049, 0.0092305]₂₅₆_com"
      ]
     },
     "execution_count": 16,
     "metadata": {},
     "output_type": "execute_result"
    }
   ],
   "source": [
    "[Z¹¹ Z¹² ; Z²¹ Z²²]"
   ]
  },
  {
   "cell_type": "code",
   "execution_count": 17,
   "id": "702703af",
   "metadata": {},
   "outputs": [],
   "source": [
    "# c22 = interval(8)*sqrt(interval(BigFloat,π))\n",
    "# c23 = interval(96)*interval(BigFloat,π)"
   ]
  },
  {
   "cell_type": "code",
   "execution_count": 18,
   "id": "87d3405f-a0c0-4381-a453-68e41336bfed",
   "metadata": {},
   "outputs": [
    {
     "data": {
      "text/plain": [
       "[5.64494, 5.64495]₂₅₆_com"
      ]
     },
     "execution_count": 18,
     "metadata": {},
     "output_type": "execute_result"
    }
   ],
   "source": [
    "# Calculation of the L²-norm of the Hessian of η and of the sup of η\n",
    "C₀ = I\"0.56419\"\n",
    "C₁ = I\"0.79789\"\n",
    "C₂ = I\"0.23033\"\n",
    "C2 = sqrt(Z)*(interval(2//d)*C₀ + sqrt(interval(2//d))*C₁ + C₂)"
   ]
  },
  {
   "cell_type": "code",
   "execution_count": 19,
   "id": "c5f1d4a3",
   "metadata": {},
   "outputs": [
    {
     "data": {
      "text/plain": [
       "[1264.71, 1264.72]₂₅₆_com"
      ]
     },
     "execution_count": 19,
     "metadata": {},
     "output_type": "execute_result"
    }
   ],
   "source": [
    "op_n = interval(max(sup(op_norm(𝔏*Aₙ*inv(𝔏))), 1))\n",
    "Z₂ = interval(3)*C2*supφ̄*op_n\n",
    "Z₃ = interval(3)*C2^2*op_n"
   ]
  },
  {
   "cell_type": "code",
   "execution_count": 20,
   "id": "14e45040",
   "metadata": {},
   "outputs": [
    {
     "data": {
      "text/plain": [
       "[0.00211029, 0.0021103]₂₅₆_com"
      ]
     },
     "execution_count": 20,
     "metadata": {},
     "output_type": "execute_result"
    }
   ],
   "source": [
    "δ̄ = (-Z₂+sqrt(Z₂^2 +interval(2)*Z₃-interval(2)*Z₁*Z₃))/Z₃"
   ]
  },
  {
   "cell_type": "code",
   "execution_count": 21,
   "id": "1fc892d4",
   "metadata": {},
   "outputs": [
    {
     "data": {
      "text/plain": [
       "P (generic function with 1 method)"
      ]
     },
     "execution_count": 21,
     "metadata": {},
     "output_type": "execute_result"
    }
   ],
   "source": [
    "P(δ) = Z₃/interval(6)*δ^3 + Z₂/interval(2)*δ^2 - (interval(1) - Z₁)*δ + Y"
   ]
  },
  {
   "cell_type": "code",
   "execution_count": 22,
   "id": "792f4d90",
   "metadata": {},
   "outputs": [
    {
     "name": "stdout",
     "output_type": "stream",
     "text": [
      "Interval{BigFloat}(1.525198686985645566785595653195837956866843381568800209291287706283337359665502e-33, 1.52519871732856721454253430907892661757510292503608067278824240537361820057411e-33, com)\n"
     ]
    }
   ],
   "source": [
    "δ̲ = Y/(interval(1)-Z₁)*(interval(1)+interval(BigFloat,2)^(-25))\n",
    "if sup(P(δ̲))<0\n",
    "    println(δ̲)\n",
    "end"
   ]
  },
  {
   "cell_type": "code",
   "execution_count": 26,
   "id": "e33ecca2-6365-4dab-a78e-e64dd31be48a",
   "metadata": {},
   "outputs": [
    {
     "data": {
      "text/plain": [
       "[7.15237e-33, 7.15238e-33]₂₅₆_com"
      ]
     },
     "execution_count": 26,
     "metadata": {},
     "output_type": "execute_result"
    }
   ],
   "source": [
    "η = sqrt(interval(BigFloat,7)*Z)*δ̲/interval(2)"
   ]
  },
  {
   "cell_type": "code",
   "execution_count": 23,
   "id": "7dc4a554",
   "metadata": {},
   "outputs": [
    {
     "data": {
      "text/plain": [
       "[8.60966e-33, 8.60967e-33]₂₅₆_com"
      ]
     },
     "execution_count": 23,
     "metadata": {},
     "output_type": "execute_result"
    }
   ],
   "source": [
    "inf_err = C2*δ̲"
   ]
  },
  {
   "cell_type": "code",
   "execution_count": 24,
   "id": "26692214",
   "metadata": {},
   "outputs": [],
   "source": [
    "m = 10\n",
    "supm = inf_err+sum(abs.(ū[m+2:end]))\n",
    "Pₘ = zeros(Interval{BigFloat},m+1)\n",
    "for j = 0:m\n",
    "#     println(j)\n",
    "    Lⱼ =  [interval((-1)^i)*interval(BigFloat, binomial(j,i)//factorial(i)) for i=0:j]\n",
    "    Pₘ[1:j+1] += ū[Int64(j+1)]*Lⱼ\n",
    "end"
   ]
  },
  {
   "cell_type": "code",
   "execution_count": 25,
   "id": "66585b80",
   "metadata": {},
   "outputs": [
    {
     "name": "stdout",
     "output_type": "stream",
     "text": [
      "positivity checked\n"
     ]
    }
   ],
   "source": [
    "r₀ = interval(BigFloat,8.0)\n",
    "z = mince(interval(0,r₀.^2/interval(4)), 4000)\n",
    "\n",
    "if all(inf.(evalpoly.(z,tuple(Pₘ)).*exp.(-z).-supm.*exp.(-z/interval(2))).>0) && inf(ω/interval(2)+r₀^2/interval(16)-(supφ̄+inf_err)^(p-interval(1))/interval(2))>0\n",
    "    println(\"positivity checked\")\n",
    "else\n",
    "    println(\"positivity not checked\")\n",
    "end"
   ]
  },
  {
   "cell_type": "code",
   "execution_count": null,
   "id": "c90bfab8-cc2f-4713-99ac-eb288cbeaa5b",
   "metadata": {},
   "outputs": [],
   "source": [
    "inf(δ̄)"
   ]
  },
  {
   "cell_type": "code",
   "execution_count": null,
   "id": "ba1b0529",
   "metadata": {},
   "outputs": [],
   "source": [
    "Float64(inf(δ̄), RoundDown)"
   ]
  },
  {
   "cell_type": "code",
   "execution_count": 27,
   "id": "aada7e56",
   "metadata": {},
   "outputs": [
    {
     "data": {
      "text/plain": [
       "468.0575302222207534113711486547735180926308137762033178201694973532037875543868"
      ]
     },
     "execution_count": 27,
     "metadata": {},
     "output_type": "execute_result"
    }
   ],
   "source": [
    "sup(Z₃)"
   ]
  },
  {
   "cell_type": "code",
   "execution_count": 29,
   "id": "fc707ebc-4b76-4898-a1d1-030697b564c2",
   "metadata": {},
   "outputs": [
    {
     "data": {
      "text/plain": [
       "1264.711434525654"
      ]
     },
     "execution_count": 29,
     "metadata": {},
     "output_type": "execute_result"
    }
   ],
   "source": [
    "Float64.(sup(Z₃), RoundUp)"
   ]
  },
  {
   "cell_type": "code",
   "execution_count": null,
   "id": "987e1140",
   "metadata": {},
   "outputs": [],
   "source": [
    "#solution plotting\n",
    "\n",
    "rloc = collect(0:800)/100\n",
    "zloc = rloc.^2/4\n",
    "sol = zeros(size(zloc));\n",
    "for k = 0:n\n",
    "    println(k)\n",
    "    Lₖ = Polynomial([(-1)^i*intervalR(binomial(k,i)//factorial(i)) for i=0:k])\n",
    "    sol .+= Float64.(mid.(ū[Int64(k+1)]) .* mid.(Lₖ.(zloc)))\n",
    "end"
   ]
  },
  {
   "cell_type": "code",
   "execution_count": null,
   "id": "97cdb0a1-d3ed-4e8f-ad71-df52bafdb0eb",
   "metadata": {},
   "outputs": [],
   "source": []
  },
  {
   "cell_type": "code",
   "execution_count": null,
   "id": "14e77d3d",
   "metadata": {},
   "outputs": [],
   "source": [
    "plot(rloc, sol.*exp.(-zloc/2), xlabel = L\"r\", ylabel = L\"\\overline{\\varphi}\", legend = false, dpi =1000)"
   ]
  },
  {
   "cell_type": "code",
   "execution_count": null,
   "id": "400f89a6",
   "metadata": {},
   "outputs": [],
   "source": [
    "png(\"minusSchrodinger\")"
   ]
  }
 ],
 "metadata": {
  "kernelspec": {
   "display_name": "Julia 1.10.2",
   "language": "julia",
   "name": "julia-1.10"
  },
  "language_info": {
   "file_extension": ".jl",
   "mimetype": "application/julia",
   "name": "julia",
   "version": "1.10.2"
  }
 },
 "nbformat": 4,
 "nbformat_minor": 5
}
