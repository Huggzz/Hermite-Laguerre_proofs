{
 "cells": [
  {
   "cell_type": "code",
   "execution_count": null,
   "id": "617552a4",
   "metadata": {},
   "outputs": [],
   "source": [
    "using IntervalArithmetic, Combinatorics, Polynomials, Serialization, Base.Threads, Random, LaTeXStrings, LinearAlgebra"
   ]
  },
  {
   "cell_type": "code",
   "execution_count": null,
   "id": "a70edc5a",
   "metadata": {},
   "outputs": [],
   "source": [
    "K = 100\n",
    "Ms = collect(K:-1:0)\n",
    "indices = [1; cumsum(Ms.+1).+1]\n",
    "N = indices[end]-1"
   ]
  },
  {
   "cell_type": "code",
   "execution_count": null,
   "id": "4a0ad62f",
   "metadata": {},
   "outputs": [],
   "source": [
    "# approximate solution\n",
    "setprecision(128)\n",
    "ū = interval.(deserialize(\"ubar\"));\n",
    "\n",
    "# regularised Vandermonde matrices for 2p and p+1 products\n",
    "V̄4 = deserialize(\"V4r\");\n",
    "V̄6 = deserialize(\"V6r\");\n",
    "\n",
    "N = size(V̄4)[2]\n",
    "N4 = size(V̄4)[1];\n",
    "N6 = size(V̄6)[1];"
   ]
  },
  {
   "cell_type": "code",
   "execution_count": null,
   "id": "4bfab974-1adc-4707-8251-a95ad211c131",
   "metadata": {},
   "outputs": [],
   "source": [
    "# cut ū after frequency 2*K₀-1\n",
    "K₀ = 18\n",
    "ū[indices[K₀+1]:end] .=interval(0);"
   ]
  },
  {
   "cell_type": "code",
   "execution_count": null,
   "id": "6c108441",
   "metadata": {},
   "outputs": [],
   "source": [
    "function proj(u)\n",
    "#     println(\"test\")\n",
    "    U = V̄4.*u'\n",
    "    P = [sum(U[:,indices[k+1]:indices[k+2]-1], dims = 2)[:] for k=0:K₀-1]\n",
    "    Gu = [zeros(Interval{BigFloat},N) for i in 1:Threads.nthreads()]\n",
    "    count = zeros(Int64, Threads.nthreads())\n",
    "    ind = shuffle(vcat([(i,k,j) for i=0:K₀-1, k=0:K₀-1, j=0:K₀-1]...))\n",
    "    Threads.@threads for index in ind\n",
    "        (i, j, k) = index\n",
    "        # println((i, k, j))\n",
    "        if i > k && k > j\n",
    "            X = P[i+1].*P[k+1].*P[j+1]*interval(3//2)\n",
    "            for l in (k+i+j+1, abs(2*(k+i-j)+1)÷2, abs(2*(k-i-j)-1)÷2, abs(2*(-k+i-j)-1)÷2)\n",
    "                if 2*l+1<=2*K+1\n",
    "                    Gu[Threads.threadid()][indices[l+1]:indices[l+2]-1] += (V̄4[:,indices[l+1]:indices[l+2]-1])'*X\n",
    "                    # println(\"test\")\n",
    "                end\n",
    "            end\n",
    "        elseif i > k && k==j\n",
    "            X = P[i+1].*P[k+1].*P[j+1]*interval(3//4)\n",
    "            for l in (k+i+j+1, abs(2*(k+i-j)+1)÷2, abs(2*(k-i-j)-1)÷2, abs(2*(-k+i-j)-1)÷2)\n",
    "                if 2*l+1<=2*K+1\n",
    "                    Gu[Threads.threadid()][indices[l+1]:indices[l+2]-1] += (V̄4[:,indices[l+1]:indices[l+2]-1])'*X\n",
    "                end\n",
    "            end\n",
    "        elseif i == k && k>j\n",
    "            X = P[i+1].*P[k+1].*P[j+1]*interval(3//4)\n",
    "            for l in (k+i+j+1, abs(2*(k+i-j)+1)÷2, abs(2*(k-i-j)-1)÷2, abs(2*(-k+i-j)-1)÷2)\n",
    "                if 2*l+1<=2*K+1\n",
    "                    Gu[Threads.threadid()][indices[l+1]:indices[l+2]-1] += (V̄4[:,indices[l+1]:indices[l+2]-1])'*X\n",
    "                end\n",
    "            end\n",
    "        elseif i == k && k==j\n",
    "            X = P[i+1].*P[k+1].*P[j+1]/interval(4)\n",
    "            for l in (k+i+j+1, abs(2*(k+i-j)+1)÷2, abs(2*(k-i-j)-1)÷2, abs(2*(-k+i-j)-1)÷2)\n",
    "                if 2*l+1<=2*K+1\n",
    "                    Gu[Threads.threadid()][indices[l+1]:indices[l+2]-1] += (V̄4[:,indices[l+1]:indices[l+2]-1])'*X\n",
    "                end\n",
    "            end\n",
    "        end\n",
    "        count[Threads.threadid()] +=1\n",
    "        if count[Threads.threadid()] %500 == 0\n",
    "            # println((count[Threads.threadid()], Threads.threadid()))\n",
    "        end\n",
    "    end\n",
    "    return sum(Gu)\n",
    "end"
   ]
  },
  {
   "cell_type": "code",
   "execution_count": null,
   "id": "a41b5b15",
   "metadata": {},
   "outputs": [],
   "source": [
    "function L6(u)\n",
    "    U = V̄6.*u'\n",
    "    P = [sum(U[:,indices[k+1]:indices[k+2]-1], dims = 2)[:] for k=0:K]\n",
    "    freq_proj = zeros(Interval{BigFloat}, (N6, 3*K+2))\n",
    "    for i=0:K₀-1, k=0:K₀-1, j=0:K₀-1\n",
    "        if i > k && k > j\n",
    "            X = P[k+1].*P[j+1].*P[i+1]*interval(3//2)\n",
    "            freq_proj[:,k+i+j+2] += X\n",
    "            freq_proj[:,abs(2*(k+i-j)+1)÷2+1] += X\n",
    "            freq_proj[:,abs(2*(k-i-j)-1)÷2+1] += X\n",
    "            freq_proj[:,abs(2*(-k+i-j)-1)÷2+1] += X\n",
    "        elseif i > k && k==j\n",
    "            X = P[k+1].*P[j+1].*P[i+1]*interval(3//4)\n",
    "            freq_proj[:,k+i+j+2] += X\n",
    "            freq_proj[:,abs(2*(k+i-j)+1)÷2+1] += X\n",
    "            freq_proj[:,abs(2*(k-i-j)-1)÷2+1] += X\n",
    "            freq_proj[:,abs(2*(-k+i-j)-1)÷2+1] += X\n",
    "        elseif i == k && k>j\n",
    "            X = P[k+1].*P[j+1].*P[i+1]*interval(3//4)\n",
    "            freq_proj[:,k+i+j+2] += X\n",
    "            freq_proj[:,abs(2*(k+i-j)+1)÷2+1] += X\n",
    "            freq_proj[:,abs(2*(k-i-j)-1)÷2+1] += X\n",
    "            freq_proj[:,abs(2*(-k+i-j)-1)÷2+1] += X\n",
    "        elseif i == k && k==j\n",
    "            X = P[k+1].*P[j+1].*P[i+1]/interval(4)\n",
    "            freq_proj[:,k+i+j+2] += X\n",
    "            freq_proj[:,abs(2*(k+i-j)+1)÷2+1] += X\n",
    "            freq_proj[:,abs(2*(k-i-j)-1)÷2+1] += X\n",
    "            freq_proj[:,abs(2*(-k+i-j)-1)÷2+1] += X\n",
    "        end\n",
    "    end\n",
    "    return sum(freq_proj.^interval(2))\n",
    "end"
   ]
  },
  {
   "cell_type": "code",
   "execution_count": null,
   "id": "cc2d7848",
   "metadata": {},
   "outputs": [],
   "source": [
    "function L2(u)\n",
    "    return sum(u.^interval(2))\n",
    "end"
   ]
  },
  {
   "cell_type": "code",
   "execution_count": null,
   "id": "4cc013ce-9bab-433d-8f07-5434cf0e8818",
   "metadata": {},
   "outputs": [],
   "source": [
    "Pū³ = proj(ū);"
   ]
  },
  {
   "cell_type": "code",
   "execution_count": null,
   "id": "2c9730cc",
   "metadata": {},
   "outputs": [],
   "source": [
    "Fū∞ = (L6(ū)- L2(Pū³))/(interval(4))"
   ]
  },
  {
   "cell_type": "code",
   "execution_count": null,
   "id": "5855589d",
   "metadata": {},
   "outputs": [],
   "source": [
    "function interval64(x::Interval)\n",
    "    isguaranteed(x) || error(\"interval is not guaranteed\")\n",
    "    return interval(Float64(inf(x), RoundDown), Float64(sup(x), RoundUp))\n",
    "end\n",
    "LinearAlgebra.norm(v::Vector) = sqrt(sum(v.^2))\n",
    "\n",
    "# regularised Vandermonde matrices for 2p and p+1 products\n",
    "V̄4 = interval64.(deserialize(\"V4r\"));\n",
    "V̄6 = interval64.(deserialize(\"V6r\"));\n",
    "\n",
    "sups = deserialize(\"suppsi\")\n",
    "\n",
    "N = size(V̄4)[2]\n",
    "N4 = size(V̄4)[1];\n",
    "N6 = size(V̄6)[1];"
   ]
  },
  {
   "cell_type": "code",
   "execution_count": null,
   "id": "432d55b2",
   "metadata": {},
   "outputs": [],
   "source": [
    "𝔏 = Diagonal(reduce(vcat, [interval(k) .+ interval(3//2) .+ interval.(collect(0:Ms[k+1])) for k=0:K]))\n",
    "p = interval(3)\n",
    "d = 2\n",
    "λₘ = maximum(𝔏) + interval(1)\n",
    "λ₀ = interval(3//2);\n",
    "ω = interval(-5//2)\n",
    "ε = interval(-1)\n",
    "Z = interval(4)*interval(BigFloat, π)"
   ]
  },
  {
   "cell_type": "code",
   "execution_count": null,
   "id": "25e0ac9c",
   "metadata": {},
   "outputs": [],
   "source": [
    "function H2(u)\n",
    "    return sum((𝔏*u).^2)\n",
    "end\n",
    "\n",
    "# rigorous upper bound of the 2-norm of a matrix\n",
    "function op_norm(A)\n",
    "    if size(A) == (2,2)\n",
    "        Z = sqrt(sum(A.^2) + sqrt(((A[1,2]+A[2,1])^2+(A[1,1]-A[2,2])^2)*((A[1,2]-A[2,1])^2+(A[1,1]+A[2,2])^2)))/sqrt(interval(2))\n",
    "        if isguaranteed(Z)\n",
    "            return interval(sup(Z))\n",
    "        else\n",
    "            return Z\n",
    "        end\n",
    "    else\n",
    "        all(isguaranteed.(A)) || error(\"matrix not guaranteed\")\n",
    "        return sqrt(interval(maximum(sup.(sum(abs.(A), dims = 1))))*interval(maximum(sup.(sum(abs.(A), dims = 2)))))\n",
    "    end\n",
    "end\n",
    "\n",
    "function L∞(u)\n",
    "    return sum(abs.(u).*sups)\n",
    "end"
   ]
  },
  {
   "cell_type": "code",
   "execution_count": null,
   "id": "f20286fb-e6b4-4f90-bd73-412f53842acd",
   "metadata": {},
   "outputs": [],
   "source": [
    "function Gram(u)\n",
    "#     println(\"test\")\n",
    "    U = V̄4.*u'\n",
    "    P = [sum(U[:,indices[k+1]:indices[k+2]-1], dims = 2)[:] for k=0:K₀-1]\n",
    "    Gu = [zeros(Interval{Float64},(N, N)) for i in 1:Threads.nthreads()]\n",
    "    count = zeros(Int64, Threads.nthreads())\n",
    "    ind = shuffle(vcat([(i,k,j) for i=0:K, k=0:K₀-1, j=0:K₀-1]...))\n",
    "    Threads.@threads for index in ind\n",
    "        (i, j, k) = index\n",
    "        if k>j\n",
    "            X = (P[k+1].*P[j+1]/interval(2)).*(V̄4[:,indices[i+1]:indices[i+2]-1])\n",
    "            for l in (k+i+j+1, abs(2*(k+i-j)+1)÷2, abs(2*(k-i-j)-1)÷2, abs(2*(-k+i-j)-1)÷2)\n",
    "                if 2*l+1<=2*K+1 && l > i\n",
    "                    Y = (V̄4[:,indices[l+1]:indices[l+2]-1])'*X\n",
    "                    Gu[Threads.threadid()][indices[l+1]:indices[l+2]-1, indices[i+1]:indices[i+2]-1] += Y\n",
    "                    Gu[Threads.threadid()][indices[i+1]:indices[i+2]-1, indices[l+1]:indices[l+2]-1] += Y'    \n",
    "                elseif 2*l+1<=2*K+1 && l == i\n",
    "                    Gu[Threads.threadid()][indices[l+1]:indices[l+2]-1, indices[i+1]:indices[i+2]-1] += (V̄4[:,indices[l+1]:indices[l+2]-1])'*X\n",
    "                end\n",
    "            end\n",
    "        elseif k == j\n",
    "            X = (P[k+1].*P[j+1]/interval(4)).*(V̄4[:,indices[i+1]:indices[i+2]-1])\n",
    "            for l in (k+i+j+1, abs(2*(k+i-j)+1)÷2, abs(2*(k-i-j)-1)÷2, abs(2*(-k+i-j)-1)÷2)\n",
    "                if 2*l+1<=2*K+1 && l > i\n",
    "                    Y = (V̄4[:,indices[l+1]:indices[l+2]-1])'*X\n",
    "                    Gu[Threads.threadid()][indices[l+1]:indices[l+2]-1, indices[i+1]:indices[i+2]-1] += Y\n",
    "                    Gu[Threads.threadid()][indices[i+1]:indices[i+2]-1, indices[l+1]:indices[l+2]-1] += Y'    \n",
    "                elseif 2*l+1<=2*K+1 && l == i\n",
    "                    Gu[Threads.threadid()][indices[l+1]:indices[l+2]-1, indices[i+1]:indices[i+2]-1] += (V̄4[:,indices[l+1]:indices[l+2]-1])'*X\n",
    "                end\n",
    "            end\n",
    "        end\n",
    "        count[Threads.threadid()] +=1\n",
    "        if count[Threads.threadid()] %500 == 0\n",
    "            # println((count[Threads.threadid()], Threads.threadid()))\n",
    "        end\n",
    "    end\n",
    "    # println(\"test\")\n",
    "    return sum(Gu)\n",
    "end"
   ]
  },
  {
   "cell_type": "code",
   "execution_count": null,
   "id": "b5f37c6a",
   "metadata": {},
   "outputs": [],
   "source": [
    "#multi-threaded matrix multiplication\n",
    "function multiply(A::Matrix{Interval{Float64}}, B::Matrix{Interval{Float64}})\n",
    "    m, k = size(A)\n",
    "    l, n = size(B)\n",
    "    k == l || error(\"dimension mismatch\")\n",
    "    C = zeros(Interval{Float64}, (m,n))\n",
    "    ind = shuffle(1:n)\n",
    "    Threads.@threads for i in ind\n",
    "        # println(i)\n",
    "        C[:, i] = A[:, .!iszero.(B[:,i])]*B[.!iszero.(B[:,i]),i]\n",
    "    end\n",
    "    return C\n",
    "end"
   ]
  },
  {
   "cell_type": "code",
   "execution_count": null,
   "id": "82e02b30",
   "metadata": {},
   "outputs": [],
   "source": [
    "G = Gram(ū);"
   ]
  },
  {
   "cell_type": "code",
   "execution_count": null,
   "id": "11bc3e32",
   "metadata": {},
   "outputs": [],
   "source": [
    "function compute_norms(u)\n",
    "    U = V̄6.*u'\n",
    "    P = [sum(U[:,indices[k+1]:indices[k+2]-1], dims = 2)[:] for k=0:K₀-1]\n",
    "    u_prod = [P[k+1].*P[j+1] for k=0:K₀-1, j=0:K₀-1]\n",
    "    norms6 = zeros(Interval{Float64}, N)\n",
    "    ind = shuffle(collect(0:K))\n",
    "    Threads.@threads for i in ind\n",
    "#         println((i, Threads.threadid()))\n",
    "        for m = 0:Ms[i+1]\n",
    "            freq_proj = zeros(Interval{Float64}, (N6, 3*K+2))\n",
    "            W = V̄6[:,indices[i+1]+m]\n",
    "            for k=0:K₀-1, j=0:K₀-1\n",
    "                X = W.*(u_prod[k+1,j+1])/interval(4)\n",
    "                freq_proj[:,k+i+j+2] += X\n",
    "                freq_proj[:,abs(2*(k+i-j)+1)÷2+1] += X\n",
    "                freq_proj[:,abs(2*(k-i-j)-1)÷2+1] += X\n",
    "                freq_proj[:,abs(2*(-k+i-j)-1)÷2+1] += X\n",
    "            end\n",
    "            norms6[indices[i+1]+m] = sum(freq_proj.^2)\n",
    "        end\n",
    "    end\n",
    "    return norms6\n",
    "end"
   ]
  },
  {
   "cell_type": "code",
   "execution_count": null,
   "id": "643dd9d9",
   "metadata": {},
   "outputs": [],
   "source": [
    "# PₙF(ū)\n",
    "PFū = interval64.(ū - inv(𝔏)*((interval(d//4)-ω/interval(2))*ū+ε*Pū³/interval(2)));\n",
    "# println(norm(PFū))"
   ]
  },
  {
   "cell_type": "code",
   "execution_count": null,
   "id": "f9fe0689",
   "metadata": {},
   "outputs": [],
   "source": [
    "int = compute_norms(ū);"
   ]
  },
  {
   "cell_type": "code",
   "execution_count": null,
   "id": "42fc367e",
   "metadata": {},
   "outputs": [],
   "source": [
    "# PₙDF(ū)Pₙ\n",
    "DFū = interval.(I(N)) - (interval(d//4)-ω/interval(2))*inv(𝔏) + interval(3)*ε*𝔏\\G/interval(2);\n",
    "# approximate numerical inverse of PₙDF(ū)Pₙ\n",
    "Aₙ = interval.(inv(mid.(DFū)));"
   ]
  },
  {
   "cell_type": "code",
   "execution_count": null,
   "id": "6539b8e8",
   "metadata": {},
   "outputs": [],
   "source": [
    "Y = (sqrt(H2(Aₙ*interval64.(PFū))+Fū∞))"
   ]
  },
  {
   "cell_type": "code",
   "execution_count": null,
   "id": "933c6ba8-629c-4e99-9265-6332be67040f",
   "metadata": {},
   "outputs": [],
   "source": [
    "Z¹¹ = op_norm(𝔏*(interval.(I(N)) - multiply(Aₙ,DFū))*inv(𝔏))"
   ]
  },
  {
   "cell_type": "code",
   "execution_count": null,
   "id": "215a68ce-7d3d-497d-8fa2-100981da124f",
   "metadata": {},
   "outputs": [],
   "source": [
    "w = sqrt.(abs.([int[i] - L2(G[i,:]) for i=1:N]));"
   ]
  },
  {
   "cell_type": "code",
   "execution_count": null,
   "id": "f567f764-9763-4919-a8a3-02955d4123ca",
   "metadata": {},
   "outputs": [],
   "source": [
    "Z²¹ = p*norm(𝔏\\w)/interval(2)"
   ]
  },
  {
   "cell_type": "code",
   "execution_count": null,
   "id": "ee531e03-db96-4989-ab51-081c879ffc49",
   "metadata": {},
   "outputs": [],
   "source": [
    "Z¹² = p*norm(abs.(𝔏*Aₙ*inv(𝔏))*w)/λₘ/interval(2)"
   ]
  },
  {
   "cell_type": "code",
   "execution_count": null,
   "id": "ba9f40ac",
   "metadata": {},
   "outputs": [],
   "source": [
    "supφ̄ = L∞(ū)\n",
    "Z²² = (abs.(interval(d//4)-ω/interval(2))+p*supφ̄/interval(2))/interval(λₘ)"
   ]
  },
  {
   "cell_type": "code",
   "execution_count": null,
   "id": "1c22d096",
   "metadata": {},
   "outputs": [],
   "source": [
    "[Z¹¹ Z¹² ; Z²¹ Z²²]"
   ]
  },
  {
   "cell_type": "code",
   "execution_count": null,
   "id": "38ddd8c7",
   "metadata": {},
   "outputs": [],
   "source": [
    "Z₁ = op_norm([Z¹¹ Z¹² ; Z²¹ Z²²])"
   ]
  },
  {
   "cell_type": "code",
   "execution_count": null,
   "id": "0e06d8f3",
   "metadata": {},
   "outputs": [],
   "source": [
    "# Calculation of the L²-norm of the Hessian of η and of the sup of η\n",
    "C₀ = I\"0.56419\"\n",
    "C₁ = I\"0.79789\"\n",
    "C₂ = I\"0.23033\"\n",
    "C2 = sqrt(Z)*(interval(2//d)*C₀ + sqrt(interval(2//d))*C₁ + C₂)"
   ]
  },
  {
   "cell_type": "code",
   "execution_count": null,
   "id": "27066af3",
   "metadata": {},
   "outputs": [],
   "source": [
    "op_n = interval(max(sup(op_norm(𝔏*Aₙ*inv(𝔏))), 1))\n",
    "Z₂ = interval(3)*C2*supφ̄*op_n\n",
    "Z₃ = interval(3)*C2^2*op_n"
   ]
  },
  {
   "cell_type": "code",
   "execution_count": null,
   "id": "0ba5bf3f",
   "metadata": {},
   "outputs": [],
   "source": [
    "δ̄ = (-Z₂+sqrt(Z₂^2 +interval(2)*Z₃-interval(2)*Z₁*Z₃))/Z₃"
   ]
  },
  {
   "cell_type": "code",
   "execution_count": null,
   "id": "f633599e",
   "metadata": {},
   "outputs": [],
   "source": [
    "P(δ) = Z₃/interval(6)*δ^3 + Z₂/interval(2)*δ^2 - (interval(1) - Z₁)*δ + Y"
   ]
  },
  {
   "cell_type": "code",
   "execution_count": null,
   "id": "dd75237d",
   "metadata": {},
   "outputs": [],
   "source": [
    "δ̲ = Y/(interval(1)-Z₁)*(interval(1)+interval(BigFloat,2)^(-21))\n",
    "if sup(P(δ̲))<0\n",
    "    println(δ̲)\n",
    "end"
   ]
  },
  {
   "cell_type": "code",
   "execution_count": null,
   "id": "f193515d-52c1-4ca2-89da-9e5ffdc0e10b",
   "metadata": {},
   "outputs": [],
   "source": [
    "η = sqrt(interval(BigFloat,7)*Z)*δ̲/interval(2)"
   ]
  },
  {
   "cell_type": "code",
   "execution_count": null,
   "id": "47e44b98-8f18-4c89-8f28-ff4a33d34c1f",
   "metadata": {},
   "outputs": [],
   "source": [
    "sup(δ̲)"
   ]
  },
  {
   "cell_type": "code",
   "execution_count": null,
   "id": "2da87581",
   "metadata": {},
   "outputs": [],
   "source": [
    "Float64(sup(δ̲), RoundUp)"
   ]
  },
  {
   "cell_type": "code",
   "execution_count": null,
   "id": "b7c4e0f6-9b5f-4f5c-a892-36106d989286",
   "metadata": {},
   "outputs": [],
   "source": [
    "inf(δ̄)"
   ]
  },
  {
   "cell_type": "code",
   "execution_count": null,
   "id": "4896802a",
   "metadata": {},
   "outputs": [],
   "source": [
    "Float64(inf(δ̄), RoundDown)"
   ]
  },
  {
   "cell_type": "code",
   "execution_count": null,
   "id": "87cd296f-d90b-47a0-85c5-765f9d88ca69",
   "metadata": {},
   "outputs": [],
   "source": [
    "sup(Y)"
   ]
  },
  {
   "cell_type": "code",
   "execution_count": null,
   "id": "6e18bfc1",
   "metadata": {},
   "outputs": [],
   "source": [
    "Float64(sup(Y), RoundUp)"
   ]
  },
  {
   "cell_type": "code",
   "execution_count": null,
   "id": "e730a786-b720-4f6b-b858-786bdd322864",
   "metadata": {},
   "outputs": [],
   "source": [
    "sup(Z₁)"
   ]
  },
  {
   "cell_type": "code",
   "execution_count": null,
   "id": "bf1cbd61",
   "metadata": {},
   "outputs": [],
   "source": [
    "Float64(sup(Z₁), RoundUp)"
   ]
  },
  {
   "cell_type": "code",
   "execution_count": null,
   "id": "c02c4f4c-b29f-4ae0-8c62-8bcbc2566ce0",
   "metadata": {},
   "outputs": [],
   "source": [
    "sup(η)"
   ]
  },
  {
   "cell_type": "code",
   "execution_count": null,
   "id": "e4bc4766-6a3d-4082-b857-993968ba2616",
   "metadata": {},
   "outputs": [],
   "source": [
    "Float64.(sup(η), RoundUp)"
   ]
  },
  {
   "cell_type": "code",
   "execution_count": null,
   "id": "7646b4a5",
   "metadata": {},
   "outputs": [],
   "source": [
    "setprecision(Interval, 128)\n",
    "ū = big.(deserialize(\"ubar\"));"
   ]
  },
  {
   "cell_type": "code",
   "execution_count": null,
   "id": "61948236",
   "metadata": {},
   "outputs": [],
   "source": [
    "rloc = big.(collect(0:700))/100"
   ]
  },
  {
   "cell_type": "code",
   "execution_count": null,
   "id": "e2b0f4c2",
   "metadata": {},
   "outputs": [],
   "source": [
    "K = big(100)\n",
    "Ms = big.(collect(K:-1:0))\n",
    "indices = big.([1; cumsum(Ms.+1).+1]);"
   ]
  },
  {
   "cell_type": "code",
   "execution_count": null,
   "id": "b56e2358",
   "metadata": {},
   "outputs": [],
   "source": [
    "φᵣ = zeros((K₀, 701))\n",
    "for k in 0:K₀-1\n",
    "    println(k)\n",
    "    p = ((rloc/2).^(2*k+1)).*exp.(-rloc.^2/8)\n",
    "    for m=0:Ms[k+1]\n",
    "        # println((k,m))\n",
    "        Lₘ = Polynomial([(-1)^j*big(binomial(m+2*k+1,m-j)//factorial(j)) for j=0:m])\n",
    "        Z = sqrt(big(factorial(m+2*k+1)//factorial(m)))\n",
    "        φᵣ[k+1,:] += mid(ū[indices[k+1]+m])*p.* Lₘ.(rloc.^2/4)/Z\n",
    "    end\n",
    "    \n",
    "end"
   ]
  },
  {
   "cell_type": "code",
   "execution_count": null,
   "id": "f790d45e",
   "metadata": {},
   "outputs": [],
   "source": [
    "using Plots"
   ]
  },
  {
   "cell_type": "code",
   "execution_count": null,
   "id": "3e1b230e",
   "metadata": {},
   "outputs": [],
   "source": [
    "ϑ = big.(collect(0:100))/100*2*big(π)\n",
    "c = cos.(ϑ.*collect(1:2:2*K₀-1)')"
   ]
  },
  {
   "cell_type": "code",
   "execution_count": null,
   "id": "ffcf9f13",
   "metadata": {},
   "outputs": [],
   "source": [
    "surface(rloc.*cos.(ϑ'),rloc.*sin.(ϑ'), sqrt(big(2))*(c*φᵣ)', xlabel = L\"$x$\", ylabel = L\"$y$\", zlabel = L\"$\\overline{\\varphi}\\,(x, y)$\", colorbar = false, dpi = 800)"
   ]
  },
  {
   "cell_type": "code",
   "execution_count": null,
   "id": "d5c947b1",
   "metadata": {},
   "outputs": [],
   "source": [
    "png(\"asymmetric_schrodinger\")"
   ]
  },
  {
   "cell_type": "code",
   "execution_count": null,
   "id": "0dbd200f",
   "metadata": {},
   "outputs": [],
   "source": [
    "maximum(c*φᵣ)"
   ]
  },
  {
   "cell_type": "code",
   "execution_count": null,
   "id": "ec8f47ed",
   "metadata": {},
   "outputs": [],
   "source": [
    "fieldnames(typeof(Z₁.bareinterval))"
   ]
  },
  {
   "cell_type": "code",
   "execution_count": null,
   "id": "520ca090-2cbb-40fc-bf6d-5f37cb9745df",
   "metadata": {},
   "outputs": [],
   "source": []
  }
 ],
 "metadata": {
  "kernelspec": {
   "display_name": "Julia 1.10.2",
   "language": "julia",
   "name": "julia-1.10"
  },
  "language_info": {
   "file_extension": ".jl",
   "mimetype": "application/julia",
   "name": "julia",
   "version": "1.10.2"
  }
 },
 "nbformat": 4,
 "nbformat_minor": 5
}
