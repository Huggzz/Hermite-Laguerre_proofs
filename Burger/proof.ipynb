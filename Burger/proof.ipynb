{
 "cells": [
  {
   "cell_type": "markdown",
   "id": "b32e50d2-078b-4b01-93b3-d9cba65d5e53",
   "metadata": {},
   "source": [
    "# Set up"
   ]
  },
  {
   "cell_type": "code",
   "execution_count": null,
   "id": "300f1cc6",
   "metadata": {},
   "outputs": [],
   "source": [
    "using IntervalArithmetic, Combinatorics, Polynomials, Serialization, LinearAlgebra, Plots, LaTeXStrings"
   ]
  },
  {
   "cell_type": "code",
   "execution_count": null,
   "id": "71df0e7b",
   "metadata": {},
   "outputs": [],
   "source": [
    "include(\"quadrature.jl\")"
   ]
  },
  {
   "cell_type": "markdown",
   "id": "f47e16ba",
   "metadata": {},
   "source": [
    "We aim to find a self-similar solution to the viscous Burger's equation on $\\mathbb{R}_+$\n",
    "\n",
    "$$\\partial_t v + v^2\\partial_x v = \\Delta v$$\n",
    "\n",
    "The profile for \n",
    "$$\\mathcal{L}u-\\frac{u}{4}+u^2\\frac{\\partial u}{\\partial x} = 0$$\n",
    "\n",
    "The Vandermonde matrices below have been adapted to treat the above nonlinearity. The quadratures are still rigorous."
   ]
  },
  {
   "cell_type": "code",
   "execution_count": null,
   "id": "dcf7991b-2fd0-45a2-8c02-07d0607d5e62",
   "metadata": {},
   "outputs": [],
   "source": [
    "n = 1500\n",
    "\n",
    "# approximate solution\n",
    "ū = interval.(deserialize(\"ubar\"));\n",
    "\n",
    "# regularised Vandermonde matrices for 2p and p+1 products\n",
    "V̄4 = deserialize(\"V4r\");\n",
    "V̄6 = deserialize(\"V6r\");\n",
    "DV̄4 = deserialize(\"DV4r\");\n",
    "DV̄6 = deserialize(\"DV6r\");\n",
    "\n",
    "p = interval(3)\n",
    "d = 1\n",
    "α = d//2\n",
    "\n",
    "# m = n+1, (n+1)ᵗʰ eigenvalue\n",
    "λₘ = interval(d//2+n+1);\n",
    "λ₀ = interval(d//2);\n",
    "\n",
    "# generator\n",
    "𝔏 = Diagonal(interval.(collect(0:n)).+λ₀);"
   ]
  },
  {
   "cell_type": "code",
   "execution_count": null,
   "id": "4bc0780f-e693-4850-8b42-e6db9d7e309b",
   "metadata": {},
   "outputs": [],
   "source": [
    "LinearAlgebra.norm(v::Vector) = sqrt(sum(v.^2))\n",
    "function doublefac(n)\n",
    "    if n==-1\n",
    "        return 1\n",
    "    else\n",
    "        return doublefactorial(big(n))\n",
    "    end\n",
    "end\n",
    "\n",
    "# computes Lᵖ/H¹ norms before taking fractional exponent\n",
    "function L2(u)\n",
    "    return sum(u.^2)\n",
    "end\n",
    "\n",
    "function H2(u)\n",
    "    return sum((𝔏*u).^2)\n",
    "end\n",
    "\n",
    "function L6(u)\n",
    "    return sum((V̄6*u).^4 .* (DV̄6*u).^2)\n",
    "end\n",
    "\n",
    "# rigorous upper bound of the 2-norm of a matrix\n",
    "function op_norm(A)\n",
    "    if size(A) == (2,2)\n",
    "        Z = sqrt(sum(A.^2) + sqrt(((A[1,2]+A[2,1])^2+(A[1,1]-A[2,2])^2)*((A[1,2]-A[2,1])^2+(A[1,1]+A[2,2])^2)))/sqrt(interval(2))\n",
    "        if isguaranteed(Z)\n",
    "            return interval(sup(Z))\n",
    "        else\n",
    "            return Z\n",
    "        end\n",
    "    else\n",
    "        all(isguaranteed.(A)) || error(\"matrix not guaranteed\")\n",
    "        return sqrt(interval(maximum(sup.(sum(abs.(A), dims = 1))))*interval(maximum(sup.(sum(abs.(A), dims = 2)))))\n",
    "    end\n",
    "end"
   ]
  },
  {
   "cell_type": "markdown",
   "id": "5d12a01f-ef84-46e5-ae07-2f43f117cb8d",
   "metadata": {},
   "source": [
    "# Proof"
   ]
  },
  {
   "cell_type": "code",
   "execution_count": null,
   "id": "1dea16b7-beff-4d47-809b-851656b26b6c",
   "metadata": {},
   "outputs": [],
   "source": [
    "# Gram matrix induced by ū∂ₓū\n",
    "G = V̄4'*(((V̄4*ū).*(DV̄4*ū)).*V̄4);\n",
    "# Non-Gram matrix induced by ū²∂ₓ\n",
    "DG = V̄4'*(((V̄4*ū).^2).*DV̄4);"
   ]
  },
  {
   "cell_type": "code",
   "execution_count": null,
   "id": "4a653b5e",
   "metadata": {},
   "outputs": [],
   "source": [
    "# PₙF(ū)\n",
    "PFū = ū + 𝔏\\(-ū/interval(4)+V̄4'*((V̄4*ū).^2 .*(DV̄4*ū)));\n",
    "println(norm(PFū))"
   ]
  },
  {
   "cell_type": "code",
   "execution_count": null,
   "id": "b3fa92e5",
   "metadata": {},
   "outputs": [],
   "source": [
    "# PₙDF(ū)Pₙ\n",
    "DFū = interval.(I(n+1)) - inv(𝔏)/interval(4) + 𝔏\\(interval(2)*G+DG);\n",
    "# approximate numerical inverse of PₙDF(ū)Pₙ\n",
    "Aₙ = interval.(inv(mid.(DFū)));"
   ]
  },
  {
   "cell_type": "code",
   "execution_count": null,
   "id": "fee2193c-4be4-4f29-a406-2bae2b87992c",
   "metadata": {},
   "outputs": [],
   "source": [
    "# rigorous L²-norms of ūψ̂ⱼ∂ₓū\n",
    "int = sum((((V̄6*ū).*(DV̄6*ū)).*V̄6).^2, dims = 1);\n",
    "# rigorous L²-norms of ū²∂ₓψ̂ⱼ\n",
    "Dint = sum((((V̄6*ū).^2).*DV̄6).^2, dims = 1);"
   ]
  },
  {
   "cell_type": "code",
   "execution_count": null,
   "id": "e91dedbb",
   "metadata": {},
   "outputs": [],
   "source": [
    "w = interval(2)*sqrt.([int[i] - L2(G[:,i]) for i=1:n+1])+sqrt.([Dint[i] - L2(DG[:,i]) for i=1:n+1]);"
   ]
  },
  {
   "cell_type": "code",
   "execution_count": null,
   "id": "3e18b248",
   "metadata": {},
   "outputs": [],
   "source": [
    "Y = sqrt(H2(Aₙ*PFū)+(L6(ū)-L2(V̄4'*((V̄4*ū).^2 .*(DV̄4*ū)))))"
   ]
  },
  {
   "cell_type": "code",
   "execution_count": null,
   "id": "92d0bf4c-ff6a-4eea-a9da-63dd877d3a8d",
   "metadata": {},
   "outputs": [],
   "source": [
    "Z¹¹ = interval(op_norm(𝔏*(interval.(I(n+1)) - Aₙ*DFū)*inv(𝔏)));"
   ]
  },
  {
   "cell_type": "code",
   "execution_count": null,
   "id": "b8e13393-597b-4c26-8d18-d5da210b8b28",
   "metadata": {},
   "outputs": [],
   "source": [
    "Z²¹ = norm(𝔏\\w);"
   ]
  },
  {
   "cell_type": "code",
   "execution_count": null,
   "id": "b35f590b",
   "metadata": {},
   "outputs": [],
   "source": [
    "ψ̂₀ = interval.(Float64, sqrt.([interval(BigFloat,doublefac(2*m-1)//2^m//factorial(m)) for m=0:big(n)]/sqrt(interval(BigFloat,π))));\n",
    "# sup∂ₓψ̂ = (supψ̂ + 2*sqrt.(1 .- 0.5 ./interval.(1:n+1)).*supψ̂)./sqrt(interval(2)*exp(interval(1)));"
   ]
  },
  {
   "cell_type": "code",
   "execution_count": null,
   "id": "f4f0987c-be03-41ae-a667-127e681cd637",
   "metadata": {},
   "outputs": [],
   "source": [
    "supψ̂ = [interval(BigFloat, (2^(2*k+1)- binomial(2*k, k))*factorial(k)//2^k)/sqrt(interval(BigFloat, factorial(2*k))) for k=0:big(n)]/interval(BigFloat, π)^interval(1//4);"
   ]
  },
  {
   "cell_type": "code",
   "execution_count": null,
   "id": "6d276e71-7a4b-4e1e-8543-cbdfa496b2c9",
   "metadata": {},
   "outputs": [],
   "source": [
    "sup∂ₓψ̂ = [sqrt(interval((2*k+1)*factorial(2*k+1)//4^k))/interval(factorial(k))*exp(interval(big(-0.5))) for k=0:big(n)]/interval(BigFloat, π)^interval(1//4);"
   ]
  },
  {
   "cell_type": "code",
   "execution_count": null,
   "id": "0145a7f9-00dc-473c-adb2-9b33fa63711d",
   "metadata": {},
   "outputs": [],
   "source": [
    "supū = interval(Float64, sum(abs.(ū).*supψ̂))"
   ]
  },
  {
   "cell_type": "code",
   "execution_count": null,
   "id": "6c088345-4ea2-492f-bca3-8b2b2b6c9803",
   "metadata": {},
   "outputs": [],
   "source": [
    "sup∂ₓū = interval(Float64, sum(abs.(ū).*sup∂ₓψ̂))"
   ]
  },
  {
   "cell_type": "code",
   "execution_count": null,
   "id": "e09fae9c",
   "metadata": {},
   "outputs": [],
   "source": [
    "Sₙ = (interval(pi)*log(interval(4)) - sum([interval(BigFloat, doublefac(2*m-1)//(m+1//2)^2//factorial(m)//2^m) for m=0:big(n)]))/\n",
    "sqrt(interval(π))"
   ]
  },
  {
   "cell_type": "code",
   "execution_count": null,
   "id": "2626bd17",
   "metadata": {},
   "outputs": [],
   "source": [
    "ū₀ = sum(ū.*ψ̂₀)"
   ]
  },
  {
   "cell_type": "code",
   "execution_count": null,
   "id": "b01059c3",
   "metadata": {},
   "outputs": [],
   "source": [
    "Dint = sum((((V̄6*ū).^2).*(DV̄6+V̄6)).^2, dims = 1)"
   ]
  },
  {
   "cell_type": "code",
   "execution_count": null,
   "id": "a498779e",
   "metadata": {},
   "outputs": [],
   "source": [
    "DG = V̄4'*(((V̄4*ū).^2).*(V̄4+DV̄4));"
   ]
  },
  {
   "cell_type": "code",
   "execution_count": null,
   "id": "01006040",
   "metadata": {},
   "outputs": [],
   "source": [
    "w̃ = ū₀^2*sqrt(Sₙ)*ψ̂₀+sqrt.(abs.([Dint[i] - L2(DG[:,i]) for i=1:n+1]))/λₘ;"
   ]
  },
  {
   "cell_type": "code",
   "execution_count": null,
   "id": "ae73ce6a",
   "metadata": {},
   "outputs": [],
   "source": [
    "Z¹² = norm(abs.(𝔏*interval.(Aₙ)*inv(𝔏))*w̃);"
   ]
  },
  {
   "cell_type": "code",
   "execution_count": null,
   "id": "51a2ee22",
   "metadata": {},
   "outputs": [],
   "source": [
    "Z²² = (interval(1//4)+interval(2)*supū*sup∂ₓū)/λₘ + supū^2/sqrt(λₘ);"
   ]
  },
  {
   "cell_type": "code",
   "execution_count": null,
   "id": "9abeef5a",
   "metadata": {},
   "outputs": [],
   "source": [
    "Z₁ = op_norm([Z¹¹ Z¹² ; Z²¹ Z²²])"
   ]
  },
  {
   "cell_type": "code",
   "execution_count": null,
   "id": "ac7566af",
   "metadata": {},
   "outputs": [],
   "source": [
    "if sup(Z₁)>=1\n",
    "    println(\"ū cannot be validated\")\n",
    "end"
   ]
  },
  {
   "cell_type": "code",
   "execution_count": null,
   "id": "273f3a87",
   "metadata": {},
   "outputs": [],
   "source": [
    "[Z¹¹ Z¹² ; Z²¹ Z²²]"
   ]
  },
  {
   "cell_type": "code",
   "execution_count": null,
   "id": "30c71348",
   "metadata": {},
   "outputs": [],
   "source": [
    "op_n = interval(max(op_norm(𝔏*Aₙ*inv(𝔏)), interval(1)))"
   ]
  },
  {
   "cell_type": "code",
   "execution_count": null,
   "id": "0353f169-0cb5-4b06-8ba6-dc28771af535",
   "metadata": {},
   "outputs": [],
   "source": [
    "Z₂ = interval(2)^interval(15//4)*op_n*(sqrt(interval(2))*supū+sup∂ₓū)"
   ]
  },
  {
   "cell_type": "code",
   "execution_count": null,
   "id": "8a1b5cb5-05d7-4864-979a-fbaeb806ae7a",
   "metadata": {},
   "outputs": [],
   "source": [
    "Z₃ = interval(96)*op_n"
   ]
  },
  {
   "cell_type": "code",
   "execution_count": null,
   "id": "83ae30fb-3d2c-45e0-a846-5bbb5343c156",
   "metadata": {},
   "outputs": [],
   "source": [
    "δ̄ = (-Z₂+sqrt(Z₂^2 +interval(2)*Z₃-interval(2)*Z₁*Z₃))/Z₃"
   ]
  },
  {
   "cell_type": "code",
   "execution_count": null,
   "id": "1c60767f-e0c9-4b5c-aabc-e961f6d7f516",
   "metadata": {},
   "outputs": [],
   "source": [
    "P(δ) = Z₃/interval(6)*δ^3 + Z₂/interval(2)*δ^2 - (interval(1) - Z₁)*δ + Y"
   ]
  },
  {
   "cell_type": "code",
   "execution_count": null,
   "id": "9def19bc-f767-460d-83f8-a1f587592f2a",
   "metadata": {},
   "outputs": [],
   "source": [
    "δ̲ = Y/(interval(1)-Z₁)*(interval(1.17163))\n",
    "if sup(P(δ̲))<0\n",
    "    println(\"δ̲ is validated\")\n",
    "end"
   ]
  },
  {
   "cell_type": "markdown",
   "id": "a4e30529-0bbc-4844-9b51-02857902153f",
   "metadata": {},
   "source": [
    "# Check positivity (under regularity assumption)"
   ]
  },
  {
   "cell_type": "code",
   "execution_count": null,
   "id": "1268f0e6-2749-46ed-ae60-487e4d7a7555",
   "metadata": {},
   "outputs": [],
   "source": [
    "# infinity nor error\n",
    "inf_err = interval(2)^interval(7//4)*δ̲"
   ]
  },
  {
   "cell_type": "code",
   "execution_count": null,
   "id": "142b7bac-5f02-4535-ae8d-beb60aa327c7",
   "metadata": {},
   "outputs": [],
   "source": [
    "m = 10\n",
    "supm = inf_err+sum(abs.((supψ̂.*ū)[m+2:end]))\n",
    "Pₘ = zeros(Interval{BigFloat},m+1)\n",
    "for j = 0:m\n",
    "#     println(j)\n",
    "    Lⱼ =  [interval((-1)^i)*interval(BigFloat, binomial(j,i)//factorial(i)) for i=0:j]\n",
    "    Pₘ[1:j+1] += ū[Int64(j+1)]*Lⱼ\n",
    "end"
   ]
  },
  {
   "cell_type": "code",
   "execution_count": null,
   "id": "35bbf4a2-3607-4ea6-b4ad-8418c85a3727",
   "metadata": {},
   "outputs": [],
   "source": [
    "r₀ = interval(BigFloat,4.0)\n",
    "z = mince(interval(0,r₀.^2/interval(4)), 2000)\n",
    "\n",
    "if all(inf.(evalpoly.(z,tuple(Pₘ)).*exp.(-z).-supm.*exp.(-z/interval(2))).>0) && inf(r₀^2/interval(16)-interval(4)*r₀*((supū+inf_err)*exp(-r₀^2/interval(8)))^2)>0\n",
    "    println(\"positivity checked\")\n",
    "else\n",
    "    println(\"positivity not checked\")\n",
    "end"
   ]
  },
  {
   "cell_type": "markdown",
   "id": "31049362-a6ed-4674-ad62-d79f43e97985",
   "metadata": {},
   "source": [
    "# Plotting"
   ]
  },
  {
   "cell_type": "code",
   "execution_count": null,
   "id": "5b64780b-3f20-4693-bd46-859a5f844855",
   "metadata": {},
   "outputs": [],
   "source": [
    "ū = interval.(deserialize(\"ubar\"));"
   ]
  },
  {
   "cell_type": "code",
   "execution_count": null,
   "id": "1af66ace-c682-40b3-a2b0-1e909ce12b70",
   "metadata": {},
   "outputs": [],
   "source": [
    "setprecision(1024)\n",
    "n =1000\n",
    "ū = mid.(deserialize(\"ubar\"))\n",
    "Zs = sqrt.(sqrt(big(π))).*[big(doublefac(2*j-1)//2^(j)//factorial(j)) for j=0:big(n)];\n",
    "facsp1 = [doublefac(2*k-1)*factorial(k) for k=0:big(n)];"
   ]
  },
  {
   "cell_type": "code",
   "execution_count": null,
   "id": "4aab4fe0-a964-4ec7-8196-fd280dd084a4",
   "metadata": {},
   "outputs": [],
   "source": [
    "#solution plotting\n",
    "\n",
    "rloc = collect(0:400)/100\n",
    "zloc = rloc.^2/4\n",
    "sol = zeros(length(zloc), Threads.nthreads());\n",
    "for j in 0:big(n)\n",
    "    dfj = doublefac(2*j-1)\n",
    "    Lⱼ =  Polynomial([(-1)^k*big(dfj//facsp1[k+1]//factorial(j-k)//2^(j-k)) for k=0:j]);\n",
    "    sol[:,Threads.threadid()] .+= (mid(ū[j+1]) .* Lⱼ.(zloc))/Zs[j+1]\n",
    "end"
   ]
  },
  {
   "cell_type": "code",
   "execution_count": null,
   "id": "8c56bfd7-b9be-4569-9684-ffd918dc2cd1",
   "metadata": {},
   "outputs": [],
   "source": [
    "plot(rloc, sum(sol, dims = 2).*exp.(-zloc), xlabel = L\"r\", ylabel = L\"\\bar{u}\", legend = false, dpi =1000)"
   ]
  },
  {
   "cell_type": "code",
   "execution_count": null,
   "id": "17c356e3-b182-4016-96cb-a454ade45a01",
   "metadata": {},
   "outputs": [],
   "source": [
    "png(\"Burger_sol\")"
   ]
  }
 ],
 "metadata": {
  "kernelspec": {
   "display_name": "Julia 1.10.2",
   "language": "julia",
   "name": "julia-1.10"
  },
  "language_info": {
   "file_extension": ".jl",
   "mimetype": "application/julia",
   "name": "julia",
   "version": "1.10.2"
  }
 },
 "nbformat": 4,
 "nbformat_minor": 5
}
