{
 "cells": [
  {
   "cell_type": "code",
   "execution_count": 1,
   "id": "300f1cc6",
   "metadata": {},
   "outputs": [],
   "source": [
    "using IntervalArithmetic, Combinatorics, Polynomials, Serialization, LinearAlgebra, Plots, LaTeXStrings"
   ]
  },
  {
   "cell_type": "markdown",
   "id": "f47e16ba",
   "metadata": {},
   "source": [
    "We aim to find a self-similar solution to the viscous Burger's equation on $\\mathbb{R}_+$\n",
    "\n",
    "$$\\partial_t v + v^2\\partial_x v = \\Delta v$$\n",
    "\n",
    "The profile for \n",
    "$$\\mathcal{L}u-\\frac{u}{4}+u^2\\frac{\\partial u}{\\partial x} = 0$$\n",
    "\n",
    "The Vandermonde matrices below have been adapted to treat the above nonlinearity. The quadratures are still rigorous."
   ]
  },
  {
   "cell_type": "code",
   "execution_count": 2,
   "id": "b519cf17",
   "metadata": {},
   "outputs": [],
   "source": [
    "n = 1500\n",
    "function interval64(x::Interval)\n",
    "    isguaranteed(x) || error(\"interval is not guaranteed\")\n",
    "    return interval(Float64(inf(x), RoundDown), Float64(sup(x), RoundUp))\n",
    "end\n",
    "\n",
    "\n",
    "# approximate solution\n",
    "ū = interval.(deserialize(\"ubar\"));\n",
    "\n",
    "# regularised Vandermonde matrices for 2p and p+1 products\n",
    "V̄4 = deserialize(\"V4r\");\n",
    "V̄6 = deserialize(\"V6r\");\n",
    "DV̄4 = deserialize(\"DV4r\");\n",
    "DV̄6 = deserialize(\"DV6r\");"
   ]
  },
  {
   "cell_type": "code",
   "execution_count": 3,
   "id": "90e4b181",
   "metadata": {},
   "outputs": [],
   "source": [
    "p = interval(3)\n",
    "d = 1\n",
    "α = d//2\n",
    "\n",
    "# m = n+1, (n+1)ᵗʰ eigenvalue\n",
    "λₘ = interval(d//2+n+1);\n",
    "λ₀ = interval(d//2);"
   ]
  },
  {
   "cell_type": "code",
   "execution_count": 4,
   "id": "6a7382d1",
   "metadata": {},
   "outputs": [
    {
     "data": {
      "text/plain": [
       "doublefac (generic function with 1 method)"
      ]
     },
     "execution_count": 4,
     "metadata": {},
     "output_type": "execute_result"
    }
   ],
   "source": [
    "LinearAlgebra.norm(v::Vector) = sqrt(sum(v.^2))\n",
    "function doublefac(n)\n",
    "    if n==-1\n",
    "        return 1\n",
    "    else\n",
    "        return doublefactorial(big(n))\n",
    "    end\n",
    "end"
   ]
  },
  {
   "cell_type": "code",
   "execution_count": 5,
   "id": "85ec15e4",
   "metadata": {},
   "outputs": [],
   "source": [
    "# generator\n",
    "𝔏 = Diagonal(interval.(collect(0:n)).+λ₀);"
   ]
  },
  {
   "cell_type": "code",
   "execution_count": 6,
   "id": "51f03d8a",
   "metadata": {},
   "outputs": [
    {
     "data": {
      "text/plain": [
       "op_norm (generic function with 1 method)"
      ]
     },
     "execution_count": 6,
     "metadata": {},
     "output_type": "execute_result"
    }
   ],
   "source": [
    "# computes Lᵖ/H¹ norms before taking fractional exponent\n",
    "function L2(u)\n",
    "    return sum(u.^2)\n",
    "end\n",
    "\n",
    "function H2(u)\n",
    "    return sum((𝔏*u).^2)\n",
    "end\n",
    "\n",
    "function L6(u)\n",
    "    return sum((V̄6*u).^4 .* (DV̄6*u).^2)\n",
    "end\n",
    "\n",
    "# rigorous upper bound of the 2-norm of a matrix\n",
    "function op_norm(A)\n",
    "    if size(A) == (2,2)\n",
    "        Z = sqrt(sum(A.^2) + sqrt(((A[1,2]+A[2,1])^2+(A[1,1]-A[2,2])^2)*((A[1,2]-A[2,1])^2+(A[1,1]+A[2,2])^2)))/sqrt(interval(2))\n",
    "        if isguaranteed(Z)\n",
    "            return interval(sup(Z))\n",
    "        else\n",
    "            return Z\n",
    "        end\n",
    "    else\n",
    "        all(isguaranteed.(A)) || error(\"matrix not guaranteed\")\n",
    "        return sqrt(interval(maximum(sup.(sum(abs.(A), dims = 1))))*interval(maximum(sup.(sum(abs.(A), dims = 2)))))\n",
    "    end\n",
    "end"
   ]
  },
  {
   "cell_type": "code",
   "execution_count": 7,
   "id": "1dea16b7-beff-4d47-809b-851656b26b6c",
   "metadata": {},
   "outputs": [],
   "source": [
    "# Gram matrix induced by ū∂ₓū\n",
    "G = V̄4'*(((V̄4*ū).*(DV̄4*ū)).*V̄4);\n",
    "# Non-Gram matrix induced by ū²∂ₓ\n",
    "DG = V̄4'*(((V̄4*ū).^2).*DV̄4);"
   ]
  },
  {
   "cell_type": "markdown",
   "id": "80f4747d",
   "metadata": {},
   "source": [
    "Analgously, we choose $F:H^1(\\mu)\\to H^1(\\mu)$ such that\n",
    "$$F(u) = u + \\mathcal{L}^{-1}\\left(-\\frac{u}{4} + u^2\\partial_x u\\right)$$"
   ]
  },
  {
   "cell_type": "code",
   "execution_count": 8,
   "id": "4a653b5e",
   "metadata": {},
   "outputs": [
    {
     "name": "stdout",
     "output_type": "stream",
     "text": [
      "Interval{Float64}(1.4201949660419926e-11, 1.4735509426955604e-11, com)\n"
     ]
    }
   ],
   "source": [
    "# PₙF(ū)\n",
    "PFū = ū + 𝔏\\(-ū/interval(4)+V̄4'*((V̄4*ū).^2 .*(DV̄4*ū)));\n",
    "println(norm(PFū))"
   ]
  },
  {
   "cell_type": "markdown",
   "id": "94c76bbc",
   "metadata": {},
   "source": [
    "We have\n",
    "\n",
    "$$DF(\\bar{u})h = h - \\frac{1}{4}\\mathcal{L}^{-1}h+\\mathcal{L}^{-1}( 2(\\bar{u}\\partial_x\\bar{u})h+\\bar{u}^2\\partial_x h)$$ "
   ]
  },
  {
   "cell_type": "code",
   "execution_count": 9,
   "id": "b3fa92e5",
   "metadata": {},
   "outputs": [],
   "source": [
    "# PₙDF(ū)Pₙ\n",
    "DFū = interval.(I(n+1)) - inv(𝔏)/interval(4) + 𝔏\\(interval(2)*G+DG);\n",
    "# approximate numerical inverse of PₙDF(ū)Pₙ\n",
    "Aₙ = interval.(inv(mid.(DFū)));"
   ]
  },
  {
   "cell_type": "code",
   "execution_count": 10,
   "id": "fee2193c-4be4-4f29-a406-2bae2b87992c",
   "metadata": {},
   "outputs": [],
   "source": [
    "# rigorous L²-norms of ūψ̂ⱼ∂ₓū\n",
    "int = sum((((V̄6*ū).*(DV̄6*ū)).*V̄6).^2, dims = 1);\n",
    "# rigorous L²-norms of ū²∂ₓψ̂ⱼ\n",
    "Dint = sum((((V̄6*ū).^2).*DV̄6).^2, dims = 1);"
   ]
  },
  {
   "cell_type": "markdown",
   "id": "c40cd4a4",
   "metadata": {},
   "source": [
    "Similarly, define\n",
    "$$w_m := 2\\|P_{\\infty}  (\\bar{u}\\hat{\\psi}_m\\partial_x\\bar{u})\\|_{L^2}+\\|P_{\\infty}  (\\bar{u}^2\\partial_x\\hat{\\psi}_m)\\|_{L^2} =  2\\left(\\|\\bar{u}\\hat{\\psi}_m\\partial_x\\bar{u}|^2_{L^2}-\\|P_n(\\bar{u}\\hat{\\psi}_m\\partial_x\\bar{u})\\|^2_{L^2}\\right)^{1/2}+  \\left(\\|\\bar{u}^2\\partial_x\\hat{\\psi}_m\\|^2_{L^2}-\\|P_n(\\bar{u}^2\\partial_x\\hat{\\psi}_m)\\|^2_{L^2}\\right)^{1/2}$$"
   ]
  },
  {
   "cell_type": "code",
   "execution_count": 11,
   "id": "e91dedbb",
   "metadata": {},
   "outputs": [],
   "source": [
    "w = interval(2)*sqrt.([int[i] - L2(G[:,i]) for i=1:n+1])+sqrt.([Dint[i] - L2(DG[:,i]) for i=1:n+1]);"
   ]
  },
  {
   "cell_type": "markdown",
   "id": "a3ab4fea",
   "metadata": {},
   "source": [
    "and\n",
    "\n",
    "$$Y^2 = \\|\\mathcal{L}^{1/2}A_n(P_nF(\\bar{u}))\\|^2_{L^2}+\\frac{1}{\\lambda_{n+1}}\\left(\\|\\bar{u}^2\\partial_x\\bar{u}\\|^2_{L^2}-\\|P_n(\\bar{u}^2\\partial_x\\bar{u})\\|^2_{L^2}\\right)$$"
   ]
  },
  {
   "cell_type": "code",
   "execution_count": 12,
   "id": "3e18b248",
   "metadata": {},
   "outputs": [
    {
     "data": {
      "text/plain": [
       "[0.000756363, 0.000756364]_com"
      ]
     },
     "execution_count": 12,
     "metadata": {},
     "output_type": "execute_result"
    }
   ],
   "source": [
    "Y = sqrt(H2(Aₙ*PFū)+(L6(ū)-L2(V̄4'*((V̄4*ū).^2 .*(DV̄4*ū)))))"
   ]
  },
  {
   "cell_type": "markdown",
   "id": "1da41ac4",
   "metadata": {},
   "source": [
    "We have\n",
    "$$\\begin{cases}\n",
    "    Z^{11} &= \\|\\mathcal{L}^{1/2}(I_n - A_n P_nDF(\\bar{u})P_n)\\mathcal{L}^{-1/2}\\|_{L^2,L^2}\\\\\n",
    "    Z^{21} &=\\frac{3}{2\\sqrt{\\lambda_{n+1}}}\\|\\mathcal{L}^{-1/2}v\\|_{L^2}\n",
    "\\end{cases}$$"
   ]
  },
  {
   "cell_type": "code",
   "execution_count": 13,
   "id": "92d0bf4c-ff6a-4eea-a9da-63dd877d3a8d",
   "metadata": {},
   "outputs": [
    {
     "data": {
      "text/plain": [
       "[2.89473e-11, 2.89474e-11]_com"
      ]
     },
     "execution_count": 13,
     "metadata": {},
     "output_type": "execute_result"
    }
   ],
   "source": [
    "Z¹¹ = interval(op_norm(𝔏*(interval.(I(n+1)) - Aₙ*DFū)*inv(𝔏)))"
   ]
  },
  {
   "cell_type": "code",
   "execution_count": 14,
   "id": "b8e13393-597b-4c26-8d18-d5da210b8b28",
   "metadata": {},
   "outputs": [
    {
     "data": {
      "text/plain": [
       "[0.0259465, 0.0259466]_com"
      ]
     },
     "execution_count": 14,
     "metadata": {},
     "output_type": "execute_result"
    }
   ],
   "source": [
    "Z²¹ = norm(𝔏\\w)"
   ]
  },
  {
   "cell_type": "markdown",
   "id": "fdb6c93c",
   "metadata": {},
   "source": [
    "Approche 1:\n",
    "For $h \\in H^1_n(\\mu)^{\\perp}$\n",
    "$$\\begin{align*}\n",
    "    \\langle 2 \\bar{u}\\partial_x\\bar{u} h + \\bar{u}^2\\partial_x h,  \\hat{\\psi}_m \\rangle &= \\langle \\partial_x (\\bar{u}^2h), \\hat{\\psi}_m\\rangle\\\\\n",
    "    &=\\int_0^{\\infty}\\partial_x(\\bar{u}^2h)\\hat{\\psi}_m e^{x^2/4}\\mathrm{d} x\\\\\n",
    "    &= \\bar{u}(0)^2h(0)\\hat{\\psi}_m(0) - \\int_0^{\\infty}\\bar{u}^2h\\partial_x(\\hat{\\psi}_m e^{x^2/4})\\mathrm{d} x \\qquad \\mbox{By parts}\\\\\n",
    "\\end{align*}$$\n",
    "\n",
    "Now if\n",
    "\n",
    "$$ h = \\sum_{m = n+1}^{\\infty}a_m \\hat{\\psi}_m$$\n",
    "\n",
    "Then,\n",
    "\n",
    "$$\\begin{align*}\n",
    "    h(0)^2 &= \\left(\\sum_{m = n+1}^{\\infty}a_m \\hat{\\psi}_m(0)\\right)^2\\\\\n",
    "    &=\\left(\\sum_{m = n+1}^{\\infty}\\frac{\\sqrt{\\lambda_m}}{\\sqrt{\\lambda_m}}a_m \\hat{\\psi}_m(0)\\right)^2\\\\\n",
    "    &\\leq\\left(\\sum_{m = n+1}^{\\infty}\\lambda_m a_m^2\\right)\\left(\\sum_{m = n+1}^{\\infty}\\frac{\\hat{\\psi}_m(0)^2}{\\lambda_m}\\right)\\qquad \\mbox{By Cauchy-Schwartz}\\\\\n",
    "    &\\leq\\frac{\\|h\\|_{H^1(\\mu)}^2}{\\Gamma(1/2)^2}\\sum_{m=n+1}^{\\infty}\\frac{\\Gamma(m+1/2)}{(m+1/2)m!}\\\\\n",
    "    &\\leq \\frac{\\|h\\|_{H^1(\\mu)}^2}{\\pi}\\left(\\sum_{m=0}^{\\infty}\\frac{\\Gamma(m+1/2)}{(m+1/2)m!}-\\sum_{m=0}^{n}\\frac{\\Gamma(m+1/2)}{(m+1/2)m!}\\right)\\\\\n",
    "    \\implies h(0)^2 &\\leq \\frac{\\|h\\|_{H^1(\\mu)}^2}{\\pi}\\left(\\pi^{3/2}-\\sum_{m=0}^{n}\\frac{\\Gamma(m+1/2)}{(m+1/2)m!}\\right)\n",
    "\\end{align*}$$\n",
    "\n",
    "Denote\n",
    "\n",
    "$$ S = \\frac{1}{\\pi}\\left(\\pi^{3/2}-\\sum_{m=0}^{n}\\frac{\\Gamma(m+1/2)}{(m+1/2)m!}\\right)$$\n",
    "\n",
    "Now for the \"easy\" part,\n",
    "$$\n",
    "\\begin{align*}\n",
    "        \\left|\\int_0^{\\infty}\\bar{u}^2h\\partial_x(\\hat{\\psi}_m e^{x^2/4})\\mathrm{d} x\\right|&=\\left|\\int_0^{\\infty}\\bar{u}^2h\\left(\\partial_x\\hat{\\psi}_m +\\frac{x}{2}\\hat{\\psi}_m\\right) e^{x^2/4}\\mathrm{d} x\\right|\\\\\n",
    "        &\\leq \\left|\n",
    "        \\left\\langle h, \\bar{u}^2\\left(\\partial_x\\hat{\\psi}_m +\\frac{x}{2}\\hat{\\psi}_m\\right) \\right\\rangle\\right|\\\\\n",
    "        &\\leq \\left|\n",
    "        \\left\\langle h, P_{\\infty}\\left(\\bar{u}^2\\left(\\partial_x\\hat{\\psi}_m +\\frac{x}{2}\\hat{\\psi}_m\\right)\\right) \\right\\rangle\\right|\\\\\n",
    "        &\\leq\\|h\\|_{L^2(\\mu)}\\left\\|P_{\\infty}\\left(\\bar{u}^2\\left(\\partial_x\\hat{\\psi}_m +\\frac{x}{2}\\hat{\\psi}_m\\right)\\right) \\right\\|_{L^2(\\mu)}\\\\\n",
    "        \\implies\\left|\\int_0^{\\infty}\\bar{u}^2h\\partial_x(\\hat{\\psi}_m e^{x^2/4})\\mathrm{d} x\\right|&\\leq\\frac{\\|h\\|_{H^1(\\mu)}}{\\sqrt{\\lambda_{n+1}}}\\left(\\left\\|\\bar{u}^2\\left(\\partial_x\\hat{\\psi}_m +\\frac{x}{2}\\hat{\\psi}_m\\right)\\right\\|_{L^2(\\mu)}^2- \\left\\|P_{n}\\left(\\bar{u}^2\\left(\\partial_x\\hat{\\psi}_m +\\frac{x}{2}\\hat{\\psi}_m\\right)\\right) \\right\\|_{L^2(\\mu)}^2\\right)^{1/2}\n",
    "\\end{align*}\n",
    "$$"
   ]
  },
  {
   "cell_type": "code",
   "execution_count": 15,
   "id": "b35f590b",
   "metadata": {},
   "outputs": [],
   "source": [
    "ψ̂₀ = interval64.(sqrt.([interval(BigFloat,doublefac(2*m-1)//2^m//factorial(m)) for m=0:big(n)]/sqrt(interval(BigFloat,π))));\n",
    "# sup∂ₓψ̂ = (supψ̂ + 2*sqrt.(1 .- 0.5 ./interval.(1:n+1)).*supψ̂)./sqrt(interval(2)*exp(interval(1)));"
   ]
  },
  {
   "cell_type": "code",
   "execution_count": 16,
   "id": "f4f0987c-be03-41ae-a667-127e681cd637",
   "metadata": {},
   "outputs": [],
   "source": [
    "supψ̂ = [interval(BigFloat, (2^(2*k+1)- binomial(2*k, k))*factorial(k)//2^k)/sqrt(interval(BigFloat, factorial(2*k))) for k=0:big(n)]/interval(BigFloat, π)^interval(1//4);"
   ]
  },
  {
   "cell_type": "code",
   "execution_count": 17,
   "id": "6d276e71-7a4b-4e1e-8543-cbdfa496b2c9",
   "metadata": {},
   "outputs": [],
   "source": [
    "sup∂ₓψ̂ = [sqrt(interval((2*k+1)*factorial(2*k+1)//4^k))/interval(factorial(k))*exp(interval(big(-0.5))) for k=0:big(n)]/interval(BigFloat, π)^interval(1//4);"
   ]
  },
  {
   "cell_type": "code",
   "execution_count": 18,
   "id": "0145a7f9-00dc-473c-adb2-9b33fa63711d",
   "metadata": {},
   "outputs": [
    {
     "data": {
      "text/plain": [
       "[1.66592, 1.66593]_com"
      ]
     },
     "execution_count": 18,
     "metadata": {},
     "output_type": "execute_result"
    }
   ],
   "source": [
    "supū = interval64(sum(abs.(ū).*supψ̂))"
   ]
  },
  {
   "cell_type": "code",
   "execution_count": 19,
   "id": "6c088345-4ea2-492f-bca3-8b2b2b6c9803",
   "metadata": {},
   "outputs": [
    {
     "data": {
      "text/plain": [
       "[1.18934, 1.18935]_com"
      ]
     },
     "execution_count": 19,
     "metadata": {},
     "output_type": "execute_result"
    }
   ],
   "source": [
    "sup∂ₓū = interval64(sum(abs.(ū).*sup∂ₓψ̂))"
   ]
  },
  {
   "cell_type": "code",
   "execution_count": 20,
   "id": "e09fae9c",
   "metadata": {},
   "outputs": [
    {
     "data": {
      "text/plain": [
       "[3.64929e-06, 3.6493e-06]₂₅₆_com"
      ]
     },
     "execution_count": 20,
     "metadata": {},
     "output_type": "execute_result"
    }
   ],
   "source": [
    "Sₙ = (interval(pi)*log(interval(4)) - sum([interval(BigFloat, doublefac(2*m-1)//(m+1//2)^2//factorial(m)//2^m) for m=0:big(n)]))/\n",
    "sqrt(interval(π))"
   ]
  },
  {
   "cell_type": "code",
   "execution_count": 21,
   "id": "2626bd17",
   "metadata": {},
   "outputs": [
    {
     "data": {
      "text/plain": [
       "[1.16537, 1.16538]_com"
      ]
     },
     "execution_count": 21,
     "metadata": {},
     "output_type": "execute_result"
    }
   ],
   "source": [
    "ū₀ = sum(ū.*ψ̂₀)"
   ]
  },
  {
   "cell_type": "code",
   "execution_count": 22,
   "id": "b01059c3",
   "metadata": {},
   "outputs": [
    {
     "data": {
      "text/plain": [
       "1×1501 Matrix{Interval{Float64}}:\n",
       " [0.0, 2.81907e-33]_com  [0.198926, 0.198928]_com  …  [11.2245, 11.2246]_com"
      ]
     },
     "execution_count": 22,
     "metadata": {},
     "output_type": "execute_result"
    }
   ],
   "source": [
    "Dint = sum((((V̄6*ū).^2).*(DV̄6+V̄6)).^2, dims = 1)"
   ]
  },
  {
   "cell_type": "code",
   "execution_count": 23,
   "id": "a498779e",
   "metadata": {},
   "outputs": [],
   "source": [
    "DG = V̄4'*(((V̄4*ū).^2).*(V̄4+DV̄4));"
   ]
  },
  {
   "cell_type": "code",
   "execution_count": 24,
   "id": "01006040",
   "metadata": {},
   "outputs": [],
   "source": [
    "w̃ = ū₀^2*sqrt(Sₙ)*ψ̂₀+sqrt.(abs.([Dint[i] - L2(DG[:,i]) for i=1:n+1]))/λₘ;"
   ]
  },
  {
   "cell_type": "code",
   "execution_count": 25,
   "id": "ae73ce6a",
   "metadata": {},
   "outputs": [
    {
     "data": {
      "text/plain": [
       "[0.0339152, 0.0339153]₂₅₆_com"
      ]
     },
     "execution_count": 25,
     "metadata": {},
     "output_type": "execute_result"
    }
   ],
   "source": [
    "Z¹² = norm(abs.(𝔏*interval.(Aₙ)*inv(𝔏))*w̃)"
   ]
  },
  {
   "cell_type": "code",
   "execution_count": 26,
   "id": "51a2ee22",
   "metadata": {},
   "outputs": [
    {
     "data": {
      "text/plain": [
       "[0.0744275, 0.0744276]_com"
      ]
     },
     "execution_count": 26,
     "metadata": {},
     "output_type": "execute_result"
    }
   ],
   "source": [
    "Z²² = (interval(1//4)+interval(2)*supū*sup∂ₓū)/λₘ + supū^2/sqrt(λₘ)"
   ]
  },
  {
   "cell_type": "code",
   "execution_count": 27,
   "id": "9abeef5a",
   "metadata": {},
   "outputs": [
    {
     "data": {
      "text/plain": [
       "[0.0851833, 0.0851835]₂₅₆_com"
      ]
     },
     "execution_count": 27,
     "metadata": {},
     "output_type": "execute_result"
    }
   ],
   "source": [
    "Z₁ = op_norm([Z¹¹ Z¹² ; Z²¹ Z²²])"
   ]
  },
  {
   "cell_type": "code",
   "execution_count": 28,
   "id": "273f3a87",
   "metadata": {},
   "outputs": [
    {
     "data": {
      "text/plain": [
       "2×2 Matrix{Interval{BigFloat}}:\n",
       " [2.89473e-11, 2.89474e-11]₂₅₆_com  [0.0339152, 0.0339153]₂₅₆_com\n",
       " [0.0259465, 0.0259466]₂₅₆_com      [0.0744275, 0.0744276]₂₅₆_com"
      ]
     },
     "execution_count": 28,
     "metadata": {},
     "output_type": "execute_result"
    }
   ],
   "source": [
    "[Z¹¹ Z¹² ; Z²¹ Z²²]"
   ]
  },
  {
   "cell_type": "code",
   "execution_count": 29,
   "id": "30c71348",
   "metadata": {},
   "outputs": [
    {
     "data": {
      "text/plain": [
       "[5.79664, 5.79665]_com"
      ]
     },
     "execution_count": 29,
     "metadata": {},
     "output_type": "execute_result"
    }
   ],
   "source": [
    "op_n = interval(max(op_norm(𝔏*Aₙ*inv(𝔏)), interval(1)))"
   ]
  },
  {
   "cell_type": "code",
   "execution_count": 30,
   "id": "0353f169-0cb5-4b06-8ba6-dc28771af535",
   "metadata": {},
   "outputs": [
    {
     "data": {
      "text/plain": [
       "[276.498, 276.499]_com"
      ]
     },
     "execution_count": 30,
     "metadata": {},
     "output_type": "execute_result"
    }
   ],
   "source": [
    "Z₂ = interval(2)^interval(15//4)*op_n*(sqrt(interval(2))*supū+sup∂ₓū)"
   ]
  },
  {
   "cell_type": "code",
   "execution_count": 31,
   "id": "8a1b5cb5-05d7-4864-979a-fbaeb806ae7a",
   "metadata": {},
   "outputs": [
    {
     "data": {
      "text/plain": [
       "[556.477, 556.479]_com"
      ]
     },
     "execution_count": 31,
     "metadata": {},
     "output_type": "execute_result"
    }
   ],
   "source": [
    "Z₃ = interval(96)*op_n"
   ]
  },
  {
   "cell_type": "code",
   "execution_count": 32,
   "id": "83ae30fb-3d2c-45e0-a846-5bbb5343c156",
   "metadata": {},
   "outputs": [
    {
     "data": {
      "text/plain": [
       "[0.00329762, 0.00329764]₂₅₆_com"
      ]
     },
     "execution_count": 32,
     "metadata": {},
     "output_type": "execute_result"
    }
   ],
   "source": [
    "δ̄ = (-Z₂+sqrt(Z₂^2 +interval(2)*Z₃-interval(2)*Z₁*Z₃))/Z₃"
   ]
  },
  {
   "cell_type": "code",
   "execution_count": 33,
   "id": "1c60767f-e0c9-4b5c-aabc-e961f6d7f516",
   "metadata": {},
   "outputs": [
    {
     "data": {
      "text/plain": [
       "P (generic function with 1 method)"
      ]
     },
     "execution_count": 33,
     "metadata": {},
     "output_type": "execute_result"
    }
   ],
   "source": [
    "P(δ) = Z₃/interval(6)*δ^3 + Z₂/interval(2)*δ^2 - (interval(1) - Z₁)*δ + Y"
   ]
  },
  {
   "cell_type": "code",
   "execution_count": 34,
   "id": "9def19bc-f767-460d-83f8-a1f587592f2a",
   "metadata": {},
   "outputs": [
    {
     "name": "stdout",
     "output_type": "stream",
     "text": [
      "Interval{BigFloat}(0.0009686946188751346249580132344941126720996381250316966663037489298143743563608213, 0.0009686954373860598085795937762800742489889595976452945414849402024166701452210706, com)\n"
     ]
    }
   ],
   "source": [
    "δ̲ = Y/(interval(1)-Z₁)*(interval(1.17163))\n",
    "if sup(P(δ̲))<0\n",
    "    println(δ̲)\n",
    "end"
   ]
  },
  {
   "cell_type": "code",
   "execution_count": 35,
   "id": "1268f0e6-2749-46ed-ae60-487e4d7a7555",
   "metadata": {},
   "outputs": [
    {
     "data": {
      "text/plain": [
       "[0.00325828, 0.0032583]₂₅₆_com"
      ]
     },
     "execution_count": 35,
     "metadata": {},
     "output_type": "execute_result"
    }
   ],
   "source": [
    "inf_err = interval(2)^interval(7//4)*δ̲"
   ]
  },
  {
   "cell_type": "code",
   "execution_count": 36,
   "id": "142b7bac-5f02-4535-ae8d-beb60aa327c7",
   "metadata": {},
   "outputs": [],
   "source": [
    "m = 10\n",
    "supm = inf_err+sum(abs.((supψ̂.*ū)[m+2:end]))\n",
    "Pₘ = zeros(Interval{BigFloat},m+1)\n",
    "for j = 0:m\n",
    "#     println(j)\n",
    "    Lⱼ =  [interval((-1)^i)*interval(BigFloat, binomial(j,i)//factorial(i)) for i=0:j]\n",
    "    Pₘ[1:j+1] += ū[Int64(j+1)]*Lⱼ\n",
    "end"
   ]
  },
  {
   "cell_type": "code",
   "execution_count": 37,
   "id": "35bbf4a2-3607-4ea6-b4ad-8418c85a3727",
   "metadata": {},
   "outputs": [
    {
     "name": "stdout",
     "output_type": "stream",
     "text": [
      "positivity checked\n"
     ]
    }
   ],
   "source": [
    "r₀ = interval(BigFloat,4.0)\n",
    "z = mince(interval(0,r₀.^2/interval(4)), 2000)\n",
    "\n",
    "if all(inf.(evalpoly.(z,tuple(Pₘ)).*exp.(-z).-supm.*exp.(-z/interval(2))).>0) && inf(r₀^2/interval(16)-interval(4)*r₀*((supū+inf_err)*exp(-r₀^2/interval(8)))^2)>0\n",
    "    println(\"positivity checked\")\n",
    "else\n",
    "    println(\"positivity not checked\")\n",
    "end"
   ]
  },
  {
   "cell_type": "code",
   "execution_count": 38,
   "id": "a81adcd9-d93a-481e-a146-1f9a067ff7f8",
   "metadata": {},
   "outputs": [
    {
     "data": {
      "text/plain": [
       "0.0009686954373860598085795937762800742489889595976452945414849402024166701452210706"
      ]
     },
     "execution_count": 38,
     "metadata": {},
     "output_type": "execute_result"
    }
   ],
   "source": [
    "sup(δ̲)"
   ]
  },
  {
   "cell_type": "code",
   "execution_count": 39,
   "id": "06e7f7bf-79aa-4189-9f45-bba2a2218bf4",
   "metadata": {},
   "outputs": [
    {
     "data": {
      "text/plain": [
       "0.0009686954373860599"
      ]
     },
     "execution_count": 39,
     "metadata": {},
     "output_type": "execute_result"
    }
   ],
   "source": [
    "Float64(sup(δ̲), RoundUp)"
   ]
  },
  {
   "cell_type": "code",
   "execution_count": 40,
   "id": "35bf53b8-a6ac-4d38-8c64-1bf87b8fc00b",
   "metadata": {},
   "outputs": [
    {
     "data": {
      "text/plain": [
       "0.000756363923494977343463252505983973605907522141933441162109375"
      ]
     },
     "execution_count": 40,
     "metadata": {},
     "output_type": "execute_result"
    }
   ],
   "source": [
    "big(sup(Y))"
   ]
  },
  {
   "cell_type": "code",
   "execution_count": null,
   "id": "570b5806-5e5d-4bec-a504-2e929d18dfaa",
   "metadata": {},
   "outputs": [],
   "source": [
    "Float64(sup(Y), RoundUp)"
   ]
  },
  {
   "cell_type": "code",
   "execution_count": null,
   "id": "9535c5aa-86e5-4a02-b47a-0f29e030cf24",
   "metadata": {},
   "outputs": [],
   "source": [
    "big(sup(Z₁))"
   ]
  },
  {
   "cell_type": "code",
   "execution_count": null,
   "id": "60f2ef98-4081-444a-8860-91b8ed4e3886",
   "metadata": {},
   "outputs": [],
   "source": [
    "Float64(sup(Z₁), RoundUp)"
   ]
  },
  {
   "cell_type": "code",
   "execution_count": null,
   "id": "2b2059ce-9cd8-4373-81a2-e5cb53da0f6d",
   "metadata": {},
   "outputs": [],
   "source": [
    "big(sup(Z₂))"
   ]
  },
  {
   "cell_type": "code",
   "execution_count": null,
   "id": "c32adeaf-bdc2-4d3c-9564-f57e37d7cb8e",
   "metadata": {},
   "outputs": [],
   "source": [
    "Float64(sup(Z₂), RoundUp)"
   ]
  },
  {
   "cell_type": "code",
   "execution_count": null,
   "id": "1d7b9b10-c3e2-4939-81fb-111f69716de8",
   "metadata": {},
   "outputs": [],
   "source": [
    "big(sup(Z₃))"
   ]
  },
  {
   "cell_type": "code",
   "execution_count": null,
   "id": "65092c96-416f-4328-859c-d388ee372baa",
   "metadata": {},
   "outputs": [],
   "source": [
    "Float64(sup(Z₃), RoundUp)"
   ]
  },
  {
   "cell_type": "code",
   "execution_count": null,
   "id": "32aab923-61ac-4717-967f-d7381d2b921a",
   "metadata": {},
   "outputs": [],
   "source": [
    "big(inf(δ̄))"
   ]
  },
  {
   "cell_type": "code",
   "execution_count": null,
   "id": "c48b419d-9def-483d-a000-b5e5a89423dc",
   "metadata": {},
   "outputs": [],
   "source": [
    "Float64(inf(δ̄), RoundDown)"
   ]
  },
  {
   "cell_type": "markdown",
   "id": "d8a1b96a-dcae-44cc-b3f5-1211f67f28ce",
   "metadata": {},
   "source": [
    "Remove stuff below later"
   ]
  },
  {
   "cell_type": "code",
   "execution_count": null,
   "id": "987e1140",
   "metadata": {},
   "outputs": [],
   "source": [
    "#solution plotting\n",
    "\n",
    "rloc = collect(0:400)/100\n",
    "zloc = rloc.^2/4\n",
    "sol = zeros(length(zloc), Threads.nthreads());\n",
    "indices = shuffle(collect(0:big(n)))\n",
    "Threads.@threads for j in indices\n",
    "    println((j, Threads.threadid()))\n",
    "    dfj = doublefac(2*j-1)\n",
    "    Lⱼ =  Polynomial([(-1)^k*intervalR(dfj//facsp1[k+1]//factorial(j-k)//2^(j-k)) for k=0:j]);\n",
    "    sol[:,Threads.threadid()] .+= (ū[j+1] .* mid.(Lⱼ.(zloc)))/mid(Zs[j+1])\n",
    "end"
   ]
  },
  {
   "cell_type": "code",
   "execution_count": null,
   "id": "14e77d3d",
   "metadata": {},
   "outputs": [],
   "source": [
    "plot(rloc, sum(sol, dims = 2).*exp.(-zloc), xlabel = L\"r\", ylabel = L\"\\bar{u}\", legend = false, dpi =1000)"
   ]
  },
  {
   "cell_type": "code",
   "execution_count": null,
   "id": "400f89a6",
   "metadata": {},
   "outputs": [],
   "source": [
    "png(\"Burger_sol\")"
   ]
  }
 ],
 "metadata": {
  "kernelspec": {
   "display_name": "Julia 1.10.2",
   "language": "julia",
   "name": "julia-1.10"
  },
  "language_info": {
   "file_extension": ".jl",
   "mimetype": "application/julia",
   "name": "julia",
   "version": "1.10.2"
  }
 },
 "nbformat": 4,
 "nbformat_minor": 5
}
